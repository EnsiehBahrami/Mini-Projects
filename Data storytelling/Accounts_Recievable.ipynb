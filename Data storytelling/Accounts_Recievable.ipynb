{
 "cells": [
  {
   "cell_type": "code",
   "execution_count": 1,
   "metadata": {},
   "outputs": [],
   "source": [
    "import pandas as pd\n",
    "import numpy as np\n",
    "import matplotlib.pyplot as plt\n",
    "import seaborn as sns\n"
   ]
  },
  {
   "cell_type": "code",
   "execution_count": 2,
   "metadata": {
    "scrolled": false
   },
   "outputs": [
    {
     "name": "stdout",
     "output_type": "stream",
     "text": [
      "(2466, 12)\n"
     ]
    },
    {
     "data": {
      "text/html": [
       "<div>\n",
       "<style scoped>\n",
       "    .dataframe tbody tr th:only-of-type {\n",
       "        vertical-align: middle;\n",
       "    }\n",
       "\n",
       "    .dataframe tbody tr th {\n",
       "        vertical-align: top;\n",
       "    }\n",
       "\n",
       "    .dataframe thead th {\n",
       "        text-align: right;\n",
       "    }\n",
       "</style>\n",
       "<table border=\"1\" class=\"dataframe\">\n",
       "  <thead>\n",
       "    <tr style=\"text-align: right;\">\n",
       "      <th></th>\n",
       "      <th>countryCode</th>\n",
       "      <th>customerID</th>\n",
       "      <th>PaperlessDate</th>\n",
       "      <th>invoiceNumber</th>\n",
       "      <th>InvoiceDate</th>\n",
       "      <th>DueDate</th>\n",
       "      <th>InvoiceAmount</th>\n",
       "      <th>Disputed</th>\n",
       "      <th>SettledDate</th>\n",
       "      <th>PaperlessBill</th>\n",
       "      <th>DaysToSettle</th>\n",
       "      <th>DaysLate</th>\n",
       "    </tr>\n",
       "  </thead>\n",
       "  <tbody>\n",
       "    <tr>\n",
       "      <th>0</th>\n",
       "      <td>391</td>\n",
       "      <td>0379-NEVHP</td>\n",
       "      <td>4/6/2013</td>\n",
       "      <td>611365</td>\n",
       "      <td>1/2/2013</td>\n",
       "      <td>2/1/2013</td>\n",
       "      <td>55.94</td>\n",
       "      <td>No</td>\n",
       "      <td>1/15/2013</td>\n",
       "      <td>Paper</td>\n",
       "      <td>13</td>\n",
       "      <td>0</td>\n",
       "    </tr>\n",
       "    <tr>\n",
       "      <th>1</th>\n",
       "      <td>406</td>\n",
       "      <td>8976-AMJEO</td>\n",
       "      <td>3/3/2012</td>\n",
       "      <td>7900770</td>\n",
       "      <td>1/26/2013</td>\n",
       "      <td>2/25/2013</td>\n",
       "      <td>61.74</td>\n",
       "      <td>Yes</td>\n",
       "      <td>3/3/2013</td>\n",
       "      <td>Electronic</td>\n",
       "      <td>36</td>\n",
       "      <td>6</td>\n",
       "    </tr>\n",
       "    <tr>\n",
       "      <th>2</th>\n",
       "      <td>391</td>\n",
       "      <td>2820-XGXSB</td>\n",
       "      <td>1/26/2012</td>\n",
       "      <td>9231909</td>\n",
       "      <td>7/3/2013</td>\n",
       "      <td>8/2/2013</td>\n",
       "      <td>65.88</td>\n",
       "      <td>No</td>\n",
       "      <td>7/8/2013</td>\n",
       "      <td>Electronic</td>\n",
       "      <td>5</td>\n",
       "      <td>0</td>\n",
       "    </tr>\n",
       "    <tr>\n",
       "      <th>3</th>\n",
       "      <td>406</td>\n",
       "      <td>9322-YCTQO</td>\n",
       "      <td>4/6/2012</td>\n",
       "      <td>9888306</td>\n",
       "      <td>2/10/2013</td>\n",
       "      <td>3/12/2013</td>\n",
       "      <td>105.92</td>\n",
       "      <td>No</td>\n",
       "      <td>3/17/2013</td>\n",
       "      <td>Electronic</td>\n",
       "      <td>35</td>\n",
       "      <td>5</td>\n",
       "    </tr>\n",
       "    <tr>\n",
       "      <th>4</th>\n",
       "      <td>818</td>\n",
       "      <td>6627-ELFBK</td>\n",
       "      <td>11/26/2012</td>\n",
       "      <td>15752855</td>\n",
       "      <td>10/25/2012</td>\n",
       "      <td>11/24/2012</td>\n",
       "      <td>72.27</td>\n",
       "      <td>Yes</td>\n",
       "      <td>11/28/2012</td>\n",
       "      <td>Paper</td>\n",
       "      <td>34</td>\n",
       "      <td>4</td>\n",
       "    </tr>\n",
       "  </tbody>\n",
       "</table>\n",
       "</div>"
      ],
      "text/plain": [
       "   countryCode  customerID PaperlessDate  invoiceNumber InvoiceDate  \\\n",
       "0          391  0379-NEVHP      4/6/2013         611365    1/2/2013   \n",
       "1          406  8976-AMJEO      3/3/2012        7900770   1/26/2013   \n",
       "2          391  2820-XGXSB     1/26/2012        9231909    7/3/2013   \n",
       "3          406  9322-YCTQO      4/6/2012        9888306   2/10/2013   \n",
       "4          818  6627-ELFBK    11/26/2012       15752855  10/25/2012   \n",
       "\n",
       "      DueDate  InvoiceAmount Disputed SettledDate PaperlessBill  DaysToSettle  \\\n",
       "0    2/1/2013          55.94       No   1/15/2013         Paper            13   \n",
       "1   2/25/2013          61.74      Yes    3/3/2013    Electronic            36   \n",
       "2    8/2/2013          65.88       No    7/8/2013    Electronic             5   \n",
       "3   3/12/2013         105.92       No   3/17/2013    Electronic            35   \n",
       "4  11/24/2012          72.27      Yes  11/28/2012         Paper            34   \n",
       "\n",
       "   DaysLate  \n",
       "0         0  \n",
       "1         6  \n",
       "2         0  \n",
       "3         5  \n",
       "4         4  "
      ]
     },
     "execution_count": 2,
     "metadata": {},
     "output_type": "execute_result"
    }
   ],
   "source": [
    "df = pd.read_csv('WA_Fn-UseC_-Accounts-Receivable.csv')\n",
    "print(df.shape)\n",
    "df.head()"
   ]
  },
  {
   "cell_type": "code",
   "execution_count": 3,
   "metadata": {},
   "outputs": [
    {
     "name": "stdout",
     "output_type": "stream",
     "text": [
      "<class 'pandas.core.frame.DataFrame'>\n",
      "RangeIndex: 2466 entries, 0 to 2465\n",
      "Data columns (total 12 columns):\n",
      " #   Column         Non-Null Count  Dtype  \n",
      "---  ------         --------------  -----  \n",
      " 0   countryCode    2466 non-null   int64  \n",
      " 1   customerID     2466 non-null   object \n",
      " 2   PaperlessDate  2466 non-null   object \n",
      " 3   invoiceNumber  2466 non-null   int64  \n",
      " 4   InvoiceDate    2466 non-null   object \n",
      " 5   DueDate        2466 non-null   object \n",
      " 6   InvoiceAmount  2466 non-null   float64\n",
      " 7   Disputed       2466 non-null   object \n",
      " 8   SettledDate    2466 non-null   object \n",
      " 9   PaperlessBill  2466 non-null   object \n",
      " 10  DaysToSettle   2466 non-null   int64  \n",
      " 11  DaysLate       2466 non-null   int64  \n",
      "dtypes: float64(1), int64(4), object(7)\n",
      "memory usage: 231.3+ KB\n"
     ]
    }
   ],
   "source": [
    "#Review the data set\n",
    "df.info()"
   ]
  },
  {
   "cell_type": "code",
   "execution_count": 4,
   "metadata": {},
   "outputs": [],
   "source": [
    "import requests\n",
    "import pandas_profiling\n",
    "\n",
    "\n",
    "#Create profiling report\n",
    "report = df.profile_report(sort='None', html={'style':{'full_width': True}}, progress_bar=False)\n",
    "\n",
    "#Save report to file\n",
    "report.to_file(output_file= \"accounts_receivable.html\")"
   ]
  },
  {
   "cell_type": "code",
   "execution_count": 5,
   "metadata": {},
   "outputs": [
    {
     "data": {
      "text/plain": [
       "391    0.249797\n",
       "406    0.227494\n",
       "770    0.205191\n",
       "897    0.160584\n",
       "818    0.156934\n",
       "Name: countryCode, dtype: float64"
      ]
     },
     "execution_count": 5,
     "metadata": {},
     "output_type": "execute_result"
    }
   ],
   "source": [
    "#Chech the unique values of countryCode\n",
    "df.countryCode.value_counts(normalize=True)"
   ]
  },
  {
   "cell_type": "code",
   "execution_count": 6,
   "metadata": {},
   "outputs": [
    {
     "data": {
      "text/plain": [
       "countryA    0.249797\n",
       "countryB    0.227494\n",
       "countryC    0.205191\n",
       "countryD    0.160584\n",
       "countryE    0.156934\n",
       "Name: country, dtype: float64"
      ]
     },
     "execution_count": 6,
     "metadata": {},
     "output_type": "execute_result"
    }
   ],
   "source": [
    "#Replace the contrycode with country name and the type to category\n",
    "df.countryCode.replace({391: 'countryA', 406:'countryB' , 770: 'countryC',\\\n",
    "                        897:'countryD' , 818:'countryE'}, inplace=True)\n",
    "df.countryCode = df.countryCode.astype('category')\n",
    "\n",
    "df = df.rename(columns={'countryCode': 'country'})\n",
    "df.country.value_counts(normalize=True)"
   ]
  },
  {
   "cell_type": "markdown",
   "metadata": {},
   "source": [
    "**There are 5 unique county.**"
   ]
  },
  {
   "cell_type": "code",
   "execution_count": 7,
   "metadata": {},
   "outputs": [
    {
     "data": {
      "text/plain": [
       "9149-MATVB    0.014599\n",
       "8887-NCUZC    0.014193\n",
       "4640-FGEJI    0.014193\n",
       "0688-XNJRO    0.013788\n",
       "9286-VLKMI    0.013788\n",
       "                ...   \n",
       "4632-QZOKX    0.006894\n",
       "7245-CKNCN    0.006894\n",
       "3676-CQAIF    0.006894\n",
       "0187-ERLSR    0.006488\n",
       "2621-XCLEH    0.006083\n",
       "Name: customerID, Length: 100, dtype: float64"
      ]
     },
     "execution_count": 7,
     "metadata": {},
     "output_type": "execute_result"
    }
   ],
   "source": [
    "#How many unique customerID are there?\n",
    "df.customerID.value_counts(normalize=True)"
   ]
  },
  {
   "cell_type": "markdown",
   "metadata": {},
   "source": [
    "**There are more than 2400 rows related to 100 unique customerID.**"
   ]
  },
  {
   "cell_type": "code",
   "execution_count": 8,
   "metadata": {},
   "outputs": [
    {
     "data": {
      "text/plain": [
       "country\n",
       "countryA    616\n",
       "countryB    561\n",
       "countryC    506\n",
       "countryD    396\n",
       "countryE    387\n",
       "Name: customerID, dtype: int64"
      ]
     },
     "execution_count": 8,
     "metadata": {},
     "output_type": "execute_result"
    }
   ],
   "source": [
    "#in which countries are customers located?\n",
    "df.groupby('country')['customerID'].count()"
   ]
  },
  {
   "cell_type": "code",
   "execution_count": 9,
   "metadata": {},
   "outputs": [
    {
     "data": {
      "text/html": [
       "<div>\n",
       "<style scoped>\n",
       "    .dataframe tbody tr th:only-of-type {\n",
       "        vertical-align: middle;\n",
       "    }\n",
       "\n",
       "    .dataframe tbody tr th {\n",
       "        vertical-align: top;\n",
       "    }\n",
       "\n",
       "    .dataframe thead th {\n",
       "        text-align: right;\n",
       "    }\n",
       "</style>\n",
       "<table border=\"1\" class=\"dataframe\">\n",
       "  <thead>\n",
       "    <tr style=\"text-align: right;\">\n",
       "      <th></th>\n",
       "      <th>customerID</th>\n",
       "      <th>country</th>\n",
       "    </tr>\n",
       "  </thead>\n",
       "  <tbody>\n",
       "    <tr>\n",
       "      <th>0</th>\n",
       "      <td>9928-IJYBQ</td>\n",
       "      <td>1</td>\n",
       "    </tr>\n",
       "    <tr>\n",
       "      <th>1</th>\n",
       "      <td>5148-SYKLB</td>\n",
       "      <td>1</td>\n",
       "    </tr>\n",
       "    <tr>\n",
       "      <th>2</th>\n",
       "      <td>3569-VJWXS</td>\n",
       "      <td>1</td>\n",
       "    </tr>\n",
       "    <tr>\n",
       "      <th>3</th>\n",
       "      <td>3598-DNURW</td>\n",
       "      <td>1</td>\n",
       "    </tr>\n",
       "    <tr>\n",
       "      <th>4</th>\n",
       "      <td>3676-CQAIF</td>\n",
       "      <td>1</td>\n",
       "    </tr>\n",
       "  </tbody>\n",
       "</table>\n",
       "</div>"
      ],
      "text/plain": [
       "   customerID  country\n",
       "0  9928-IJYBQ        1\n",
       "1  5148-SYKLB        1\n",
       "2  3569-VJWXS        1\n",
       "3  3598-DNURW        1\n",
       "4  3676-CQAIF        1"
      ]
     },
     "execution_count": 9,
     "metadata": {},
     "output_type": "execute_result"
    }
   ],
   "source": [
    "#Check number of customerID in countries\n",
    "customer_by_country= df.groupby(['customerID','country'])['Disputed'].count().reset_index()\n",
    "customer_by_country = customer_by_country[customer_by_country.Disputed > 0]\n",
    "n_customer_in_country= customer_by_country.groupby('customerID')['country'].count().sort_values(ascending= False).reset_index()\n",
    "n_customer_in_country.head()"
   ]
  },
  {
   "cell_type": "markdown",
   "metadata": {},
   "source": [
    "**Each customer located in one country.**"
   ]
  },
  {
   "cell_type": "code",
   "execution_count": 10,
   "metadata": {},
   "outputs": [
    {
     "data": {
      "image/png": "[encoded data removed]",
      "text/plain": [
       "<Figure size 576x360 with 1 Axes>"
      ]
     },
     "metadata": {
      "needs_background": "light"
     },
     "output_type": "display_data"
    }
   ],
   "source": [
    "#Plot percentage of customerID in countries\n",
    "customer_by_country = customer_by_country .groupby('country')['customerID'].count().reset_index()\n",
    "customer_by_country.columns= ['country','n_customers']\n",
    "customer_by_country['pct_customers']= round(100* customer_by_country['n_customers'] \n",
    "                                            / (customer_by_country['n_customers'].sum()),2)\n",
    "\n",
    "\n",
    "\n",
    "plt.figure(figsize=(8,5))\n",
    "\n",
    "bars= plt.bar(x=customer_by_country['country'], height= customer_by_country['pct_customers']\\\n",
    "             , width= 0.5, align='center', linewidth=0)\n",
    "plt.title('Where Our Customers Located?', fontsize=18, color='red')\n",
    "\n",
    "#remove all the ticks on both axes, and tick labels on the Y axis\n",
    "plt.tick_params (top='off', bottom='off', left=False , right=False, labelleft= False, labelbottom='on',\n",
    "                labelsize= 13)\n",
    "\n",
    "\n",
    "#direct label each bar with Y axis values\n",
    "for bar in bars:\n",
    "    plt.gca().text( bar.get_x() + bar.get_width()/2 , bar.get_height()-1.8,\n",
    "                   str(int(bar.get_height())) + '%', ha='center', color='yellow', fontsize=15) \n",
    "\n",
    "#remove frame of the chart\n",
    "for spine in plt.gca().spines.values():\n",
    "    spine.set_visible (False)\n",
    "    \n",
    "plt.show()"
   ]
  },
  {
   "cell_type": "code",
   "execution_count": 11,
   "metadata": {},
   "outputs": [
    {
     "data": {
      "text/plain": [
       "2466"
      ]
     },
     "execution_count": 11,
     "metadata": {},
     "output_type": "execute_result"
    }
   ],
   "source": [
    "#Is the invoice number as the unique ID?\n",
    "len(df.invoiceNumber.unique())"
   ]
  },
  {
   "cell_type": "markdown",
   "metadata": {},
   "source": [
    "**invoiceNumber is a unique ID for each invoice as an entity.**"
   ]
  },
  {
   "cell_type": "code",
   "execution_count": 12,
   "metadata": {},
   "outputs": [
    {
     "data": {
      "text/plain": [
       "No     0.772506\n",
       "Yes    0.227494\n",
       "Name: Disputed, dtype: float64"
      ]
     },
     "execution_count": 12,
     "metadata": {},
     "output_type": "execute_result"
    }
   ],
   "source": [
    "#Check the values of Disputed column\n",
    "df.Disputed.value_counts(normalize=True)"
   ]
  },
  {
   "cell_type": "code",
   "execution_count": 13,
   "metadata": {},
   "outputs": [
    {
     "data": {
      "text/plain": [
       "0    0.772506\n",
       "1    0.227494\n",
       "Name: Disputed, dtype: float64"
      ]
     },
     "execution_count": 13,
     "metadata": {},
     "output_type": "execute_result"
    }
   ],
   "source": [
    "df.Disputed.replace({'Yes': 1, 'No':0}, inplace= True)\n",
    "df.Disputed.value_counts(normalize= True)"
   ]
  },
  {
   "cell_type": "code",
   "execution_count": 14,
   "metadata": {},
   "outputs": [
    {
     "data": {
      "image/png": "[encoded data removed]",
      "text/plain": [
       "<Figure size 432x288 with 1 Axes>"
      ]
     },
     "metadata": {
      "needs_background": "light"
     },
     "output_type": "display_data"
    },
    {
     "data": {
      "image/png": "[encoded data removed]",
      "text/plain": [
       "<Figure size 432x288 with 1 Axes>"
      ]
     },
     "metadata": {
      "needs_background": "light"
     },
     "output_type": "display_data"
    }
   ],
   "source": [
    "#Check the distribution of invoice amount\n",
    "df.InvoiceAmount.hist(bins=30)\n",
    "mean= round(df.InvoiceAmount.mean())\n",
    "plt.axvline(df['InvoiceAmount'].mean(), linestyle= 'dashed', color='red', label='Mean: {} $'.format(mean))\n",
    "plt.title('Distribution of Invoce Amount')\n",
    "plt.show()\n",
    "\n",
    "sns.boxplot(df.Disputed , df.InvoiceAmount)\n",
    "plt.ylabel('Invoice Amount', fontsize=13)\n",
    "plt.xlabel('Disputed', fontsize=13)\n",
    "plt.xticks([0,1],['No', 'Yes'])\n",
    "plt.show()"
   ]
  },
  {
   "cell_type": "markdown",
   "metadata": {},
   "source": [
    "**Invoice amount has normal distribution. Mean of Invoice amount of disputed invoices is higher than not disputed ones.**"
   ]
  },
  {
   "cell_type": "code",
   "execution_count": 15,
   "metadata": {
    "scrolled": false
   },
   "outputs": [
    {
     "data": {
      "image/png": "[encoded data removed]",
      "text/plain": [
       "<Figure size 1080x360 with 1 Axes>"
      ]
     },
     "metadata": {
      "needs_background": "light"
     },
     "output_type": "display_data"
    },
    {
     "data": {
      "image/png": "[encoded data removed]",
      "text/plain": [
       "<Figure size 576x360 with 1 Axes>"
      ]
     },
     "metadata": {
      "needs_background": "light"
     },
     "output_type": "display_data"
    }
   ],
   "source": [
    "fig = plt.figure(figsize=(15,5))\n",
    "sns.violinplot(x= df.country, y= df.InvoiceAmount)\n",
    "plt.xticks(fontsize=13)\n",
    "plt.xlabel('')\n",
    "plt.ylabel('Invoice Amount', fontsize=13)\n",
    "plt.title('Invoice Amount in Different Countries',fontsize=18, color='red')\n",
    "txt = '''Higher mean of invoice amount in countryB and countryE \\n\\n'''\n",
    "fig.text(0.1,-0.15,txt, fontsize=15, color= 'purple')\n",
    "plt.show()\n",
    "\n",
    "#DO the countries with higher invoice amount have higher number of disputed invoices?\n",
    "country_disputed = df.groupby(['country'])['Disputed'].sum().reset_index().sort_values(by='Disputed',ascending= False)\n",
    "country_disputed['percentage'] = round(100*country_disputed['Disputed'] / (country_disputed['Disputed'].sum()),2)\n",
    "\n",
    "\n",
    "fig = plt.figure(figsize=(8,5))\n",
    "bars = plt.bar(x= country_disputed.country, height= country_disputed['percentage']\\\n",
    "              , width= 0.5, align='center', linewidth=0)\n",
    "plt.xticks(fontsize=12)\n",
    "plt.title('Number of Disputed Invoices', fontsize=18, color='red')\n",
    "txt = '''Higher number of dispted invoices in countryB and countryE'''\n",
    "fig.text(0.1,-0.1,txt, fontsize=15, color='purple')\n",
    "\n",
    "\n",
    "#remove all the ticks on both axes, and tick labels on the Y axis\n",
    "plt.tick_params (top='off', bottom='off', left=False , right=False, labelleft= False, labelbottom='on',\n",
    "                labelsize= 13)\n",
    "\n",
    "\n",
    "#direct label each bar with Y axis values\n",
    "for bar in bars:\n",
    "    plt.gca().text( bar.get_x() + bar.get_width()/2 , bar.get_height()-6,\n",
    "                   str(int(bar.get_height())) + '%', ha='center', color='yellow', fontsize=15) \n",
    "\n",
    "#remove frame of the chart\n",
    "for spine in plt.gca().spines.values():\n",
    "    spine.set_visible (False)\n",
    "\n",
    "\n",
    "plt.show()"
   ]
  },
  {
   "cell_type": "code",
   "execution_count": 16,
   "metadata": {
    "scrolled": true
   },
   "outputs": [
    {
     "data": {
      "text/html": [
       "<div>\n",
       "<style scoped>\n",
       "    .dataframe tbody tr th:only-of-type {\n",
       "        vertical-align: middle;\n",
       "    }\n",
       "\n",
       "    .dataframe tbody tr th {\n",
       "        vertical-align: top;\n",
       "    }\n",
       "\n",
       "    .dataframe thead th {\n",
       "        text-align: right;\n",
       "    }\n",
       "</style>\n",
       "<table border=\"1\" class=\"dataframe\">\n",
       "  <thead>\n",
       "    <tr style=\"text-align: right;\">\n",
       "      <th></th>\n",
       "      <th>country</th>\n",
       "      <th>customerID</th>\n",
       "      <th>PaperlessDate</th>\n",
       "      <th>invoiceNumber</th>\n",
       "      <th>InvoiceDate</th>\n",
       "      <th>DueDate</th>\n",
       "      <th>InvoiceAmount</th>\n",
       "      <th>Disputed</th>\n",
       "      <th>SettledDate</th>\n",
       "      <th>PaperlessBill</th>\n",
       "      <th>DaysToSettle</th>\n",
       "      <th>DaysLate</th>\n",
       "    </tr>\n",
       "  </thead>\n",
       "  <tbody>\n",
       "    <tr>\n",
       "      <th>5</th>\n",
       "      <td>countryE</td>\n",
       "      <td>5148-SYKLB</td>\n",
       "      <td>8/28/2013</td>\n",
       "      <td>18104516</td>\n",
       "      <td>1/27/2012</td>\n",
       "      <td>2/26/2012</td>\n",
       "      <td>94.00</td>\n",
       "      <td>1</td>\n",
       "      <td>2/22/2012</td>\n",
       "      <td>Paper</td>\n",
       "      <td>26</td>\n",
       "      <td>0</td>\n",
       "    </tr>\n",
       "    <tr>\n",
       "      <th>18</th>\n",
       "      <td>countryE</td>\n",
       "      <td>3568-JJMFW</td>\n",
       "      <td>1/9/2012</td>\n",
       "      <td>52765186</td>\n",
       "      <td>10/20/2013</td>\n",
       "      <td>11/19/2013</td>\n",
       "      <td>96.23</td>\n",
       "      <td>1</td>\n",
       "      <td>11/9/2013</td>\n",
       "      <td>Electronic</td>\n",
       "      <td>20</td>\n",
       "      <td>0</td>\n",
       "    </tr>\n",
       "    <tr>\n",
       "      <th>55</th>\n",
       "      <td>countryD</td>\n",
       "      <td>6177-VTITE</td>\n",
       "      <td>10/26/2012</td>\n",
       "      <td>195359114</td>\n",
       "      <td>8/29/2012</td>\n",
       "      <td>9/28/2012</td>\n",
       "      <td>56.26</td>\n",
       "      <td>1</td>\n",
       "      <td>9/21/2012</td>\n",
       "      <td>Paper</td>\n",
       "      <td>23</td>\n",
       "      <td>0</td>\n",
       "    </tr>\n",
       "    <tr>\n",
       "      <th>82</th>\n",
       "      <td>countryB</td>\n",
       "      <td>4092-ZAVRG</td>\n",
       "      <td>5/19/2012</td>\n",
       "      <td>291694356</td>\n",
       "      <td>2/27/2013</td>\n",
       "      <td>3/29/2013</td>\n",
       "      <td>69.65</td>\n",
       "      <td>1</td>\n",
       "      <td>3/11/2013</td>\n",
       "      <td>Electronic</td>\n",
       "      <td>12</td>\n",
       "      <td>0</td>\n",
       "    </tr>\n",
       "    <tr>\n",
       "      <th>91</th>\n",
       "      <td>countryB</td>\n",
       "      <td>5284-DJOZO</td>\n",
       "      <td>9/11/2012</td>\n",
       "      <td>321937283</td>\n",
       "      <td>5/25/2013</td>\n",
       "      <td>6/24/2013</td>\n",
       "      <td>72.85</td>\n",
       "      <td>1</td>\n",
       "      <td>6/8/2013</td>\n",
       "      <td>Electronic</td>\n",
       "      <td>14</td>\n",
       "      <td>0</td>\n",
       "    </tr>\n",
       "  </tbody>\n",
       "</table>\n",
       "</div>"
      ],
      "text/plain": [
       "     country  customerID PaperlessDate  invoiceNumber InvoiceDate     DueDate  \\\n",
       "5   countryE  5148-SYKLB     8/28/2013       18104516   1/27/2012   2/26/2012   \n",
       "18  countryE  3568-JJMFW      1/9/2012       52765186  10/20/2013  11/19/2013   \n",
       "55  countryD  6177-VTITE    10/26/2012      195359114   8/29/2012   9/28/2012   \n",
       "82  countryB  4092-ZAVRG     5/19/2012      291694356   2/27/2013   3/29/2013   \n",
       "91  countryB  5284-DJOZO     9/11/2012      321937283   5/25/2013   6/24/2013   \n",
       "\n",
       "    InvoiceAmount  Disputed SettledDate PaperlessBill  DaysToSettle  DaysLate  \n",
       "5           94.00         1   2/22/2012         Paper            26         0  \n",
       "18          96.23         1   11/9/2013    Electronic            20         0  \n",
       "55          56.26         1   9/21/2012         Paper            23         0  \n",
       "82          69.65         1   3/11/2013    Electronic            12         0  \n",
       "91          72.85         1    6/8/2013    Electronic            14         0  "
      ]
     },
     "execution_count": 16,
     "metadata": {},
     "output_type": "execute_result"
    }
   ],
   "source": [
    "#What does mean when DaysLate is zero? \n",
    "df[(df.DaysLate == 0) & (df.Disputed == 1)].head()"
   ]
  },
  {
   "cell_type": "markdown",
   "metadata": {},
   "source": [
    "**The disputed invoices might been paid before due date, it means that the disputed invoices are not necessarily lately paid.**"
   ]
  },
  {
   "cell_type": "code",
   "execution_count": 17,
   "metadata": {},
   "outputs": [
    {
     "data": {
      "text/html": [
       "<div>\n",
       "<style scoped>\n",
       "    .dataframe tbody tr th:only-of-type {\n",
       "        vertical-align: middle;\n",
       "    }\n",
       "\n",
       "    .dataframe tbody tr th {\n",
       "        vertical-align: top;\n",
       "    }\n",
       "\n",
       "    .dataframe thead th {\n",
       "        text-align: right;\n",
       "    }\n",
       "</style>\n",
       "<table border=\"1\" class=\"dataframe\">\n",
       "  <thead>\n",
       "    <tr style=\"text-align: right;\">\n",
       "      <th></th>\n",
       "      <th>country</th>\n",
       "      <th>customerID</th>\n",
       "      <th>PaperlessDate</th>\n",
       "      <th>invoiceNumber</th>\n",
       "      <th>InvoiceDate</th>\n",
       "      <th>DueDate</th>\n",
       "      <th>InvoiceAmount</th>\n",
       "      <th>Disputed</th>\n",
       "      <th>SettledDate</th>\n",
       "      <th>PaperlessBill</th>\n",
       "      <th>DaysToSettle</th>\n",
       "      <th>DaysLate</th>\n",
       "    </tr>\n",
       "  </thead>\n",
       "  <tbody>\n",
       "    <tr>\n",
       "      <th>2</th>\n",
       "      <td>countryA</td>\n",
       "      <td>2820-XGXSB</td>\n",
       "      <td>1/26/2012</td>\n",
       "      <td>9231909</td>\n",
       "      <td>7/3/2013</td>\n",
       "      <td>8/2/2013</td>\n",
       "      <td>65.88</td>\n",
       "      <td>0</td>\n",
       "      <td>7/8/2013</td>\n",
       "      <td>Electronic</td>\n",
       "      <td>5</td>\n",
       "      <td>0</td>\n",
       "    </tr>\n",
       "    <tr>\n",
       "      <th>6</th>\n",
       "      <td>countryD</td>\n",
       "      <td>8690-EEBEO</td>\n",
       "      <td>12/5/2012</td>\n",
       "      <td>23864272</td>\n",
       "      <td>8/13/2013</td>\n",
       "      <td>9/12/2013</td>\n",
       "      <td>74.69</td>\n",
       "      <td>0</td>\n",
       "      <td>9/9/2013</td>\n",
       "      <td>Electronic</td>\n",
       "      <td>27</td>\n",
       "      <td>0</td>\n",
       "    </tr>\n",
       "    <tr>\n",
       "      <th>8</th>\n",
       "      <td>countryC</td>\n",
       "      <td>3831-FXWYK</td>\n",
       "      <td>3/8/2013</td>\n",
       "      <td>28049695</td>\n",
       "      <td>5/14/2012</td>\n",
       "      <td>6/13/2012</td>\n",
       "      <td>80.07</td>\n",
       "      <td>1</td>\n",
       "      <td>7/1/2012</td>\n",
       "      <td>Paper</td>\n",
       "      <td>48</td>\n",
       "      <td>18</td>\n",
       "    </tr>\n",
       "    <tr>\n",
       "      <th>9</th>\n",
       "      <td>countryD</td>\n",
       "      <td>7654-DOLHO</td>\n",
       "      <td>4/4/2012</td>\n",
       "      <td>32277701</td>\n",
       "      <td>7/1/2013</td>\n",
       "      <td>7/31/2013</td>\n",
       "      <td>48.33</td>\n",
       "      <td>0</td>\n",
       "      <td>7/26/2013</td>\n",
       "      <td>Electronic</td>\n",
       "      <td>25</td>\n",
       "      <td>0</td>\n",
       "    </tr>\n",
       "    <tr>\n",
       "      <th>10</th>\n",
       "      <td>countryC</td>\n",
       "      <td>3993-QUNVJ</td>\n",
       "      <td>12/31/2012</td>\n",
       "      <td>35868002</td>\n",
       "      <td>3/31/2012</td>\n",
       "      <td>4/30/2012</td>\n",
       "      <td>75.33</td>\n",
       "      <td>0</td>\n",
       "      <td>4/16/2012</td>\n",
       "      <td>Paper</td>\n",
       "      <td>16</td>\n",
       "      <td>0</td>\n",
       "    </tr>\n",
       "  </tbody>\n",
       "</table>\n",
       "</div>"
      ],
      "text/plain": [
       "     country  customerID PaperlessDate  invoiceNumber InvoiceDate    DueDate  \\\n",
       "2   countryA  2820-XGXSB     1/26/2012        9231909    7/3/2013   8/2/2013   \n",
       "6   countryD  8690-EEBEO     12/5/2012       23864272   8/13/2013  9/12/2013   \n",
       "8   countryC  3831-FXWYK      3/8/2013       28049695   5/14/2012  6/13/2012   \n",
       "9   countryD  7654-DOLHO      4/4/2012       32277701    7/1/2013  7/31/2013   \n",
       "10  countryC  3993-QUNVJ    12/31/2012       35868002   3/31/2012  4/30/2012   \n",
       "\n",
       "    InvoiceAmount  Disputed SettledDate PaperlessBill  DaysToSettle  DaysLate  \n",
       "2           65.88         0    7/8/2013    Electronic             5         0  \n",
       "6           74.69         0    9/9/2013    Electronic            27         0  \n",
       "8           80.07         1    7/1/2012         Paper            48        18  \n",
       "9           48.33         0   7/26/2013    Electronic            25         0  \n",
       "10          75.33         0   4/16/2012         Paper            16         0  "
      ]
     },
     "execution_count": 17,
     "metadata": {},
     "output_type": "execute_result"
    }
   ],
   "source": [
    "df[df.PaperlessDate <= df.InvoiceDate].head()"
   ]
  },
  {
   "cell_type": "markdown",
   "metadata": {},
   "source": [
    "**Paperless invoices might be issued before invoice date.**"
   ]
  },
  {
   "cell_type": "code",
   "execution_count": 18,
   "metadata": {},
   "outputs": [
    {
     "data": {
      "image/png": "[encoded data removed]",
      "text/plain": [
       "<Figure size 432x288 with 1 Axes>"
      ]
     },
     "metadata": {
      "needs_background": "light"
     },
     "output_type": "display_data"
    }
   ],
   "source": [
    "#Encode PaperlessBill column into binary\n",
    "electronic_bill = pd.get_dummies(df.PaperlessBill, drop_first= True, prefix='bill')\n",
    "df = df.join(electronic_bill)\n",
    "df = df.drop('PaperlessBill', axis=1)\n",
    "paperless_table = round(df.bill_Paper.value_counts(normalize=True),2).reset_index()\n",
    "\n",
    "paperless_table.columns= ['PaperBill', 'Percentage']\n",
    "\n",
    "\n",
    "fig= plt.figure()\n",
    "bars = plt.bar(x= paperless_table['PaperBill'], \\\n",
    "                height= 100 * paperless_table['Percentage'],\\\n",
    "               width= 0.5, align='center', linewidth=0)\n",
    "\n",
    "plt.xticks([0,1], ['Electronic','Paper'])\n",
    "plt.title('% of Paper and Electronic Bills', fontsize=15, color='red')\n",
    "\n",
    "\n",
    "#remove all the ticks on both axes, and tick labels on the Y axis\n",
    "plt.tick_params (top='off', bottom='off', left=False , right=False, labelleft= False, labelbottom='on',\n",
    "                labelsize= 13)\n",
    "\n",
    "\n",
    "#direct label each bar with Y axis values\n",
    "for bar in bars:\n",
    "    plt.gca().text( bar.get_x() + bar.get_width()/2 , bar.get_height()-5.,\n",
    "                   str(int(bar.get_height())) + '%', ha='center', color='yellow', fontsize=15) \n",
    "\n",
    "#remove frame of the chart\n",
    "for spine in plt.gca().spines.values():\n",
    "    spine.set_visible (False)\n",
    "\n",
    "\n",
    "\n",
    "plt.show()"
   ]
  },
  {
   "cell_type": "code",
   "execution_count": 19,
   "metadata": {},
   "outputs": [],
   "source": [
    "#Convert the data type of dates from object to datetime\n",
    "import datetime\n",
    "df.PaperlessDate = pd.to_datetime(df.PaperlessDate)\n",
    "df.InvoiceDate = pd.to_datetime(df.InvoiceDate)\n",
    "df.DueDate = pd.to_datetime(df.DueDate)\n",
    "df.SettledDate = pd.to_datetime(df.SettledDate)"
   ]
  },
  {
   "cell_type": "code",
   "execution_count": 20,
   "metadata": {
    "scrolled": false
   },
   "outputs": [
    {
     "data": {
      "image/png": "[encoded data removed]",
      "text/plain": [
       "<Figure size 432x288 with 1 Axes>"
      ]
     },
     "metadata": {
      "needs_background": "light"
     },
     "output_type": "display_data"
    }
   ],
   "source": [
    "#Were paperless bills issued before due date?\n",
    "df['paperless_befor_invoicing'] = df[['PaperlessDate','InvoiceDate']].apply(\n",
    "                                    lambda x: 1 if (x[0] < x[1])  else 0, axis=1)\n",
    "    \n",
    "                   \n",
    "paperless_invoice_table = round(100* df['paperless_befor_invoicing'].value_counts(normalize=True)).reset_index()\n",
    "paperless_invoice_table.columns= ['Paperless before Invoicing', 'Percentage']\n",
    "\n",
    "\n",
    "fig= plt.figure()\n",
    "bars = plt.bar(x= paperless_invoice_table['Paperless before Invoicing'], \\\n",
    "                height= paperless_invoice_table['Percentage'],\\\n",
    "               width= 0.5, align='center', linewidth=0, color= 'pink')\n",
    "\n",
    "plt.xticks([0,1], ['After Invoice Date','Before Invoice Date'])\n",
    "plt.title('% of Paperless Invoice Issued', fontsize=15,color='red')\n",
    "\n",
    "\n",
    "#remove all the ticks on both axes, and tick labels on the Y axis\n",
    "plt.tick_params (top='off', bottom='off', left=False , right=False, labelleft= False, labelbottom='on',\n",
    "                labelsize= 13)\n",
    "\n",
    "\n",
    "#direct label each bar with Y axis values\n",
    "for bar in bars:\n",
    "    plt.gca().text( bar.get_x() + bar.get_width()/2 , bar.get_height()-5,\n",
    "                   str(int(bar.get_height())) + '%', ha='center', color='green', fontsize=15) \n",
    "\n",
    "#remove frame of the chart\n",
    "for spine in plt.gca().spines.values():\n",
    "    spine.set_visible (False)\n",
    "\n",
    "\n",
    "\n",
    "txt= '''Only 49% paperless invoices were issued before invoice date '''\n",
    "fig.text(0.1,-0.1,txt, fontsize=15, color= 'purple')\n",
    "\n",
    "plt.show() "
   ]
  },
  {
   "cell_type": "code",
   "execution_count": 21,
   "metadata": {},
   "outputs": [
    {
     "data": {
      "text/plain": [
       "30 days    1.0\n",
       "dtype: float64"
      ]
     },
     "execution_count": 21,
     "metadata": {},
     "output_type": "execute_result"
    }
   ],
   "source": [
    "#When were invoices issued?\n",
    "diff_invoicedate_duedate = df[['InvoiceDate','DueDate']].apply(lambda x: x[1] - x[0], axis=1)\n",
    "diff_invoicedate_duedate.value_counts(normalize=True)"
   ]
  },
  {
   "cell_type": "markdown",
   "metadata": {},
   "source": [
    "**All invoces were issued 30 days before due date.**"
   ]
  },
  {
   "cell_type": "code",
   "execution_count": 26,
   "metadata": {},
   "outputs": [
    {
     "data": {
      "image/png": "[encoded data removed]",
      "text/plain": [
       "<Figure size 432x288 with 1 Axes>"
      ]
     },
     "metadata": {
      "needs_background": "light"
     },
     "output_type": "display_data"
    }
   ],
   "source": [
    "plt.hist(df.DaysLate, bins=30)\n",
    "mean= round(df.DaysLate.mean(),2)\n",
    "plt.axvline(mean,linestyle='dashed',label= 'Mean: {} Days'.format(mean), color='red')\n",
    "plt.title('Distribution of Days Late', fontsize= 18,color= 'red')\n",
    "plt.xlabel('Days',fontsize=13)\n",
    "plt.legend()\n",
    "plt.show()"
   ]
  },
  {
   "cell_type": "code",
   "execution_count": 27,
   "metadata": {},
   "outputs": [
    {
     "data": {
      "image/png": "[encoded data removed]",
      "text/plain": [
       "<Figure size 720x360 with 1 Axes>"
      ]
     },
     "metadata": {
      "needs_background": "light"
     },
     "output_type": "display_data"
    }
   ],
   "source": [
    "#Lets check how many days are there between paperlessBill and invoicing\n",
    "#Were paperless bills issued before due date?\n",
    "df['days_paperless_to_invoiceDate'] = df[['PaperlessDate' , 'InvoiceDate']].apply(\n",
    "                                        lambda x: pd.Timedelta(x[1]-x[0], 'D').days,axis=1)\n",
    "\n",
    "\n",
    "fig = plt.figure(figsize=(10,5))\n",
    "df['days_paperless_to_invoiceDate'].hist(bins=30, color='lightblue')\n",
    "txt= '''On average, paperless invoices were sent to customers 5 days after invoice date'''\n",
    "fig.text(0.1,-0,txt, fontsize=15, color='red')\n",
    "mean = round(df['days_paperless_to_invoiceDate'].mean(), 2)\n",
    "plt.axvline(mean, linestyle='dashed', color= 'red', label= 'mean: {} days'.format(mean))\n",
    "plt.title('Distribution of Days between Paperless Invoice and Invoice Date', fontsize=15)\n",
    "plt.legend()\n",
    "\n",
    "plt.show()\n"
   ]
  },
  {
   "cell_type": "code",
   "execution_count": 28,
   "metadata": {},
   "outputs": [
    {
     "data": {
      "text/plain": [
       "0"
      ]
     },
     "execution_count": 28,
     "metadata": {},
     "output_type": "execute_result"
    }
   ],
   "source": [
    "#Check if DaysToSettle is days between Invoince Date and SettledDate\n",
    "days_invoicing_settled = df[['InvoiceDate','SettledDate']].apply(lambda x: pd.Timedelta(x[1]-x[0], 'D').days, axis=1)\n",
    "(days_invoicing_settled != df.DaysToSettle).sum()"
   ]
  },
  {
   "cell_type": "markdown",
   "metadata": {},
   "source": [
    "**DaysToSettle is days between invoice date and settle date.**"
   ]
  },
  {
   "cell_type": "code",
   "execution_count": 29,
   "metadata": {},
   "outputs": [
    {
     "data": {
      "image/png": "[encoded data removed]",
      "text/plain": [
       "<Figure size 720x360 with 1 Axes>"
      ]
     },
     "metadata": {
      "needs_background": "light"
     },
     "output_type": "display_data"
    }
   ],
   "source": [
    "fig = plt.figure(figsize=(10,5))\n",
    "plt.hist(df.DaysToSettle, bins=20)\n",
    "plt.title('Distribution of Days between Invoice Date and Settled Date(DaysToSettle)')\n",
    "mean = round(df.DaysToSettle.mean(),1)\n",
    "plt.axvline(mean, linestyle='dashed', color='red', label= 'mean: {} days'.format(mean))\n",
    "plt.legend()\n",
    "txt = '''On average, 26 days after the invoice date, an ivoice was setteled down'''\n",
    "fig.text(0.1, 0, txt, fontsize=14, color= 'red')\n",
    "plt.show()"
   ]
  },
  {
   "cell_type": "code",
   "execution_count": 30,
   "metadata": {},
   "outputs": [
    {
     "data": {
      "text/plain": [
       "Index(['country', 'customerID', 'PaperlessDate', 'invoiceNumber',\n",
       "       'InvoiceDate', 'DueDate', 'InvoiceAmount', 'Disputed', 'SettledDate',\n",
       "       'DaysToSettle', 'DaysLate', 'bill_Paper', 'paperless_befor_invoicing',\n",
       "       'days_paperless_to_invoiceDate'],\n",
       "      dtype='object')"
      ]
     },
     "execution_count": 30,
     "metadata": {},
     "output_type": "execute_result"
    }
   ],
   "source": [
    "df.columns"
   ]
  },
  {
   "cell_type": "markdown",
   "metadata": {},
   "source": [
    "**DaysLate is part of DaysToSettle, so they are highly correlated. So, I have to drop DaysLate.**\n",
    "\n",
    "**Also, 'paperlessbill before invoicing' and 'days_paperlessbill_to_invoicing' are calculated based on PaperlessDate and invoic date.**"
   ]
  },
  {
   "cell_type": "code",
   "execution_count": 31,
   "metadata": {},
   "outputs": [],
   "source": [
    "df = df.drop(['PaperlessDate', 'invoiceNumber','SettledDate','DaysLate'], axis=1)"
   ]
  },
  {
   "cell_type": "code",
   "execution_count": 32,
   "metadata": {},
   "outputs": [
    {
     "data": {
      "image/png": "[encoded data removed]",
      "text/plain": [
       "<Figure size 576x576 with 2 Axes>"
      ]
     },
     "metadata": {
      "needs_background": "light"
     },
     "output_type": "display_data"
    }
   ],
   "source": [
    "plt.figure(figsize=(8,8))\n",
    "matrix = np.triu(df.corr())\n",
    "sns.heatmap(df.corr(),cmap='BrBG', mask= matrix, annot= True)\n",
    "plt.show()"
   ]
  },
  {
   "cell_type": "code",
   "execution_count": 33,
   "metadata": {},
   "outputs": [
    {
     "data": {
      "text/html": [
       "<div>\n",
       "<style scoped>\n",
       "    .dataframe tbody tr th:only-of-type {\n",
       "        vertical-align: middle;\n",
       "    }\n",
       "\n",
       "    .dataframe tbody tr th {\n",
       "        vertical-align: top;\n",
       "    }\n",
       "\n",
       "    .dataframe thead th {\n",
       "        text-align: right;\n",
       "    }\n",
       "</style>\n",
       "<table border=\"1\" class=\"dataframe\">\n",
       "  <thead>\n",
       "    <tr style=\"text-align: right;\">\n",
       "      <th></th>\n",
       "      <th>country</th>\n",
       "      <th>customerID</th>\n",
       "      <th>InvoiceAmount</th>\n",
       "      <th>Disputed</th>\n",
       "      <th>DaysToSettle</th>\n",
       "      <th>bill_Paper</th>\n",
       "      <th>paperless_befor_invoicing</th>\n",
       "      <th>days_paperless_to_invoiceDate</th>\n",
       "      <th>InvoiceDate_year</th>\n",
       "      <th>InvoiceDate_month</th>\n",
       "      <th>duedate_year</th>\n",
       "      <th>duedate_month</th>\n",
       "    </tr>\n",
       "  </thead>\n",
       "  <tbody>\n",
       "    <tr>\n",
       "      <th>0</th>\n",
       "      <td>countryA</td>\n",
       "      <td>0379-NEVHP</td>\n",
       "      <td>55.94</td>\n",
       "      <td>0</td>\n",
       "      <td>13</td>\n",
       "      <td>1</td>\n",
       "      <td>0</td>\n",
       "      <td>-94</td>\n",
       "      <td>2013</td>\n",
       "      <td>1</td>\n",
       "      <td>2013</td>\n",
       "      <td>2</td>\n",
       "    </tr>\n",
       "    <tr>\n",
       "      <th>1</th>\n",
       "      <td>countryB</td>\n",
       "      <td>8976-AMJEO</td>\n",
       "      <td>61.74</td>\n",
       "      <td>1</td>\n",
       "      <td>36</td>\n",
       "      <td>0</td>\n",
       "      <td>1</td>\n",
       "      <td>329</td>\n",
       "      <td>2013</td>\n",
       "      <td>1</td>\n",
       "      <td>2013</td>\n",
       "      <td>2</td>\n",
       "    </tr>\n",
       "    <tr>\n",
       "      <th>2</th>\n",
       "      <td>countryA</td>\n",
       "      <td>2820-XGXSB</td>\n",
       "      <td>65.88</td>\n",
       "      <td>0</td>\n",
       "      <td>5</td>\n",
       "      <td>0</td>\n",
       "      <td>1</td>\n",
       "      <td>524</td>\n",
       "      <td>2013</td>\n",
       "      <td>7</td>\n",
       "      <td>2013</td>\n",
       "      <td>8</td>\n",
       "    </tr>\n",
       "    <tr>\n",
       "      <th>3</th>\n",
       "      <td>countryB</td>\n",
       "      <td>9322-YCTQO</td>\n",
       "      <td>105.92</td>\n",
       "      <td>0</td>\n",
       "      <td>35</td>\n",
       "      <td>0</td>\n",
       "      <td>1</td>\n",
       "      <td>310</td>\n",
       "      <td>2013</td>\n",
       "      <td>2</td>\n",
       "      <td>2013</td>\n",
       "      <td>3</td>\n",
       "    </tr>\n",
       "    <tr>\n",
       "      <th>4</th>\n",
       "      <td>countryE</td>\n",
       "      <td>6627-ELFBK</td>\n",
       "      <td>72.27</td>\n",
       "      <td>1</td>\n",
       "      <td>34</td>\n",
       "      <td>1</td>\n",
       "      <td>0</td>\n",
       "      <td>-32</td>\n",
       "      <td>2012</td>\n",
       "      <td>10</td>\n",
       "      <td>2012</td>\n",
       "      <td>11</td>\n",
       "    </tr>\n",
       "  </tbody>\n",
       "</table>\n",
       "</div>"
      ],
      "text/plain": [
       "    country  customerID  InvoiceAmount  Disputed  DaysToSettle  bill_Paper  \\\n",
       "0  countryA  0379-NEVHP          55.94         0            13           1   \n",
       "1  countryB  8976-AMJEO          61.74         1            36           0   \n",
       "2  countryA  2820-XGXSB          65.88         0             5           0   \n",
       "3  countryB  9322-YCTQO         105.92         0            35           0   \n",
       "4  countryE  6627-ELFBK          72.27         1            34           1   \n",
       "\n",
       "   paperless_befor_invoicing  days_paperless_to_invoiceDate  InvoiceDate_year  \\\n",
       "0                          0                            -94              2013   \n",
       "1                          1                            329              2013   \n",
       "2                          1                            524              2013   \n",
       "3                          1                            310              2013   \n",
       "4                          0                            -32              2012   \n",
       "\n",
       "   InvoiceDate_month  duedate_year  duedate_month  \n",
       "0                  1          2013              2  \n",
       "1                  1          2013              2  \n",
       "2                  7          2013              8  \n",
       "3                  2          2013              3  \n",
       "4                 10          2012             11  "
      ]
     },
     "execution_count": 33,
     "metadata": {},
     "output_type": "execute_result"
    }
   ],
   "source": [
    "#Extract year and monthe of each date\n",
    "df['InvoiceDate_year'] = df.InvoiceDate.apply(lambda x: x.year)\n",
    "df['InvoiceDate_month'] = df.InvoiceDate.apply(lambda x: x.month)\n",
    "\n",
    "df['duedate_year'] = df.DueDate.apply(lambda x: x.year)\n",
    "df['duedate_month'] = df.DueDate.apply(lambda x: x.month)\n",
    "\n",
    "df = df.drop(['DueDate','InvoiceDate'], axis= 1)\n",
    "df.head()"
   ]
  },
  {
   "cell_type": "code",
   "execution_count": 34,
   "metadata": {},
   "outputs": [
    {
     "name": "stdout",
     "output_type": "stream",
     "text": [
      "Range of Years:\n",
      "Invoice Date: 2012 - 2013\n",
      "Due Date: 2012 - 2014\n"
     ]
    }
   ],
   "source": [
    "#Check the range of the year\n",
    "print('Range of Years:')\n",
    "print('Invoice Date:', df.InvoiceDate_year.min(),'-',df.InvoiceDate_year.max())\n",
    "print('Due Date:', df.duedate_year.min(),'-', df.duedate_year.max())"
   ]
  },
  {
   "cell_type": "markdown",
   "metadata": {},
   "source": [
    "**Paper and paperless invoices were issued in years between 2012 and 2013.**\n",
    "\n",
    "**Due date of invoices are between 2012 and 2014.** "
   ]
  },
  {
   "cell_type": "code",
   "execution_count": 35,
   "metadata": {},
   "outputs": [
    {
     "data": {
      "text/html": [
       "<div>\n",
       "<style scoped>\n",
       "    .dataframe tbody tr th:only-of-type {\n",
       "        vertical-align: middle;\n",
       "    }\n",
       "\n",
       "    .dataframe tbody tr th {\n",
       "        vertical-align: top;\n",
       "    }\n",
       "\n",
       "    .dataframe thead th {\n",
       "        text-align: right;\n",
       "    }\n",
       "</style>\n",
       "<table border=\"1\" class=\"dataframe\">\n",
       "  <thead>\n",
       "    <tr style=\"text-align: right;\">\n",
       "      <th></th>\n",
       "      <th>country</th>\n",
       "      <th>customerID</th>\n",
       "      <th>InvoiceAmount</th>\n",
       "      <th>Disputed</th>\n",
       "      <th>DaysToSettle</th>\n",
       "      <th>bill_Paper</th>\n",
       "      <th>paperless_befor_invoicing</th>\n",
       "      <th>days_paperless_to_invoiceDate</th>\n",
       "      <th>InvoiceDate_year</th>\n",
       "      <th>InvoiceDate_month</th>\n",
       "      <th>duedate_year</th>\n",
       "      <th>duedate_month</th>\n",
       "    </tr>\n",
       "  </thead>\n",
       "  <tbody>\n",
       "    <tr>\n",
       "      <th>0</th>\n",
       "      <td>countryA</td>\n",
       "      <td>0379-NEVHP</td>\n",
       "      <td>55.94</td>\n",
       "      <td>0</td>\n",
       "      <td>13</td>\n",
       "      <td>1</td>\n",
       "      <td>0</td>\n",
       "      <td>-94</td>\n",
       "      <td>2013</td>\n",
       "      <td>1</td>\n",
       "      <td>2013</td>\n",
       "      <td>2</td>\n",
       "    </tr>\n",
       "    <tr>\n",
       "      <th>1</th>\n",
       "      <td>countryB</td>\n",
       "      <td>8976-AMJEO</td>\n",
       "      <td>61.74</td>\n",
       "      <td>1</td>\n",
       "      <td>36</td>\n",
       "      <td>0</td>\n",
       "      <td>1</td>\n",
       "      <td>329</td>\n",
       "      <td>2013</td>\n",
       "      <td>1</td>\n",
       "      <td>2013</td>\n",
       "      <td>2</td>\n",
       "    </tr>\n",
       "    <tr>\n",
       "      <th>2</th>\n",
       "      <td>countryA</td>\n",
       "      <td>2820-XGXSB</td>\n",
       "      <td>65.88</td>\n",
       "      <td>0</td>\n",
       "      <td>5</td>\n",
       "      <td>0</td>\n",
       "      <td>1</td>\n",
       "      <td>524</td>\n",
       "      <td>2013</td>\n",
       "      <td>7</td>\n",
       "      <td>2013</td>\n",
       "      <td>8</td>\n",
       "    </tr>\n",
       "    <tr>\n",
       "      <th>3</th>\n",
       "      <td>countryB</td>\n",
       "      <td>9322-YCTQO</td>\n",
       "      <td>105.92</td>\n",
       "      <td>0</td>\n",
       "      <td>35</td>\n",
       "      <td>0</td>\n",
       "      <td>1</td>\n",
       "      <td>310</td>\n",
       "      <td>2013</td>\n",
       "      <td>2</td>\n",
       "      <td>2013</td>\n",
       "      <td>3</td>\n",
       "    </tr>\n",
       "    <tr>\n",
       "      <th>4</th>\n",
       "      <td>countryE</td>\n",
       "      <td>6627-ELFBK</td>\n",
       "      <td>72.27</td>\n",
       "      <td>1</td>\n",
       "      <td>34</td>\n",
       "      <td>1</td>\n",
       "      <td>0</td>\n",
       "      <td>-32</td>\n",
       "      <td>2012</td>\n",
       "      <td>10</td>\n",
       "      <td>2012</td>\n",
       "      <td>11</td>\n",
       "    </tr>\n",
       "  </tbody>\n",
       "</table>\n",
       "</div>"
      ],
      "text/plain": [
       "    country  customerID  InvoiceAmount  Disputed  DaysToSettle  bill_Paper  \\\n",
       "0  countryA  0379-NEVHP          55.94         0            13           1   \n",
       "1  countryB  8976-AMJEO          61.74         1            36           0   \n",
       "2  countryA  2820-XGXSB          65.88         0             5           0   \n",
       "3  countryB  9322-YCTQO         105.92         0            35           0   \n",
       "4  countryE  6627-ELFBK          72.27         1            34           1   \n",
       "\n",
       "   paperless_befor_invoicing  days_paperless_to_invoiceDate  InvoiceDate_year  \\\n",
       "0                          0                            -94              2013   \n",
       "1                          1                            329              2013   \n",
       "2                          1                            524              2013   \n",
       "3                          1                            310              2013   \n",
       "4                          0                            -32              2012   \n",
       "\n",
       "   InvoiceDate_month  duedate_year  duedate_month  \n",
       "0                  1          2013              2  \n",
       "1                  1          2013              2  \n",
       "2                  7          2013              8  \n",
       "3                  2          2013              3  \n",
       "4                 10          2012             11  "
      ]
     },
     "execution_count": 35,
     "metadata": {},
     "output_type": "execute_result"
    }
   ],
   "source": [
    "df.head()"
   ]
  },
  {
   "cell_type": "code",
   "execution_count": 36,
   "metadata": {},
   "outputs": [],
   "source": [
    "#Encoding country\n",
    "#encoded_country= pd.get_dummies(df.country, drop_first= False)\n",
    "#df = df.join(encoded_country).drop('country', axis=1)\n",
    "\n",
    "#Encoding year of invoice date\n",
    "encoded_InvoiceDate_year= pd.get_dummies(df.InvoiceDate_year, drop_first= False, prefix='date')\n",
    "df= df.join(encoded_InvoiceDate_year).drop('InvoiceDate_year', axis=1)\n",
    "\n",
    "#Encoding year of due date\n",
    "encoded_duedate_year= pd.get_dummies(df.duedate_year, drop_first= False, prefix='due')\n",
    "df= df.join(encoded_duedate_year).drop('duedate_year', axis=1)\n",
    "\n",
    "#Encoding month od invoice date\n",
    "encoded_InvoiceDate_month= pd.get_dummies(df.InvoiceDate_month, drop_first= True, prefix='date_M')\n",
    "df= df.join(encoded_InvoiceDate_month).drop('InvoiceDate_month', axis=1)\n",
    "\n",
    "#Encoding month of duedate \n",
    "encoded_duedate_month= pd.get_dummies(df.duedate_month, drop_first= True, prefix='due_M')\n",
    "df= df.join(encoded_duedate_month).drop('duedate_month', axis=1)"
   ]
  },
  {
   "cell_type": "code",
   "execution_count": 37,
   "metadata": {},
   "outputs": [],
   "source": [
    "#Encode categorical features\n",
    "from sklearn.preprocessing import LabelEncoder\n",
    "\n",
    "def label_encod(df_column):\n",
    "    df_column = LabelEncoder().fit_transform(df_column)\n",
    "    return df_column\n",
    "\n",
    "\n",
    "df['customerID']= label_encod(df['customerID'])\n",
    "df['country']= label_encod(df['country'])\n"
   ]
  },
  {
   "cell_type": "markdown",
   "metadata": {},
   "source": [
    "# Modeling"
   ]
  },
  {
   "cell_type": "code",
   "execution_count": 38,
   "metadata": {},
   "outputs": [],
   "source": [
    "y = df['DaysToSettle']\n",
    "X = df.drop('DaysToSettle', axis=1)"
   ]
  },
  {
   "cell_type": "code",
   "execution_count": 39,
   "metadata": {},
   "outputs": [],
   "source": [
    "#Split data into train and test set\n",
    "from sklearn.model_selection import train_test_split\n",
    "X_train, X_test, y_train, y_test = train_test_split(X, y, test_size= 0.3, random_state= 42)\n"
   ]
  },
  {
   "cell_type": "markdown",
   "metadata": {},
   "source": [
    "## 1. RandomizedSearchCV - RandomForest Regressor  "
   ]
  },
  {
   "cell_type": "markdown",
   "metadata": {},
   "source": [
    "### 1.1. Build and Find Tuned Model"
   ]
  },
  {
   "cell_type": "code",
   "execution_count": 40,
   "metadata": {},
   "outputs": [
    {
     "data": {
      "text/plain": [
       "{'n_estimators': 275, 'max_depth': None, 'criterion': 'mse'}"
      ]
     },
     "execution_count": 40,
     "metadata": {},
     "output_type": "execute_result"
    }
   ],
   "source": [
    "import random \n",
    "from sklearn.ensemble import RandomForestRegressor\n",
    "from sklearn.model_selection import RandomizedSearchCV\n",
    "\n",
    "\n",
    "#Instantiat RandomForest Regression model\n",
    "rf_reg = RandomForestRegressor()\n",
    "\n",
    "#Create the RandomizedSearchCV object\n",
    "\n",
    "params_dis= {'n_estimators': list(range(100, 300, 25)),\n",
    "             'max_depth': [5, None],\n",
    "             'criterion': ['mse', 'mae']\n",
    "            }\n",
    "\n",
    "\n",
    "\n",
    "rf_rand_search = RandomizedSearchCV(estimator = rf_reg, param_distributions = params_dis, \\\n",
    "                                    refit= True, n_iter = 10, n_jobs=-1, cv= 5)\n",
    "\n",
    "\n",
    "#Fit the RandomizedSearchCV object to the train set\n",
    "rf_rand_search.fit(X_train, y_train)\n",
    "\n",
    "#Predict on test set using best estimator \n",
    "rf_rand_search.best_params_"
   ]
  },
  {
   "cell_type": "markdown",
   "metadata": {},
   "source": [
    "### 1.2. Prediction"
   ]
  },
  {
   "cell_type": "code",
   "execution_count": 41,
   "metadata": {},
   "outputs": [
    {
     "name": "stdout",
     "output_type": "stream",
     "text": [
      "Tuned RandomForestRegressor:\n",
      "\n",
      "Accuracy: 0.64\n",
      "Score on test set: 0.62\n",
      "Root of Mean Squared Error: 7.27\n",
      "Mean Absolute Error: 5.57 Days\n"
     ]
    }
   ],
   "source": [
    "from sklearn.metrics import mean_squared_error\n",
    "from sklearn.metrics import mean_absolute_error\n",
    "\n",
    "#Predict on test set using best estimator \n",
    "y_pred = rf_rand_search.best_estimator_.predict(X_test)\n",
    "\n",
    "#Compute performance metrics of best estimator\n",
    "accuracy= round(rf_rand_search.best_score_ , 2)\n",
    "r2 = round(rf_rand_search.best_estimator_.score(X_test, y_test) , 2)\n",
    "mse = round(np.sqrt(mean_squared_error(y_test, y_pred)), 2)\n",
    "mae = round(mean_absolute_error(y_test, y_pred), 2)\n",
    "\n",
    "\n",
    "print('Tuned RandomForestRegressor:\\n')\n",
    "print('Accuracy:',accuracy)\n",
    "print('Score on test set:', r2)\n",
    "print('Root of Mean Squared Error: {}'.format(mse))\n",
    "print('Mean Absolute Error: {} Days'. format(mae))"
   ]
  },
  {
   "cell_type": "markdown",
   "metadata": {},
   "source": [
    "### 1.3. Feature Importance"
   ]
  },
  {
   "cell_type": "code",
   "execution_count": 42,
   "metadata": {},
   "outputs": [
    {
     "data": {
      "image/png": "[encoded data removed]",
      "text/plain": [
       "<Figure size 1296x432 with 1 Axes>"
      ]
     },
     "metadata": {
      "needs_background": "light"
     },
     "output_type": "display_data"
    }
   ],
   "source": [
    "feature_impotances= pd.Series(rf_rand_search.best_estimator_.feature_importances_,\\\n",
    "                              index= X.columns).sort_values(ascending= False)\n",
    "\n",
    "\n",
    "fig= plt.figure(figsize=(18,6))\n",
    "bars= plt.bar(x= feature_impotances.index, \n",
    "              height= 100*feature_impotances,\n",
    "             width=0.9,\n",
    "             align= 'center')\n",
    "\n",
    "plt.xticks(rotation= 90,fontsize=13)\n",
    "plt.title('Most Important Features in RandomForest', fontsize= 20, color= 'red')\n",
    "\n",
    "\n",
    "#direct label each bar with Y axis values\n",
    "for bar in bars:\n",
    "    plt.gca().text( bar.get_x() + bar.get_width()/2 , bar.get_height(),\n",
    "                   '{:.1f}'.format(bar.get_height()), ha='center', color='red', fontsize=12) \n",
    "\n",
    "#remove all the ticks on both axes, and tick labels on the Y axis\n",
    "plt.tick_params (top='off', bottom='off', left=False , right=False, labelleft= False, labelbottom='off')\n",
    "\n",
    "#remove frame of the chart\n",
    "for spine in plt.gca().spines.values():\n",
    "    spine.set_visible (False)\n",
    "    \n",
    "txt= '''1) CustomerID\\n2) Whether the invoice is disputed or not\\n3) Days between issuing paperless invoice and invoice date\\\n",
    "\\n4) Invoice amount\\n5) Country'''\n",
    "fig.text(0.1,-0.7,txt, fontsize=16, color= 'purple')\n",
    "\n",
    "\n",
    "plt.show()"
   ]
  },
  {
   "cell_type": "markdown",
   "metadata": {},
   "source": [
    "## 2. Bayesian Optimization- RandomForest Regressor"
   ]
  },
  {
   "cell_type": "markdown",
   "metadata": {},
   "source": [
    "Source: https://tech.ovoenergy.com/bayesian-optimisation/"
   ]
  },
  {
   "cell_type": "code",
   "execution_count": 43,
   "metadata": {},
   "outputs": [],
   "source": [
    "from bayes_opt import BayesianOptimization\n",
    "from sklearn.model_selection import cross_val_score\n",
    "\n",
    "\n",
    "#General function for building a model\n",
    "def rf_cv(X, y, **kwargs):\n",
    "    estimator = RandomForestRegressor(**kwargs)\n",
    "    cval = cross_val_score(estimator, X, y, scoring = 'neg_mean_squared_error', cv = 4, verbose = 2, n_jobs = -1)\n",
    "    return cval.mean()\n",
    "\n",
    "\n",
    "def bayesian_optimise_rf(X, y, n_iter = 100):\n",
    "    def rf_crossval(n_estimators, max_features):\n",
    "        #Wrapper of RandomForest cross validation.\n",
    "        #Note the fixing of the inputs so they match the expected type\n",
    "        #(e.g n_estimators must be an integer)\n",
    "        return rf_cv(\n",
    "            X = X,\n",
    "            y = y,\n",
    "            n_estimators = int(n_estimators),\n",
    "            max_features = max(min(max_features, 0.999), 1e-3),\n",
    "            bootstrap = True\n",
    "        )\n",
    "    \n",
    "    optimizer = BayesianOptimization(\n",
    "        f = rf_crossval,\n",
    "        pbounds = {\n",
    "            \"n_estimators\" : (10, 400),\n",
    "            \"max_features\" : (0.1, 0.999),\n",
    "        }\n",
    "    )\n",
    "    optimizer.maximize(n_iter = n_iter)\n",
    "    print(\"Final result:\", optimizer.max)"
   ]
  },
  {
   "cell_type": "code",
   "execution_count": 44,
   "metadata": {},
   "outputs": [
    {
     "name": "stderr",
     "output_type": "stream",
     "text": [
      "[Parallel(n_jobs=-1)]: Using backend LokyBackend with 8 concurrent workers.\n",
      "[Parallel(n_jobs=-1)]: Done   4 out of   4 | elapsed:    2.8s remaining:    0.0s\n",
      "[Parallel(n_jobs=-1)]: Done   4 out of   4 | elapsed:    2.8s finished\n"
     ]
    },
    {
     "data": {
      "text/plain": [
       "-51.70735523400829"
      ]
     },
     "execution_count": 44,
     "metadata": {},
     "output_type": "execute_result"
    }
   ],
   "source": [
    "rf_cv(X, y)"
   ]
  },
  {
   "cell_type": "code",
   "execution_count": 45,
   "metadata": {
    "scrolled": false
   },
   "outputs": [
    {
     "name": "stderr",
     "output_type": "stream",
     "text": [
      "[Parallel(n_jobs=-1)]: Using backend LokyBackend with 8 concurrent workers.\n"
     ]
    },
    {
     "name": "stdout",
     "output_type": "stream",
     "text": [
      "|   iter    |  target   | max_fe... | n_esti... |\n",
      "-------------------------------------------------\n"
     ]
    },
    {
     "name": "stderr",
     "output_type": "stream",
     "text": [
      "[Parallel(n_jobs=-1)]: Done   4 out of   4 | elapsed:    1.2s remaining:    0.0s\n",
      "[Parallel(n_jobs=-1)]: Done   4 out of   4 | elapsed:    1.2s finished\n",
      "[Parallel(n_jobs=-1)]: Using backend LokyBackend with 8 concurrent workers.\n"
     ]
    },
    {
     "name": "stdout",
     "output_type": "stream",
     "text": [
      "| \u001b[0m 1       \u001b[0m | \u001b[0m-74.02   \u001b[0m | \u001b[0m 0.2808  \u001b[0m | \u001b[0m 96.87   \u001b[0m |\n"
     ]
    },
    {
     "name": "stderr",
     "output_type": "stream",
     "text": [
      "[Parallel(n_jobs=-1)]: Done   4 out of   4 | elapsed:    3.5s remaining:    0.0s\n",
      "[Parallel(n_jobs=-1)]: Done   4 out of   4 | elapsed:    3.5s finished\n",
      "[Parallel(n_jobs=-1)]: Using backend LokyBackend with 8 concurrent workers.\n"
     ]
    },
    {
     "name": "stdout",
     "output_type": "stream",
     "text": [
      "| \u001b[0m 2       \u001b[0m | \u001b[0m-74.7    \u001b[0m | \u001b[0m 0.2415  \u001b[0m | \u001b[0m 283.3   \u001b[0m |\n"
     ]
    },
    {
     "name": "stderr",
     "output_type": "stream",
     "text": [
      "[Parallel(n_jobs=-1)]: Done   4 out of   4 | elapsed:    1.6s remaining:    0.0s\n",
      "[Parallel(n_jobs=-1)]: Done   4 out of   4 | elapsed:    1.6s finished\n",
      "[Parallel(n_jobs=-1)]: Using backend LokyBackend with 8 concurrent workers.\n"
     ]
    },
    {
     "name": "stdout",
     "output_type": "stream",
     "text": [
      "| \u001b[0m 3       \u001b[0m | \u001b[0m-86.94   \u001b[0m | \u001b[0m 0.1447  \u001b[0m | \u001b[0m 162.4   \u001b[0m |\n"
     ]
    },
    {
     "name": "stderr",
     "output_type": "stream",
     "text": [
      "[Parallel(n_jobs=-1)]: Done   4 out of   4 | elapsed:    3.1s remaining:    0.0s\n",
      "[Parallel(n_jobs=-1)]: Done   4 out of   4 | elapsed:    3.1s finished\n",
      "[Parallel(n_jobs=-1)]: Using backend LokyBackend with 8 concurrent workers.\n"
     ]
    },
    {
     "name": "stdout",
     "output_type": "stream",
     "text": [
      "| \u001b[95m 4       \u001b[0m | \u001b[95m-73.08   \u001b[0m | \u001b[95m 0.2919  \u001b[0m | \u001b[95m 239.1   \u001b[0m |\n"
     ]
    },
    {
     "name": "stderr",
     "output_type": "stream",
     "text": [
      "[Parallel(n_jobs=-1)]: Done   4 out of   4 | elapsed:    0.1s remaining:    0.0s\n",
      "[Parallel(n_jobs=-1)]: Done   4 out of   4 | elapsed:    0.1s finished\n",
      "[Parallel(n_jobs=-1)]: Using backend LokyBackend with 8 concurrent workers.\n"
     ]
    },
    {
     "name": "stdout",
     "output_type": "stream",
     "text": [
      "| \u001b[0m 5       \u001b[0m | \u001b[0m-97.28   \u001b[0m | \u001b[0m 0.1018  \u001b[0m | \u001b[0m 19.84   \u001b[0m |\n"
     ]
    },
    {
     "name": "stderr",
     "output_type": "stream",
     "text": [
      "[Parallel(n_jobs=-1)]: Done   4 out of   4 | elapsed:    4.0s remaining:    0.0s\n",
      "[Parallel(n_jobs=-1)]: Done   4 out of   4 | elapsed:    4.0s finished\n",
      "[Parallel(n_jobs=-1)]: Using backend LokyBackend with 8 concurrent workers.\n"
     ]
    },
    {
     "name": "stdout",
     "output_type": "stream",
     "text": [
      "| \u001b[95m 6       \u001b[0m | \u001b[95m-64.2    \u001b[0m | \u001b[95m 0.4694  \u001b[0m | \u001b[95m 240.5   \u001b[0m |\n"
     ]
    },
    {
     "name": "stderr",
     "output_type": "stream",
     "text": [
      "[Parallel(n_jobs=-1)]: Done   4 out of   4 | elapsed:    2.3s remaining:    0.0s\n",
      "[Parallel(n_jobs=-1)]: Done   4 out of   4 | elapsed:    2.3s finished\n",
      "[Parallel(n_jobs=-1)]: Using backend LokyBackend with 8 concurrent workers.\n"
     ]
    },
    {
     "name": "stdout",
     "output_type": "stream",
     "text": [
      "| \u001b[0m 7       \u001b[0m | \u001b[0m-91.43   \u001b[0m | \u001b[0m 0.1102  \u001b[0m | \u001b[0m 242.5   \u001b[0m |\n"
     ]
    },
    {
     "name": "stderr",
     "output_type": "stream",
     "text": [
      "[Parallel(n_jobs=-1)]: Done   4 out of   4 | elapsed:    6.5s remaining:    0.0s\n",
      "[Parallel(n_jobs=-1)]: Done   4 out of   4 | elapsed:    6.5s finished\n",
      "[Parallel(n_jobs=-1)]: Using backend LokyBackend with 8 concurrent workers.\n"
     ]
    },
    {
     "name": "stdout",
     "output_type": "stream",
     "text": [
      "| \u001b[95m 8       \u001b[0m | \u001b[95m-51.57   \u001b[0m | \u001b[95m 0.999   \u001b[0m | \u001b[95m 240.0   \u001b[0m |\n"
     ]
    },
    {
     "name": "stderr",
     "output_type": "stream",
     "text": [
      "[Parallel(n_jobs=-1)]: Done   4 out of   4 | elapsed:    6.5s remaining:    0.0s\n",
      "[Parallel(n_jobs=-1)]: Done   4 out of   4 | elapsed:    6.5s finished\n",
      "[Parallel(n_jobs=-1)]: Using backend LokyBackend with 8 concurrent workers.\n"
     ]
    },
    {
     "name": "stdout",
     "output_type": "stream",
     "text": [
      "| \u001b[0m 9       \u001b[0m | \u001b[0m-52.24   \u001b[0m | \u001b[0m 0.9474  \u001b[0m | \u001b[0m 240.7   \u001b[0m |\n"
     ]
    },
    {
     "name": "stderr",
     "output_type": "stream",
     "text": [
      "[Parallel(n_jobs=-1)]: Done   4 out of   4 | elapsed:    4.0s remaining:    0.0s\n",
      "[Parallel(n_jobs=-1)]: Done   4 out of   4 | elapsed:    4.0s finished\n",
      "[Parallel(n_jobs=-1)]: Using backend LokyBackend with 8 concurrent workers.\n"
     ]
    },
    {
     "name": "stdout",
     "output_type": "stream",
     "text": [
      "| \u001b[0m 10      \u001b[0m | \u001b[0m-83.57   \u001b[0m | \u001b[0m 0.1684  \u001b[0m | \u001b[0m 377.1   \u001b[0m |\n"
     ]
    },
    {
     "name": "stderr",
     "output_type": "stream",
     "text": [
      "[Parallel(n_jobs=-1)]: Done   4 out of   4 | elapsed:    1.3s remaining:    0.0s\n",
      "[Parallel(n_jobs=-1)]: Done   4 out of   4 | elapsed:    1.3s finished\n",
      "[Parallel(n_jobs=-1)]: Using backend LokyBackend with 8 concurrent workers.\n"
     ]
    },
    {
     "name": "stdout",
     "output_type": "stream",
     "text": [
      "| \u001b[0m 11      \u001b[0m | \u001b[0m-69.97   \u001b[0m | \u001b[0m 0.3505  \u001b[0m | \u001b[0m 93.85   \u001b[0m |\n"
     ]
    },
    {
     "name": "stderr",
     "output_type": "stream",
     "text": [
      "[Parallel(n_jobs=-1)]: Done   4 out of   4 | elapsed:    2.2s remaining:    0.0s\n",
      "[Parallel(n_jobs=-1)]: Done   4 out of   4 | elapsed:    2.2s finished\n",
      "[Parallel(n_jobs=-1)]: Using backend LokyBackend with 8 concurrent workers.\n"
     ]
    },
    {
     "name": "stdout",
     "output_type": "stream",
     "text": [
      "| \u001b[0m 12      \u001b[0m | \u001b[0m-54.03   \u001b[0m | \u001b[0m 0.8451  \u001b[0m | \u001b[0m 91.92   \u001b[0m |\n"
     ]
    },
    {
     "name": "stderr",
     "output_type": "stream",
     "text": [
      "[Parallel(n_jobs=-1)]: Done   4 out of   4 | elapsed:    0.8s remaining:    0.0s\n",
      "[Parallel(n_jobs=-1)]: Done   4 out of   4 | elapsed:    0.8s finished\n",
      "[Parallel(n_jobs=-1)]: Using backend LokyBackend with 8 concurrent workers.\n"
     ]
    },
    {
     "name": "stdout",
     "output_type": "stream",
     "text": [
      "| \u001b[0m 13      \u001b[0m | \u001b[0m-91.9    \u001b[0m | \u001b[0m 0.1     \u001b[0m | \u001b[0m 91.12   \u001b[0m |\n"
     ]
    },
    {
     "name": "stderr",
     "output_type": "stream",
     "text": [
      "[Parallel(n_jobs=-1)]: Done   4 out of   4 | elapsed:    2.2s remaining:    0.0s\n",
      "[Parallel(n_jobs=-1)]: Done   4 out of   4 | elapsed:    2.2s finished\n",
      "[Parallel(n_jobs=-1)]: Using backend LokyBackend with 8 concurrent workers.\n"
     ]
    },
    {
     "name": "stdout",
     "output_type": "stream",
     "text": [
      "| \u001b[0m 14      \u001b[0m | \u001b[0m-53.77   \u001b[0m | \u001b[0m 0.8693  \u001b[0m | \u001b[0m 92.56   \u001b[0m |\n"
     ]
    },
    {
     "name": "stderr",
     "output_type": "stream",
     "text": [
      "[Parallel(n_jobs=-1)]: Done   4 out of   4 | elapsed:    1.1s remaining:    0.0s\n",
      "[Parallel(n_jobs=-1)]: Done   4 out of   4 | elapsed:    1.1s finished\n",
      "[Parallel(n_jobs=-1)]: Using backend LokyBackend with 8 concurrent workers.\n"
     ]
    },
    {
     "name": "stdout",
     "output_type": "stream",
     "text": [
      "| \u001b[0m 15      \u001b[0m | \u001b[0m-79.08   \u001b[0m | \u001b[0m 0.2127  \u001b[0m | \u001b[0m 92.35   \u001b[0m |\n"
     ]
    },
    {
     "name": "stderr",
     "output_type": "stream",
     "text": [
      "[Parallel(n_jobs=-1)]: Done   4 out of   4 | elapsed:    2.6s remaining:    0.0s\n",
      "[Parallel(n_jobs=-1)]: Done   4 out of   4 | elapsed:    2.6s finished\n",
      "[Parallel(n_jobs=-1)]: Using backend LokyBackend with 8 concurrent workers.\n"
     ]
    },
    {
     "name": "stdout",
     "output_type": "stream",
     "text": [
      "| \u001b[0m 16      \u001b[0m | \u001b[0m-52.4    \u001b[0m | \u001b[0m 0.9786  \u001b[0m | \u001b[0m 93.32   \u001b[0m |\n"
     ]
    },
    {
     "name": "stderr",
     "output_type": "stream",
     "text": [
      "[Parallel(n_jobs=-1)]: Done   4 out of   4 | elapsed:    3.5s remaining:    0.0s\n",
      "[Parallel(n_jobs=-1)]: Done   4 out of   4 | elapsed:    3.5s finished\n",
      "[Parallel(n_jobs=-1)]: Using backend LokyBackend with 8 concurrent workers.\n"
     ]
    },
    {
     "name": "stdout",
     "output_type": "stream",
     "text": [
      "| \u001b[0m 17      \u001b[0m | \u001b[0m-87.02   \u001b[0m | \u001b[0m 0.1463  \u001b[0m | \u001b[0m 348.8   \u001b[0m |\n"
     ]
    },
    {
     "name": "stderr",
     "output_type": "stream",
     "text": [
      "[Parallel(n_jobs=-1)]: Done   4 out of   4 | elapsed:    0.7s remaining:    0.0s\n",
      "[Parallel(n_jobs=-1)]: Done   4 out of   4 | elapsed:    0.7s finished\n",
      "[Parallel(n_jobs=-1)]: Using backend LokyBackend with 8 concurrent workers.\n"
     ]
    },
    {
     "name": "stdout",
     "output_type": "stream",
     "text": [
      "| \u001b[0m 18      \u001b[0m | \u001b[0m-68.66   \u001b[0m | \u001b[0m 0.3805  \u001b[0m | \u001b[0m 51.05   \u001b[0m |\n"
     ]
    },
    {
     "name": "stderr",
     "output_type": "stream",
     "text": [
      "[Parallel(n_jobs=-1)]: Done   4 out of   4 | elapsed:    0.8s remaining:    0.0s\n",
      "[Parallel(n_jobs=-1)]: Done   4 out of   4 | elapsed:    0.8s finished\n",
      "[Parallel(n_jobs=-1)]: Using backend LokyBackend with 8 concurrent workers.\n"
     ]
    },
    {
     "name": "stdout",
     "output_type": "stream",
     "text": [
      "| \u001b[0m 19      \u001b[0m | \u001b[0m-66.38   \u001b[0m | \u001b[0m 0.4561  \u001b[0m | \u001b[0m 49.42   \u001b[0m |\n"
     ]
    },
    {
     "name": "stderr",
     "output_type": "stream",
     "text": [
      "[Parallel(n_jobs=-1)]: Done   4 out of   4 | elapsed:    0.9s remaining:    0.0s\n",
      "[Parallel(n_jobs=-1)]: Done   4 out of   4 | elapsed:    0.9s finished\n",
      "[Parallel(n_jobs=-1)]: Using backend LokyBackend with 8 concurrent workers.\n"
     ]
    },
    {
     "name": "stdout",
     "output_type": "stream",
     "text": [
      "| \u001b[0m 20      \u001b[0m | \u001b[0m-58.77   \u001b[0m | \u001b[0m 0.6488  \u001b[0m | \u001b[0m 47.99   \u001b[0m |\n"
     ]
    },
    {
     "name": "stderr",
     "output_type": "stream",
     "text": [
      "[Parallel(n_jobs=-1)]: Done   4 out of   4 | elapsed:    1.0s remaining:    0.0s\n",
      "[Parallel(n_jobs=-1)]: Done   4 out of   4 | elapsed:    1.0s finished\n",
      "[Parallel(n_jobs=-1)]: Using backend LokyBackend with 8 concurrent workers.\n"
     ]
    },
    {
     "name": "stdout",
     "output_type": "stream",
     "text": [
      "| \u001b[0m 21      \u001b[0m | \u001b[0m-56.8    \u001b[0m | \u001b[0m 0.7868  \u001b[0m | \u001b[0m 47.0    \u001b[0m |\n"
     ]
    },
    {
     "name": "stderr",
     "output_type": "stream",
     "text": [
      "[Parallel(n_jobs=-1)]: Done   4 out of   4 | elapsed:    0.5s remaining:    0.0s\n",
      "[Parallel(n_jobs=-1)]: Done   4 out of   4 | elapsed:    0.5s finished\n",
      "[Parallel(n_jobs=-1)]: Using backend LokyBackend with 8 concurrent workers.\n"
     ]
    },
    {
     "name": "stdout",
     "output_type": "stream",
     "text": [
      "| \u001b[0m 22      \u001b[0m | \u001b[0m-84.69   \u001b[0m | \u001b[0m 0.173   \u001b[0m | \u001b[0m 46.19   \u001b[0m |\n"
     ]
    },
    {
     "name": "stderr",
     "output_type": "stream",
     "text": [
      "[Parallel(n_jobs=-1)]: Done   4 out of   4 | elapsed:    0.5s remaining:    0.0s\n",
      "[Parallel(n_jobs=-1)]: Done   4 out of   4 | elapsed:    0.5s finished\n",
      "[Parallel(n_jobs=-1)]: Using backend LokyBackend with 8 concurrent workers.\n"
     ]
    },
    {
     "name": "stdout",
     "output_type": "stream",
     "text": [
      "| \u001b[0m 23      \u001b[0m | \u001b[0m-78.47   \u001b[0m | \u001b[0m 0.2072  \u001b[0m | \u001b[0m 47.49   \u001b[0m |\n"
     ]
    },
    {
     "name": "stderr",
     "output_type": "stream",
     "text": [
      "[Parallel(n_jobs=-1)]: Done   4 out of   4 | elapsed:    6.6s remaining:    0.0s\n",
      "[Parallel(n_jobs=-1)]: Done   4 out of   4 | elapsed:    6.6s finished\n",
      "[Parallel(n_jobs=-1)]: Using backend LokyBackend with 8 concurrent workers.\n"
     ]
    },
    {
     "name": "stdout",
     "output_type": "stream",
     "text": [
      "| \u001b[95m 24      \u001b[0m | \u001b[95m-51.41   \u001b[0m | \u001b[95m 0.9868  \u001b[0m | \u001b[95m 239.9   \u001b[0m |\n"
     ]
    },
    {
     "name": "stderr",
     "output_type": "stream",
     "text": [
      "[Parallel(n_jobs=-1)]: Done   4 out of   4 | elapsed:    6.4s remaining:    0.0s\n",
      "[Parallel(n_jobs=-1)]: Done   4 out of   4 | elapsed:    6.4s finished\n",
      "[Parallel(n_jobs=-1)]: Using backend LokyBackend with 8 concurrent workers.\n"
     ]
    },
    {
     "name": "stdout",
     "output_type": "stream",
     "text": [
      "| \u001b[0m 25      \u001b[0m | \u001b[0m-52.49   \u001b[0m | \u001b[0m 0.9332  \u001b[0m | \u001b[0m 241.2   \u001b[0m |\n"
     ]
    },
    {
     "name": "stderr",
     "output_type": "stream",
     "text": [
      "[Parallel(n_jobs=-1)]: Done   4 out of   4 | elapsed:    1.2s remaining:    0.0s\n",
      "[Parallel(n_jobs=-1)]: Done   4 out of   4 | elapsed:    1.2s finished\n",
      "[Parallel(n_jobs=-1)]: Using backend LokyBackend with 8 concurrent workers.\n"
     ]
    },
    {
     "name": "stdout",
     "output_type": "stream",
     "text": [
      "| \u001b[0m 26      \u001b[0m | \u001b[0m-56.54   \u001b[0m | \u001b[0m 0.7514  \u001b[0m | \u001b[0m 52.91   \u001b[0m |\n"
     ]
    },
    {
     "name": "stderr",
     "output_type": "stream",
     "text": [
      "[Parallel(n_jobs=-1)]: Done   4 out of   4 | elapsed:    0.8s remaining:    0.0s\n",
      "[Parallel(n_jobs=-1)]: Done   4 out of   4 | elapsed:    0.8s finished\n",
      "[Parallel(n_jobs=-1)]: Using backend LokyBackend with 8 concurrent workers.\n"
     ]
    },
    {
     "name": "stdout",
     "output_type": "stream",
     "text": [
      "| \u001b[0m 27      \u001b[0m | \u001b[0m-67.73   \u001b[0m | \u001b[0m 0.3861  \u001b[0m | \u001b[0m 53.78   \u001b[0m |\n"
     ]
    },
    {
     "name": "stderr",
     "output_type": "stream",
     "text": [
      "[Parallel(n_jobs=-1)]: Done   4 out of   4 | elapsed:    0.4s remaining:    0.0s\n",
      "[Parallel(n_jobs=-1)]: Done   4 out of   4 | elapsed:    0.4s finished\n",
      "[Parallel(n_jobs=-1)]: Using backend LokyBackend with 8 concurrent workers.\n"
     ]
    },
    {
     "name": "stdout",
     "output_type": "stream",
     "text": [
      "| \u001b[0m 28      \u001b[0m | \u001b[0m-87.97   \u001b[0m | \u001b[0m 0.1178  \u001b[0m | \u001b[0m 52.28   \u001b[0m |\n"
     ]
    },
    {
     "name": "stderr",
     "output_type": "stream",
     "text": [
      "[Parallel(n_jobs=-1)]: Done   4 out of   4 | elapsed:    1.0s remaining:    0.0s\n",
      "[Parallel(n_jobs=-1)]: Done   4 out of   4 | elapsed:    1.0s finished\n",
      "[Parallel(n_jobs=-1)]: Using backend LokyBackend with 8 concurrent workers.\n"
     ]
    },
    {
     "name": "stdout",
     "output_type": "stream",
     "text": [
      "| \u001b[0m 29      \u001b[0m | \u001b[0m-55.31   \u001b[0m | \u001b[0m 0.8059  \u001b[0m | \u001b[0m 48.61   \u001b[0m |\n"
     ]
    },
    {
     "name": "stderr",
     "output_type": "stream",
     "text": [
      "[Parallel(n_jobs=-1)]: Done   4 out of   4 | elapsed:    1.4s remaining:    0.0s\n",
      "[Parallel(n_jobs=-1)]: Done   4 out of   4 | elapsed:    1.4s finished\n",
      "[Parallel(n_jobs=-1)]: Using backend LokyBackend with 8 concurrent workers.\n"
     ]
    },
    {
     "name": "stdout",
     "output_type": "stream",
     "text": [
      "| \u001b[0m 30      \u001b[0m | \u001b[0m-51.75   \u001b[0m | \u001b[0m 0.9924  \u001b[0m | \u001b[0m 53.44   \u001b[0m |\n"
     ]
    },
    {
     "name": "stderr",
     "output_type": "stream",
     "text": [
      "[Parallel(n_jobs=-1)]: Done   4 out of   4 | elapsed:    3.9s remaining:    0.0s\n",
      "[Parallel(n_jobs=-1)]: Done   4 out of   4 | elapsed:    3.9s finished\n",
      "[Parallel(n_jobs=-1)]: Using backend LokyBackend with 8 concurrent workers.\n"
     ]
    },
    {
     "name": "stdout",
     "output_type": "stream",
     "text": [
      "| \u001b[0m 31      \u001b[0m | \u001b[0m-61.75   \u001b[0m | \u001b[0m 0.55    \u001b[0m | \u001b[0m 217.4   \u001b[0m |\n"
     ]
    },
    {
     "name": "stderr",
     "output_type": "stream",
     "text": [
      "[Parallel(n_jobs=-1)]: Done   4 out of   4 | elapsed:    6.0s remaining:    0.0s\n",
      "[Parallel(n_jobs=-1)]: Done   4 out of   4 | elapsed:    6.0s finished\n",
      "[Parallel(n_jobs=-1)]: Using backend LokyBackend with 8 concurrent workers.\n"
     ]
    },
    {
     "name": "stdout",
     "output_type": "stream",
     "text": [
      "| \u001b[95m 32      \u001b[0m | \u001b[95m-51.06   \u001b[0m | \u001b[95m 0.9948  \u001b[0m | \u001b[95m 218.5   \u001b[0m |\n"
     ]
    },
    {
     "name": "stderr",
     "output_type": "stream",
     "text": [
      "[Parallel(n_jobs=-1)]: Done   4 out of   4 | elapsed:    2.8s remaining:    0.0s\n",
      "[Parallel(n_jobs=-1)]: Done   4 out of   4 | elapsed:    2.8s finished\n",
      "[Parallel(n_jobs=-1)]: Using backend LokyBackend with 8 concurrent workers.\n"
     ]
    },
    {
     "name": "stdout",
     "output_type": "stream",
     "text": [
      "| \u001b[0m 33      \u001b[0m | \u001b[0m-73.38   \u001b[0m | \u001b[0m 0.2785  \u001b[0m | \u001b[0m 218.9   \u001b[0m |\n"
     ]
    },
    {
     "name": "stderr",
     "output_type": "stream",
     "text": [
      "[Parallel(n_jobs=-1)]: Done   4 out of   4 | elapsed:    5.7s remaining:    0.0s\n",
      "[Parallel(n_jobs=-1)]: Done   4 out of   4 | elapsed:    5.7s finished\n",
      "[Parallel(n_jobs=-1)]: Using backend LokyBackend with 8 concurrent workers.\n"
     ]
    },
    {
     "name": "stdout",
     "output_type": "stream",
     "text": [
      "| \u001b[0m 34      \u001b[0m | \u001b[0m-51.64   \u001b[0m | \u001b[0m 0.9638  \u001b[0m | \u001b[0m 216.2   \u001b[0m |\n"
     ]
    },
    {
     "name": "stderr",
     "output_type": "stream",
     "text": [
      "[Parallel(n_jobs=-1)]: Done   4 out of   4 | elapsed:    2.4s remaining:    0.0s\n",
      "[Parallel(n_jobs=-1)]: Done   4 out of   4 | elapsed:    2.4s finished\n"
     ]
    },
    {
     "name": "stdout",
     "output_type": "stream",
     "text": [
      "| \u001b[0m 35      \u001b[0m | \u001b[0m-80.49   \u001b[0m | \u001b[0m 0.1772  \u001b[0m | \u001b[0m 216.0   \u001b[0m |\n"
     ]
    },
    {
     "name": "stderr",
     "output_type": "stream",
     "text": [
      "[Parallel(n_jobs=-1)]: Using backend LokyBackend with 8 concurrent workers.\n",
      "[Parallel(n_jobs=-1)]: Done   4 out of   4 | elapsed:    6.5s remaining:    0.0s\n",
      "[Parallel(n_jobs=-1)]: Done   4 out of   4 | elapsed:    6.5s finished\n"
     ]
    },
    {
     "name": "stdout",
     "output_type": "stream",
     "text": [
      "| \u001b[0m 36      \u001b[0m | \u001b[0m-51.32   \u001b[0m | \u001b[0m 0.9778  \u001b[0m | \u001b[0m 218.1   \u001b[0m |\n"
     ]
    },
    {
     "name": "stderr",
     "output_type": "stream",
     "text": [
      "[Parallel(n_jobs=-1)]: Using backend LokyBackend with 8 concurrent workers.\n",
      "[Parallel(n_jobs=-1)]: Done   4 out of   4 | elapsed:    6.1s remaining:    0.0s\n",
      "[Parallel(n_jobs=-1)]: Done   4 out of   4 | elapsed:    6.1s finished\n",
      "[Parallel(n_jobs=-1)]: Using backend LokyBackend with 8 concurrent workers.\n"
     ]
    },
    {
     "name": "stdout",
     "output_type": "stream",
     "text": [
      "| \u001b[0m 37      \u001b[0m | \u001b[0m-51.76   \u001b[0m | \u001b[0m 0.9778  \u001b[0m | \u001b[0m 215.0   \u001b[0m |\n"
     ]
    },
    {
     "name": "stderr",
     "output_type": "stream",
     "text": [
      "[Parallel(n_jobs=-1)]: Done   4 out of   4 | elapsed:    5.7s remaining:    0.0s\n",
      "[Parallel(n_jobs=-1)]: Done   4 out of   4 | elapsed:    5.7s finished\n"
     ]
    },
    {
     "name": "stdout",
     "output_type": "stream",
     "text": [
      "| \u001b[0m 38      \u001b[0m | \u001b[0m-51.9    \u001b[0m | \u001b[0m 0.9623  \u001b[0m | \u001b[0m 214.2   \u001b[0m |\n"
     ]
    },
    {
     "name": "stderr",
     "output_type": "stream",
     "text": [
      "[Parallel(n_jobs=-1)]: Using backend LokyBackend with 8 concurrent workers.\n",
      "[Parallel(n_jobs=-1)]: Done   4 out of   4 | elapsed:    2.3s remaining:    0.0s\n",
      "[Parallel(n_jobs=-1)]: Done   4 out of   4 | elapsed:    2.3s finished\n"
     ]
    },
    {
     "name": "stdout",
     "output_type": "stream",
     "text": [
      "| \u001b[0m 39      \u001b[0m | \u001b[0m-80.36   \u001b[0m | \u001b[0m 0.1868  \u001b[0m | \u001b[0m 214.5   \u001b[0m |\n"
     ]
    },
    {
     "name": "stderr",
     "output_type": "stream",
     "text": [
      "[Parallel(n_jobs=-1)]: Using backend LokyBackend with 8 concurrent workers.\n",
      "[Parallel(n_jobs=-1)]: Done   4 out of   4 | elapsed:    5.2s remaining:    0.0s\n",
      "[Parallel(n_jobs=-1)]: Done   4 out of   4 | elapsed:    5.2s finished\n",
      "[Parallel(n_jobs=-1)]: Using backend LokyBackend with 8 concurrent workers.\n"
     ]
    },
    {
     "name": "stdout",
     "output_type": "stream",
     "text": [
      "| \u001b[0m 40      \u001b[0m | \u001b[0m-53.5    \u001b[0m | \u001b[0m 0.8705  \u001b[0m | \u001b[0m 213.3   \u001b[0m |\n"
     ]
    },
    {
     "name": "stderr",
     "output_type": "stream",
     "text": [
      "[Parallel(n_jobs=-1)]: Done   4 out of   4 | elapsed:    5.4s remaining:    0.0s\n",
      "[Parallel(n_jobs=-1)]: Done   4 out of   4 | elapsed:    5.4s finished\n",
      "[Parallel(n_jobs=-1)]: Using backend LokyBackend with 8 concurrent workers.\n"
     ]
    },
    {
     "name": "stdout",
     "output_type": "stream",
     "text": [
      "| \u001b[0m 41      \u001b[0m | \u001b[0m-52.8    \u001b[0m | \u001b[0m 0.8898  \u001b[0m | \u001b[0m 212.3   \u001b[0m |\n"
     ]
    },
    {
     "name": "stderr",
     "output_type": "stream",
     "text": [
      "[Parallel(n_jobs=-1)]: Done   4 out of   4 | elapsed:    2.3s remaining:    0.0s\n",
      "[Parallel(n_jobs=-1)]: Done   4 out of   4 | elapsed:    2.3s finished\n",
      "[Parallel(n_jobs=-1)]: Using backend LokyBackend with 8 concurrent workers.\n"
     ]
    },
    {
     "name": "stdout",
     "output_type": "stream",
     "text": [
      "| \u001b[0m 42      \u001b[0m | \u001b[0m-80.59   \u001b[0m | \u001b[0m 0.1779  \u001b[0m | \u001b[0m 212.5   \u001b[0m |\n"
     ]
    },
    {
     "name": "stderr",
     "output_type": "stream",
     "text": [
      "[Parallel(n_jobs=-1)]: Done   4 out of   4 | elapsed:    5.7s remaining:    0.0s\n",
      "[Parallel(n_jobs=-1)]: Done   4 out of   4 | elapsed:    5.7s finished\n"
     ]
    },
    {
     "name": "stdout",
     "output_type": "stream",
     "text": [
      "| \u001b[0m 43      \u001b[0m | \u001b[0m-51.16   \u001b[0m | \u001b[0m 0.999   \u001b[0m | \u001b[0m 211.6   \u001b[0m |\n"
     ]
    },
    {
     "name": "stderr",
     "output_type": "stream",
     "text": [
      "[Parallel(n_jobs=-1)]: Using backend LokyBackend with 8 concurrent workers.\n",
      "[Parallel(n_jobs=-1)]: Done   4 out of   4 | elapsed:    5.4s remaining:    0.0s\n",
      "[Parallel(n_jobs=-1)]: Done   4 out of   4 | elapsed:    5.4s finished\n",
      "[Parallel(n_jobs=-1)]: Using backend LokyBackend with 8 concurrent workers.\n"
     ]
    },
    {
     "name": "stdout",
     "output_type": "stream",
     "text": [
      "| \u001b[0m 44      \u001b[0m | \u001b[0m-52.95   \u001b[0m | \u001b[0m 0.8966  \u001b[0m | \u001b[0m 210.7   \u001b[0m |\n"
     ]
    },
    {
     "name": "stderr",
     "output_type": "stream",
     "text": [
      "[Parallel(n_jobs=-1)]: Done   4 out of   4 | elapsed:    2.4s remaining:    0.0s\n",
      "[Parallel(n_jobs=-1)]: Done   4 out of   4 | elapsed:    2.4s finished\n",
      "[Parallel(n_jobs=-1)]: Using backend LokyBackend with 8 concurrent workers.\n"
     ]
    },
    {
     "name": "stdout",
     "output_type": "stream",
     "text": [
      "| \u001b[0m 45      \u001b[0m | \u001b[0m-77.74   \u001b[0m | \u001b[0m 0.2188  \u001b[0m | \u001b[0m 211.1   \u001b[0m |\n"
     ]
    },
    {
     "name": "stderr",
     "output_type": "stream",
     "text": [
      "[Parallel(n_jobs=-1)]: Done   4 out of   4 | elapsed:    5.5s remaining:    0.0s\n",
      "[Parallel(n_jobs=-1)]: Done   4 out of   4 | elapsed:    5.5s finished\n"
     ]
    },
    {
     "name": "stdout",
     "output_type": "stream",
     "text": [
      "| \u001b[0m 46      \u001b[0m | \u001b[0m-51.92   \u001b[0m | \u001b[0m 0.9621  \u001b[0m | \u001b[0m 210.0   \u001b[0m |\n"
     ]
    },
    {
     "name": "stderr",
     "output_type": "stream",
     "text": [
      "[Parallel(n_jobs=-1)]: Using backend LokyBackend with 8 concurrent workers.\n",
      "[Parallel(n_jobs=-1)]: Done   4 out of   4 | elapsed:    3.2s remaining:    0.0s\n",
      "[Parallel(n_jobs=-1)]: Done   4 out of   4 | elapsed:    3.2s finished\n"
     ]
    },
    {
     "name": "stdout",
     "output_type": "stream",
     "text": [
      "| \u001b[0m 47      \u001b[0m | \u001b[0m-66.58   \u001b[0m | \u001b[0m 0.398   \u001b[0m | \u001b[0m 209.2   \u001b[0m |\n"
     ]
    },
    {
     "name": "stderr",
     "output_type": "stream",
     "text": [
      "[Parallel(n_jobs=-1)]: Using backend LokyBackend with 8 concurrent workers.\n",
      "[Parallel(n_jobs=-1)]: Done   4 out of   4 | elapsed:    2.9s remaining:    0.0s\n",
      "[Parallel(n_jobs=-1)]: Done   4 out of   4 | elapsed:    2.9s finished\n"
     ]
    },
    {
     "name": "stdout",
     "output_type": "stream",
     "text": [
      "| \u001b[0m 48      \u001b[0m | \u001b[0m-58.75   \u001b[0m | \u001b[0m 0.6542  \u001b[0m | \u001b[0m 146.1   \u001b[0m |\n"
     ]
    },
    {
     "name": "stderr",
     "output_type": "stream",
     "text": [
      "[Parallel(n_jobs=-1)]: Using backend LokyBackend with 8 concurrent workers.\n",
      "[Parallel(n_jobs=-1)]: Done   4 out of   4 | elapsed:    2.6s remaining:    0.0s\n",
      "[Parallel(n_jobs=-1)]: Done   4 out of   4 | elapsed:    2.6s finished\n",
      "[Parallel(n_jobs=-1)]: Using backend LokyBackend with 8 concurrent workers.\n"
     ]
    },
    {
     "name": "stdout",
     "output_type": "stream",
     "text": [
      "| \u001b[0m 49      \u001b[0m | \u001b[0m-61.56   \u001b[0m | \u001b[0m 0.5566  \u001b[0m | \u001b[0m 147.1   \u001b[0m |\n"
     ]
    },
    {
     "name": "stderr",
     "output_type": "stream",
     "text": [
      "[Parallel(n_jobs=-1)]: Done   4 out of   4 | elapsed:    3.9s remaining:    0.0s\n",
      "[Parallel(n_jobs=-1)]: Done   4 out of   4 | elapsed:    3.9s finished\n"
     ]
    },
    {
     "name": "stdout",
     "output_type": "stream",
     "text": [
      "| \u001b[0m 50      \u001b[0m | \u001b[0m-51.98   \u001b[0m | \u001b[0m 0.9524  \u001b[0m | \u001b[0m 145.1   \u001b[0m |\n"
     ]
    },
    {
     "name": "stderr",
     "output_type": "stream",
     "text": [
      "[Parallel(n_jobs=-1)]: Using backend LokyBackend with 8 concurrent workers.\n",
      "[Parallel(n_jobs=-1)]: Done   4 out of   4 | elapsed:    1.4s remaining:    0.0s\n",
      "[Parallel(n_jobs=-1)]: Done   4 out of   4 | elapsed:    1.4s finished\n"
     ]
    },
    {
     "name": "stdout",
     "output_type": "stream",
     "text": [
      "| \u001b[0m 51      \u001b[0m | \u001b[0m-86.2    \u001b[0m | \u001b[0m 0.1212  \u001b[0m | \u001b[0m 145.0   \u001b[0m |\n"
     ]
    },
    {
     "name": "stderr",
     "output_type": "stream",
     "text": [
      "[Parallel(n_jobs=-1)]: Using backend LokyBackend with 8 concurrent workers.\n",
      "[Parallel(n_jobs=-1)]: Done   4 out of   4 | elapsed:    3.3s remaining:    0.0s\n",
      "[Parallel(n_jobs=-1)]: Done   4 out of   4 | elapsed:    3.3s finished\n"
     ]
    },
    {
     "name": "stdout",
     "output_type": "stream",
     "text": [
      "| \u001b[0m 52      \u001b[0m | \u001b[0m-64.56   \u001b[0m | \u001b[0m 0.4617  \u001b[0m | \u001b[0m 210.1   \u001b[0m |\n"
     ]
    },
    {
     "name": "stderr",
     "output_type": "stream",
     "text": [
      "[Parallel(n_jobs=-1)]: Using backend LokyBackend with 8 concurrent workers.\n",
      "[Parallel(n_jobs=-1)]: Done   4 out of   4 | elapsed:    5.6s remaining:    0.0s\n",
      "[Parallel(n_jobs=-1)]: Done   4 out of   4 | elapsed:    5.6s finished\n",
      "[Parallel(n_jobs=-1)]: Using backend LokyBackend with 8 concurrent workers.\n"
     ]
    },
    {
     "name": "stdout",
     "output_type": "stream",
     "text": [
      "| \u001b[0m 53      \u001b[0m | \u001b[0m-52.09   \u001b[0m | \u001b[0m 0.9172  \u001b[0m | \u001b[0m 215.6   \u001b[0m |\n"
     ]
    },
    {
     "name": "stderr",
     "output_type": "stream",
     "text": [
      "[Parallel(n_jobs=-1)]: Done   4 out of   4 | elapsed:    3.8s remaining:    0.0s\n",
      "[Parallel(n_jobs=-1)]: Done   4 out of   4 | elapsed:    3.8s finished\n",
      "[Parallel(n_jobs=-1)]: Using backend LokyBackend with 8 concurrent workers.\n"
     ]
    },
    {
     "name": "stdout",
     "output_type": "stream",
     "text": [
      "| \u001b[0m 54      \u001b[0m | \u001b[0m-51.13   \u001b[0m | \u001b[0m 0.9847  \u001b[0m | \u001b[0m 144.4   \u001b[0m |\n"
     ]
    },
    {
     "name": "stderr",
     "output_type": "stream",
     "text": [
      "[Parallel(n_jobs=-1)]: Done   4 out of   4 | elapsed:    3.6s remaining:    0.0s\n",
      "[Parallel(n_jobs=-1)]: Done   4 out of   4 | elapsed:    3.6s finished\n"
     ]
    },
    {
     "name": "stdout",
     "output_type": "stream",
     "text": [
      "| \u001b[0m 55      \u001b[0m | \u001b[0m-53.19   \u001b[0m | \u001b[0m 0.8832  \u001b[0m | \u001b[0m 143.6   \u001b[0m |\n"
     ]
    },
    {
     "name": "stderr",
     "output_type": "stream",
     "text": [
      "[Parallel(n_jobs=-1)]: Using backend LokyBackend with 8 concurrent workers.\n",
      "[Parallel(n_jobs=-1)]: Done   4 out of   4 | elapsed:    2.8s remaining:    0.0s\n",
      "[Parallel(n_jobs=-1)]: Done   4 out of   4 | elapsed:    2.8s finished\n"
     ]
    },
    {
     "name": "stdout",
     "output_type": "stream",
     "text": [
      "| \u001b[0m 56      \u001b[0m | \u001b[0m-60.11   \u001b[0m | \u001b[0m 0.5989  \u001b[0m | \u001b[0m 142.6   \u001b[0m |\n"
     ]
    },
    {
     "name": "stderr",
     "output_type": "stream",
     "text": [
      "[Parallel(n_jobs=-1)]: Using backend LokyBackend with 8 concurrent workers.\n",
      "[Parallel(n_jobs=-1)]: Done   4 out of   4 | elapsed:    3.3s remaining:    0.0s\n",
      "[Parallel(n_jobs=-1)]: Done   4 out of   4 | elapsed:    3.3s finished\n"
     ]
    },
    {
     "name": "stdout",
     "output_type": "stream",
     "text": [
      "| \u001b[0m 57      \u001b[0m | \u001b[0m-54.69   \u001b[0m | \u001b[0m 0.7992  \u001b[0m | \u001b[0m 141.2   \u001b[0m |\n"
     ]
    },
    {
     "name": "stderr",
     "output_type": "stream",
     "text": [
      "[Parallel(n_jobs=-1)]: Using backend LokyBackend with 8 concurrent workers.\n",
      "[Parallel(n_jobs=-1)]: Done   4 out of   4 | elapsed:    2.5s remaining:    0.0s\n",
      "[Parallel(n_jobs=-1)]: Done   4 out of   4 | elapsed:    2.5s finished\n"
     ]
    },
    {
     "name": "stdout",
     "output_type": "stream",
     "text": [
      "| \u001b[0m 58      \u001b[0m | \u001b[0m-61.81   \u001b[0m | \u001b[0m 0.5529  \u001b[0m | \u001b[0m 140.3   \u001b[0m |\n"
     ]
    },
    {
     "name": "stderr",
     "output_type": "stream",
     "text": [
      "[Parallel(n_jobs=-1)]: Using backend LokyBackend with 8 concurrent workers.\n",
      "[Parallel(n_jobs=-1)]: Done   4 out of   4 | elapsed:    1.5s remaining:    0.0s\n",
      "[Parallel(n_jobs=-1)]: Done   4 out of   4 | elapsed:    1.5s finished\n"
     ]
    },
    {
     "name": "stdout",
     "output_type": "stream",
     "text": [
      "| \u001b[0m 59      \u001b[0m | \u001b[0m-80.23   \u001b[0m | \u001b[0m 0.1911  \u001b[0m | \u001b[0m 141.4   \u001b[0m |\n"
     ]
    },
    {
     "name": "stderr",
     "output_type": "stream",
     "text": [
      "[Parallel(n_jobs=-1)]: Using backend LokyBackend with 8 concurrent workers.\n",
      "[Parallel(n_jobs=-1)]: Done   4 out of   4 | elapsed:    1.4s remaining:    0.0s\n",
      "[Parallel(n_jobs=-1)]: Done   4 out of   4 | elapsed:    1.4s finished\n"
     ]
    },
    {
     "name": "stdout",
     "output_type": "stream",
     "text": [
      "| \u001b[0m 60      \u001b[0m | \u001b[0m-83.77   \u001b[0m | \u001b[0m 0.1756  \u001b[0m | \u001b[0m 143.2   \u001b[0m |\n"
     ]
    },
    {
     "name": "stderr",
     "output_type": "stream",
     "text": [
      "[Parallel(n_jobs=-1)]: Using backend LokyBackend with 8 concurrent workers.\n",
      "[Parallel(n_jobs=-1)]: Done   4 out of   4 | elapsed:    3.8s remaining:    0.0s\n",
      "[Parallel(n_jobs=-1)]: Done   4 out of   4 | elapsed:    3.8s finished\n"
     ]
    },
    {
     "name": "stdout",
     "output_type": "stream",
     "text": [
      "| \u001b[0m 61      \u001b[0m | \u001b[0m-51.57   \u001b[0m | \u001b[0m 0.9769  \u001b[0m | \u001b[0m 141.9   \u001b[0m |\n"
     ]
    },
    {
     "name": "stderr",
     "output_type": "stream",
     "text": [
      "[Parallel(n_jobs=-1)]: Using backend LokyBackend with 8 concurrent workers.\n",
      "[Parallel(n_jobs=-1)]: Done   4 out of   4 | elapsed:    5.8s remaining:    0.0s\n",
      "[Parallel(n_jobs=-1)]: Done   4 out of   4 | elapsed:    5.8s finished\n"
     ]
    },
    {
     "name": "stdout",
     "output_type": "stream",
     "text": [
      "| \u001b[0m 62      \u001b[0m | \u001b[0m-51.22   \u001b[0m | \u001b[0m 0.9757  \u001b[0m | \u001b[0m 216.8   \u001b[0m |\n"
     ]
    },
    {
     "name": "stderr",
     "output_type": "stream",
     "text": [
      "[Parallel(n_jobs=-1)]: Using backend LokyBackend with 8 concurrent workers.\n",
      "[Parallel(n_jobs=-1)]: Done   4 out of   4 | elapsed:    3.8s remaining:    0.0s\n",
      "[Parallel(n_jobs=-1)]: Done   4 out of   4 | elapsed:    3.8s finished\n"
     ]
    },
    {
     "name": "stdout",
     "output_type": "stream",
     "text": [
      "| \u001b[0m 63      \u001b[0m | \u001b[0m-51.52   \u001b[0m | \u001b[0m 0.9902  \u001b[0m | \u001b[0m 139.2   \u001b[0m |\n"
     ]
    },
    {
     "name": "stderr",
     "output_type": "stream",
     "text": [
      "[Parallel(n_jobs=-1)]: Using backend LokyBackend with 8 concurrent workers.\n",
      "[Parallel(n_jobs=-1)]: Done   4 out of   4 | elapsed:    2.1s remaining:    0.0s\n",
      "[Parallel(n_jobs=-1)]: Done   4 out of   4 | elapsed:    2.1s finished\n"
     ]
    },
    {
     "name": "stdout",
     "output_type": "stream",
     "text": [
      "| \u001b[0m 64      \u001b[0m | \u001b[0m-65.98   \u001b[0m | \u001b[0m 0.416   \u001b[0m | \u001b[0m 138.8   \u001b[0m |\n"
     ]
    },
    {
     "name": "stderr",
     "output_type": "stream",
     "text": [
      "[Parallel(n_jobs=-1)]: Using backend LokyBackend with 8 concurrent workers.\n",
      "[Parallel(n_jobs=-1)]: Done   4 out of   4 | elapsed:    3.7s remaining:    0.0s\n",
      "[Parallel(n_jobs=-1)]: Done   4 out of   4 | elapsed:    3.7s finished\n"
     ]
    },
    {
     "name": "stdout",
     "output_type": "stream",
     "text": [
      "| \u001b[0m 65      \u001b[0m | \u001b[0m-51.23   \u001b[0m | \u001b[0m 0.9927  \u001b[0m | \u001b[0m 139.8   \u001b[0m |\n"
     ]
    },
    {
     "name": "stderr",
     "output_type": "stream",
     "text": [
      "[Parallel(n_jobs=-1)]: Using backend LokyBackend with 8 concurrent workers.\n",
      "[Parallel(n_jobs=-1)]: Done   4 out of   4 | elapsed:    2.1s remaining:    0.0s\n",
      "[Parallel(n_jobs=-1)]: Done   4 out of   4 | elapsed:    2.1s finished\n"
     ]
    },
    {
     "name": "stdout",
     "output_type": "stream",
     "text": [
      "| \u001b[0m 66      \u001b[0m | \u001b[0m-69.32   \u001b[0m | \u001b[0m 0.3553  \u001b[0m | \u001b[0m 148.5   \u001b[0m |\n"
     ]
    },
    {
     "name": "stderr",
     "output_type": "stream",
     "text": [
      "[Parallel(n_jobs=-1)]: Using backend LokyBackend with 8 concurrent workers.\n",
      "[Parallel(n_jobs=-1)]: Done   4 out of   4 | elapsed:    5.0s remaining:    0.0s\n",
      "[Parallel(n_jobs=-1)]: Done   4 out of   4 | elapsed:    5.0s finished\n"
     ]
    },
    {
     "name": "stdout",
     "output_type": "stream",
     "text": [
      "| \u001b[0m 67      \u001b[0m | \u001b[0m-65.64   \u001b[0m | \u001b[0m 0.4313  \u001b[0m | \u001b[0m 322.8   \u001b[0m |\n"
     ]
    },
    {
     "name": "stderr",
     "output_type": "stream",
     "text": [
      "[Parallel(n_jobs=-1)]: Using backend LokyBackend with 8 concurrent workers.\n",
      "[Parallel(n_jobs=-1)]: Done   4 out of   4 | elapsed:   10.8s remaining:    0.0s\n",
      "[Parallel(n_jobs=-1)]: Done   4 out of   4 | elapsed:   10.8s finished\n"
     ]
    },
    {
     "name": "stdout",
     "output_type": "stream",
     "text": [
      "| \u001b[95m 68      \u001b[0m | \u001b[95m-51.04   \u001b[0m | \u001b[95m 0.999   \u001b[0m | \u001b[95m 400.0   \u001b[0m |\n"
     ]
    },
    {
     "name": "stderr",
     "output_type": "stream",
     "text": [
      "[Parallel(n_jobs=-1)]: Using backend LokyBackend with 8 concurrent workers.\n",
      "[Parallel(n_jobs=-1)]: Done   4 out of   4 | elapsed:    5.6s remaining:    0.0s\n",
      "[Parallel(n_jobs=-1)]: Done   4 out of   4 | elapsed:    5.6s finished\n"
     ]
    },
    {
     "name": "stdout",
     "output_type": "stream",
     "text": [
      "| \u001b[0m 69      \u001b[0m | \u001b[0m-69.86   \u001b[0m | \u001b[0m 0.3474  \u001b[0m | \u001b[0m 399.7   \u001b[0m |\n"
     ]
    },
    {
     "name": "stderr",
     "output_type": "stream",
     "text": [
      "[Parallel(n_jobs=-1)]: Using backend LokyBackend with 8 concurrent workers.\n",
      "[Parallel(n_jobs=-1)]: Done   4 out of   4 | elapsed:    3.9s remaining:    0.0s\n",
      "[Parallel(n_jobs=-1)]: Done   4 out of   4 | elapsed:    3.9s finished\n"
     ]
    },
    {
     "name": "stdout",
     "output_type": "stream",
     "text": [
      "| \u001b[0m 70      \u001b[0m | \u001b[0m-52.28   \u001b[0m | \u001b[0m 0.963   \u001b[0m | \u001b[0m 145.1   \u001b[0m |\n"
     ]
    },
    {
     "name": "stderr",
     "output_type": "stream",
     "text": [
      "[Parallel(n_jobs=-1)]: Using backend LokyBackend with 8 concurrent workers.\n",
      "[Parallel(n_jobs=-1)]: Done   4 out of   4 | elapsed:    2.6s remaining:    0.0s\n",
      "[Parallel(n_jobs=-1)]: Done   4 out of   4 | elapsed:    2.6s finished\n"
     ]
    },
    {
     "name": "stdout",
     "output_type": "stream",
     "text": [
      "| \u001b[0m 71      \u001b[0m | \u001b[0m-60.8    \u001b[0m | \u001b[0m 0.562   \u001b[0m | \u001b[0m 139.6   \u001b[0m |\n"
     ]
    },
    {
     "name": "stderr",
     "output_type": "stream",
     "text": [
      "[Parallel(n_jobs=-1)]: Using backend LokyBackend with 8 concurrent workers.\n",
      "[Parallel(n_jobs=-1)]: Done   4 out of   4 | elapsed:    5.3s remaining:    0.0s\n",
      "[Parallel(n_jobs=-1)]: Done   4 out of   4 | elapsed:    5.3s finished\n"
     ]
    },
    {
     "name": "stdout",
     "output_type": "stream",
     "text": [
      "| \u001b[0m 72      \u001b[0m | \u001b[0m-51.78   \u001b[0m | \u001b[0m 0.999   \u001b[0m | \u001b[0m 196.7   \u001b[0m |\n"
     ]
    },
    {
     "name": "stderr",
     "output_type": "stream",
     "text": [
      "[Parallel(n_jobs=-1)]: Using backend LokyBackend with 8 concurrent workers.\n",
      "[Parallel(n_jobs=-1)]: Done   4 out of   4 | elapsed:    5.1s remaining:    0.0s\n",
      "[Parallel(n_jobs=-1)]: Done   4 out of   4 | elapsed:    5.1s finished\n"
     ]
    },
    {
     "name": "stdout",
     "output_type": "stream",
     "text": [
      "| \u001b[0m 73      \u001b[0m | \u001b[0m-52.39   \u001b[0m | \u001b[0m 0.9194  \u001b[0m | \u001b[0m 197.4   \u001b[0m |\n"
     ]
    },
    {
     "name": "stderr",
     "output_type": "stream",
     "text": [
      "[Parallel(n_jobs=-1)]: Using backend LokyBackend with 8 concurrent workers.\n",
      "[Parallel(n_jobs=-1)]: Done   4 out of   4 | elapsed:    5.8s remaining:    0.0s\n",
      "[Parallel(n_jobs=-1)]: Done   4 out of   4 | elapsed:    5.8s finished\n"
     ]
    },
    {
     "name": "stdout",
     "output_type": "stream",
     "text": [
      "| \u001b[0m 74      \u001b[0m | \u001b[0m-51.4    \u001b[0m | \u001b[0m 0.9711  \u001b[0m | \u001b[0m 216.8   \u001b[0m |\n"
     ]
    },
    {
     "name": "stderr",
     "output_type": "stream",
     "text": [
      "[Parallel(n_jobs=-1)]: Using backend LokyBackend with 8 concurrent workers.\n",
      "[Parallel(n_jobs=-1)]: Done   4 out of   4 | elapsed:    2.3s remaining:    0.0s\n",
      "[Parallel(n_jobs=-1)]: Done   4 out of   4 | elapsed:    2.3s finished\n"
     ]
    },
    {
     "name": "stdout",
     "output_type": "stream",
     "text": [
      "| \u001b[0m 75      \u001b[0m | \u001b[0m-77.56   \u001b[0m | \u001b[0m 0.2281  \u001b[0m | \u001b[0m 196.9   \u001b[0m |\n"
     ]
    },
    {
     "name": "stderr",
     "output_type": "stream",
     "text": [
      "[Parallel(n_jobs=-1)]: Using backend LokyBackend with 8 concurrent workers.\n",
      "[Parallel(n_jobs=-1)]: Done   4 out of   4 | elapsed:    5.1s remaining:    0.0s\n",
      "[Parallel(n_jobs=-1)]: Done   4 out of   4 | elapsed:    5.1s finished\n"
     ]
    },
    {
     "name": "stdout",
     "output_type": "stream",
     "text": [
      "| \u001b[0m 76      \u001b[0m | \u001b[0m-53.05   \u001b[0m | \u001b[0m 0.9001  \u001b[0m | \u001b[0m 198.2   \u001b[0m |\n"
     ]
    },
    {
     "name": "stderr",
     "output_type": "stream",
     "text": [
      "[Parallel(n_jobs=-1)]: Using backend LokyBackend with 8 concurrent workers.\n",
      "[Parallel(n_jobs=-1)]: Done   4 out of   4 | elapsed:    4.5s remaining:    0.0s\n",
      "[Parallel(n_jobs=-1)]: Done   4 out of   4 | elapsed:    4.5s finished\n"
     ]
    },
    {
     "name": "stdout",
     "output_type": "stream",
     "text": [
      "| \u001b[0m 77      \u001b[0m | \u001b[0m-56.07   \u001b[0m | \u001b[0m 0.753   \u001b[0m | \u001b[0m 199.0   \u001b[0m |\n"
     ]
    },
    {
     "name": "stderr",
     "output_type": "stream",
     "text": [
      "[Parallel(n_jobs=-1)]: Using backend LokyBackend with 8 concurrent workers.\n",
      "[Parallel(n_jobs=-1)]: Done   4 out of   4 | elapsed:    1.9s remaining:    0.0s\n",
      "[Parallel(n_jobs=-1)]: Done   4 out of   4 | elapsed:    1.9s finished\n"
     ]
    },
    {
     "name": "stdout",
     "output_type": "stream",
     "text": [
      "| \u001b[0m 78      \u001b[0m | \u001b[0m-91.1    \u001b[0m | \u001b[0m 0.1153  \u001b[0m | \u001b[0m 198.3   \u001b[0m |\n"
     ]
    },
    {
     "name": "stderr",
     "output_type": "stream",
     "text": [
      "[Parallel(n_jobs=-1)]: Using backend LokyBackend with 8 concurrent workers.\n",
      "[Parallel(n_jobs=-1)]: Done   4 out of   4 | elapsed:    5.3s remaining:    0.0s\n",
      "[Parallel(n_jobs=-1)]: Done   4 out of   4 | elapsed:    5.3s finished\n"
     ]
    },
    {
     "name": "stdout",
     "output_type": "stream",
     "text": [
      "| \u001b[0m 79      \u001b[0m | \u001b[0m-52.36   \u001b[0m | \u001b[0m 0.9601  \u001b[0m | \u001b[0m 199.6   \u001b[0m |\n"
     ]
    },
    {
     "name": "stderr",
     "output_type": "stream",
     "text": [
      "[Parallel(n_jobs=-1)]: Using backend LokyBackend with 8 concurrent workers.\n",
      "[Parallel(n_jobs=-1)]: Done   4 out of   4 | elapsed:    2.7s remaining:    0.0s\n",
      "[Parallel(n_jobs=-1)]: Done   4 out of   4 | elapsed:    2.7s finished\n"
     ]
    },
    {
     "name": "stdout",
     "output_type": "stream",
     "text": [
      "| \u001b[0m 80      \u001b[0m | \u001b[0m-69.46   \u001b[0m | \u001b[0m 0.3361  \u001b[0m | \u001b[0m 200.0   \u001b[0m |\n"
     ]
    },
    {
     "name": "stderr",
     "output_type": "stream",
     "text": [
      "[Parallel(n_jobs=-1)]: Using backend LokyBackend with 8 concurrent workers.\n",
      "[Parallel(n_jobs=-1)]: Done   4 out of   4 | elapsed:    5.0s remaining:    0.0s\n",
      "[Parallel(n_jobs=-1)]: Done   4 out of   4 | elapsed:    5.0s finished\n"
     ]
    },
    {
     "name": "stdout",
     "output_type": "stream",
     "text": [
      "| \u001b[0m 81      \u001b[0m | \u001b[0m-52.41   \u001b[0m | \u001b[0m 0.9361  \u001b[0m | \u001b[0m 196.0   \u001b[0m |\n"
     ]
    },
    {
     "name": "stderr",
     "output_type": "stream",
     "text": [
      "[Parallel(n_jobs=-1)]: Using backend LokyBackend with 8 concurrent workers.\n",
      "[Parallel(n_jobs=-1)]: Done   4 out of   4 | elapsed:    3.9s remaining:    0.0s\n",
      "[Parallel(n_jobs=-1)]: Done   4 out of   4 | elapsed:    3.9s finished\n"
     ]
    },
    {
     "name": "stdout",
     "output_type": "stream",
     "text": [
      "| \u001b[0m 82      \u001b[0m | \u001b[0m-59.53   \u001b[0m | \u001b[0m 0.6146  \u001b[0m | \u001b[0m 195.4   \u001b[0m |\n"
     ]
    },
    {
     "name": "stderr",
     "output_type": "stream",
     "text": [
      "[Parallel(n_jobs=-1)]: Using backend LokyBackend with 8 concurrent workers.\n",
      "[Parallel(n_jobs=-1)]: Done   4 out of   4 | elapsed:    5.0s remaining:    0.0s\n",
      "[Parallel(n_jobs=-1)]: Done   4 out of   4 | elapsed:    5.0s finished\n"
     ]
    },
    {
     "name": "stdout",
     "output_type": "stream",
     "text": [
      "| \u001b[0m 83      \u001b[0m | \u001b[0m-52.2    \u001b[0m | \u001b[0m 0.925   \u001b[0m | \u001b[0m 194.2   \u001b[0m |\n"
     ]
    },
    {
     "name": "stderr",
     "output_type": "stream",
     "text": [
      "[Parallel(n_jobs=-1)]: Using backend LokyBackend with 8 concurrent workers.\n",
      "[Parallel(n_jobs=-1)]: Done   4 out of   4 | elapsed:    2.3s remaining:    0.0s\n",
      "[Parallel(n_jobs=-1)]: Done   4 out of   4 | elapsed:    2.3s finished\n"
     ]
    },
    {
     "name": "stdout",
     "output_type": "stream",
     "text": [
      "| \u001b[0m 84      \u001b[0m | \u001b[0m-75.27   \u001b[0m | \u001b[0m 0.2446  \u001b[0m | \u001b[0m 194.3   \u001b[0m |\n"
     ]
    },
    {
     "name": "stderr",
     "output_type": "stream",
     "text": [
      "[Parallel(n_jobs=-1)]: Using backend LokyBackend with 8 concurrent workers.\n",
      "[Parallel(n_jobs=-1)]: Done   4 out of   4 | elapsed:    4.9s remaining:    0.0s\n",
      "[Parallel(n_jobs=-1)]: Done   4 out of   4 | elapsed:    4.9s finished\n"
     ]
    },
    {
     "name": "stdout",
     "output_type": "stream",
     "text": [
      "| \u001b[0m 85      \u001b[0m | \u001b[0m-53.12   \u001b[0m | \u001b[0m 0.8917  \u001b[0m | \u001b[0m 193.5   \u001b[0m |\n"
     ]
    },
    {
     "name": "stderr",
     "output_type": "stream",
     "text": [
      "[Parallel(n_jobs=-1)]: Using backend LokyBackend with 8 concurrent workers.\n",
      "[Parallel(n_jobs=-1)]: Done   4 out of   4 | elapsed:    3.6s remaining:    0.0s\n",
      "[Parallel(n_jobs=-1)]: Done   4 out of   4 | elapsed:    3.6s finished\n"
     ]
    },
    {
     "name": "stdout",
     "output_type": "stream",
     "text": [
      "| \u001b[0m 86      \u001b[0m | \u001b[0m-60.94   \u001b[0m | \u001b[0m 0.559   \u001b[0m | \u001b[0m 192.9   \u001b[0m |\n"
     ]
    },
    {
     "name": "stderr",
     "output_type": "stream",
     "text": [
      "[Parallel(n_jobs=-1)]: Using backend LokyBackend with 8 concurrent workers.\n",
      "[Parallel(n_jobs=-1)]: Done   4 out of   4 | elapsed:    4.9s remaining:    0.0s\n",
      "[Parallel(n_jobs=-1)]: Done   4 out of   4 | elapsed:    4.9s finished\n"
     ]
    },
    {
     "name": "stdout",
     "output_type": "stream",
     "text": [
      "| \u001b[0m 87      \u001b[0m | \u001b[0m-52.61   \u001b[0m | \u001b[0m 0.9365  \u001b[0m | \u001b[0m 191.7   \u001b[0m |\n"
     ]
    },
    {
     "name": "stderr",
     "output_type": "stream",
     "text": [
      "[Parallel(n_jobs=-1)]: Using backend LokyBackend with 8 concurrent workers.\n",
      "[Parallel(n_jobs=-1)]: Done   4 out of   4 | elapsed:    2.7s remaining:    0.0s\n",
      "[Parallel(n_jobs=-1)]: Done   4 out of   4 | elapsed:    2.7s finished\n"
     ]
    },
    {
     "name": "stdout",
     "output_type": "stream",
     "text": [
      "| \u001b[0m 88      \u001b[0m | \u001b[0m-68.9    \u001b[0m | \u001b[0m 0.3553  \u001b[0m | \u001b[0m 191.4   \u001b[0m |\n"
     ]
    },
    {
     "name": "stderr",
     "output_type": "stream",
     "text": [
      "[Parallel(n_jobs=-1)]: Using backend LokyBackend with 8 concurrent workers.\n",
      "[Parallel(n_jobs=-1)]: Done   4 out of   4 | elapsed:    5.9s remaining:    0.0s\n",
      "[Parallel(n_jobs=-1)]: Done   4 out of   4 | elapsed:    5.9s finished\n"
     ]
    },
    {
     "name": "stdout",
     "output_type": "stream",
     "text": [
      "| \u001b[0m 89      \u001b[0m | \u001b[0m-51.6    \u001b[0m | \u001b[0m 0.9856  \u001b[0m | \u001b[0m 213.8   \u001b[0m |\n"
     ]
    },
    {
     "name": "stderr",
     "output_type": "stream",
     "text": [
      "[Parallel(n_jobs=-1)]: Using backend LokyBackend with 8 concurrent workers.\n",
      "[Parallel(n_jobs=-1)]: Done   4 out of   4 | elapsed:    4.8s remaining:    0.0s\n",
      "[Parallel(n_jobs=-1)]: Done   4 out of   4 | elapsed:    4.8s finished\n"
     ]
    },
    {
     "name": "stdout",
     "output_type": "stream",
     "text": [
      "| \u001b[0m 90      \u001b[0m | \u001b[0m-53.55   \u001b[0m | \u001b[0m 0.8596  \u001b[0m | \u001b[0m 192.2   \u001b[0m |\n"
     ]
    },
    {
     "name": "stderr",
     "output_type": "stream",
     "text": [
      "[Parallel(n_jobs=-1)]: Using backend LokyBackend with 8 concurrent workers.\n",
      "[Parallel(n_jobs=-1)]: Done   4 out of   4 | elapsed:    1.0s remaining:    0.0s\n",
      "[Parallel(n_jobs=-1)]: Done   4 out of   4 | elapsed:    1.0s finished\n"
     ]
    },
    {
     "name": "stdout",
     "output_type": "stream",
     "text": [
      "| \u001b[0m 91      \u001b[0m | \u001b[0m-68.58   \u001b[0m | \u001b[0m 0.3601  \u001b[0m | \u001b[0m 75.83   \u001b[0m |\n"
     ]
    },
    {
     "name": "stderr",
     "output_type": "stream",
     "text": [
      "[Parallel(n_jobs=-1)]: Using backend LokyBackend with 8 concurrent workers.\n",
      "[Parallel(n_jobs=-1)]: Done   4 out of   4 | elapsed:    0.8s remaining:    0.0s\n",
      "[Parallel(n_jobs=-1)]: Done   4 out of   4 | elapsed:    0.8s finished\n"
     ]
    },
    {
     "name": "stdout",
     "output_type": "stream",
     "text": [
      "| \u001b[0m 92      \u001b[0m | \u001b[0m-52.91   \u001b[0m | \u001b[0m 0.999   \u001b[0m | \u001b[0m 30.99   \u001b[0m |\n"
     ]
    },
    {
     "name": "stderr",
     "output_type": "stream",
     "text": [
      "[Parallel(n_jobs=-1)]: Using backend LokyBackend with 8 concurrent workers.\n",
      "[Parallel(n_jobs=-1)]: Done   4 out of   4 | elapsed:    0.4s remaining:    0.0s\n",
      "[Parallel(n_jobs=-1)]: Done   4 out of   4 | elapsed:    0.4s finished\n"
     ]
    },
    {
     "name": "stdout",
     "output_type": "stream",
     "text": [
      "| \u001b[0m 93      \u001b[0m | \u001b[0m-69.43   \u001b[0m | \u001b[0m 0.3961  \u001b[0m | \u001b[0m 31.4    \u001b[0m |\n"
     ]
    },
    {
     "name": "stderr",
     "output_type": "stream",
     "text": [
      "[Parallel(n_jobs=-1)]: Using backend LokyBackend with 8 concurrent workers.\n",
      "[Parallel(n_jobs=-1)]: Done   4 out of   4 | elapsed:    0.6s remaining:    0.0s\n",
      "[Parallel(n_jobs=-1)]: Done   4 out of   4 | elapsed:    0.6s finished\n"
     ]
    },
    {
     "name": "stdout",
     "output_type": "stream",
     "text": [
      "| \u001b[0m 94      \u001b[0m | \u001b[0m-53.33   \u001b[0m | \u001b[0m 0.9948  \u001b[0m | \u001b[0m 30.35   \u001b[0m |\n"
     ]
    },
    {
     "name": "stderr",
     "output_type": "stream",
     "text": [
      "[Parallel(n_jobs=-1)]: Using backend LokyBackend with 8 concurrent workers.\n",
      "[Parallel(n_jobs=-1)]: Done   4 out of   4 | elapsed:    0.2s remaining:    0.0s\n",
      "[Parallel(n_jobs=-1)]: Done   4 out of   4 | elapsed:    0.2s finished\n",
      "[Parallel(n_jobs=-1)]: Using backend LokyBackend with 8 concurrent workers.\n"
     ]
    },
    {
     "name": "stdout",
     "output_type": "stream",
     "text": [
      "| \u001b[0m 95      \u001b[0m | \u001b[0m-77.56   \u001b[0m | \u001b[0m 0.2536  \u001b[0m | \u001b[0m 30.06   \u001b[0m |\n"
     ]
    },
    {
     "name": "stderr",
     "output_type": "stream",
     "text": [
      "[Parallel(n_jobs=-1)]: Done   4 out of   4 | elapsed:    1.9s remaining:    0.0s\n",
      "[Parallel(n_jobs=-1)]: Done   4 out of   4 | elapsed:    1.9s finished\n"
     ]
    },
    {
     "name": "stdout",
     "output_type": "stream",
     "text": [
      "| \u001b[0m 96      \u001b[0m | \u001b[0m-73.21   \u001b[0m | \u001b[0m 0.2856  \u001b[0m | \u001b[0m 172.4   \u001b[0m |\n"
     ]
    },
    {
     "name": "stderr",
     "output_type": "stream",
     "text": [
      "[Parallel(n_jobs=-1)]: Using backend LokyBackend with 8 concurrent workers.\n",
      "[Parallel(n_jobs=-1)]: Done   4 out of   4 | elapsed:    3.1s remaining:    0.0s\n",
      "[Parallel(n_jobs=-1)]: Done   4 out of   4 | elapsed:    3.1s finished\n"
     ]
    },
    {
     "name": "stdout",
     "output_type": "stream",
     "text": [
      "| \u001b[0m 97      \u001b[0m | \u001b[0m-51.65   \u001b[0m | \u001b[0m 0.999   \u001b[0m | \u001b[0m 111.5   \u001b[0m |\n"
     ]
    },
    {
     "name": "stderr",
     "output_type": "stream",
     "text": [
      "[Parallel(n_jobs=-1)]: Using backend LokyBackend with 8 concurrent workers.\n",
      "[Parallel(n_jobs=-1)]: Done   4 out of   4 | elapsed:    2.7s remaining:    0.0s\n",
      "[Parallel(n_jobs=-1)]: Done   4 out of   4 | elapsed:    2.7s finished\n"
     ]
    },
    {
     "name": "stdout",
     "output_type": "stream",
     "text": [
      "| \u001b[0m 98      \u001b[0m | \u001b[0m-53.58   \u001b[0m | \u001b[0m 0.8662  \u001b[0m | \u001b[0m 110.8   \u001b[0m |\n"
     ]
    },
    {
     "name": "stderr",
     "output_type": "stream",
     "text": [
      "[Parallel(n_jobs=-1)]: Using backend LokyBackend with 8 concurrent workers.\n",
      "[Parallel(n_jobs=-1)]: Done   4 out of   4 | elapsed:    1.7s remaining:    0.0s\n",
      "[Parallel(n_jobs=-1)]: Done   4 out of   4 | elapsed:    1.7s finished\n"
     ]
    },
    {
     "name": "stdout",
     "output_type": "stream",
     "text": [
      "| \u001b[0m 99      \u001b[0m | \u001b[0m-66.1    \u001b[0m | \u001b[0m 0.413   \u001b[0m | \u001b[0m 111.2   \u001b[0m |\n"
     ]
    },
    {
     "name": "stderr",
     "output_type": "stream",
     "text": [
      "[Parallel(n_jobs=-1)]: Using backend LokyBackend with 8 concurrent workers.\n",
      "[Parallel(n_jobs=-1)]: Done   4 out of   4 | elapsed:    3.0s remaining:    0.0s\n",
      "[Parallel(n_jobs=-1)]: Done   4 out of   4 | elapsed:    3.0s finished\n"
     ]
    },
    {
     "name": "stdout",
     "output_type": "stream",
     "text": [
      "| \u001b[0m 100     \u001b[0m | \u001b[0m-51.9    \u001b[0m | \u001b[0m 0.9874  \u001b[0m | \u001b[0m 112.2   \u001b[0m |\n"
     ]
    },
    {
     "name": "stderr",
     "output_type": "stream",
     "text": [
      "[Parallel(n_jobs=-1)]: Using backend LokyBackend with 8 concurrent workers.\n",
      "[Parallel(n_jobs=-1)]: Done   4 out of   4 | elapsed:    3.1s remaining:    0.0s\n",
      "[Parallel(n_jobs=-1)]: Done   4 out of   4 | elapsed:    3.1s finished\n"
     ]
    },
    {
     "name": "stdout",
     "output_type": "stream",
     "text": [
      "| \u001b[0m 101     \u001b[0m | \u001b[0m-51.63   \u001b[0m | \u001b[0m 0.999   \u001b[0m | \u001b[0m 113.0   \u001b[0m |\n"
     ]
    },
    {
     "name": "stderr",
     "output_type": "stream",
     "text": [
      "[Parallel(n_jobs=-1)]: Using backend LokyBackend with 8 concurrent workers.\n",
      "[Parallel(n_jobs=-1)]: Done   4 out of   4 | elapsed:    1.5s remaining:    0.0s\n",
      "[Parallel(n_jobs=-1)]: Done   4 out of   4 | elapsed:    1.5s finished\n"
     ]
    },
    {
     "name": "stdout",
     "output_type": "stream",
     "text": [
      "| \u001b[0m 102     \u001b[0m | \u001b[0m-72.92   \u001b[0m | \u001b[0m 0.3007  \u001b[0m | \u001b[0m 112.6   \u001b[0m |\n"
     ]
    },
    {
     "name": "stderr",
     "output_type": "stream",
     "text": [
      "[Parallel(n_jobs=-1)]: Using backend LokyBackend with 8 concurrent workers.\n",
      "[Parallel(n_jobs=-1)]: Done   4 out of   4 | elapsed:    3.0s remaining:    0.0s\n",
      "[Parallel(n_jobs=-1)]: Done   4 out of   4 | elapsed:    3.0s finished\n"
     ]
    },
    {
     "name": "stdout",
     "output_type": "stream",
     "text": [
      "| \u001b[0m 103     \u001b[0m | \u001b[0m-52.98   \u001b[0m | \u001b[0m 0.9271  \u001b[0m | \u001b[0m 113.8   \u001b[0m |\n"
     ]
    },
    {
     "name": "stderr",
     "output_type": "stream",
     "text": [
      "[Parallel(n_jobs=-1)]: Using backend LokyBackend with 8 concurrent workers.\n",
      "[Parallel(n_jobs=-1)]: Done   4 out of   4 | elapsed:    1.6s remaining:    0.0s\n",
      "[Parallel(n_jobs=-1)]: Done   4 out of   4 | elapsed:    1.6s finished\n"
     ]
    },
    {
     "name": "stdout",
     "output_type": "stream",
     "text": [
      "| \u001b[0m 104     \u001b[0m | \u001b[0m-70.24   \u001b[0m | \u001b[0m 0.3442  \u001b[0m | \u001b[0m 114.2   \u001b[0m |\n"
     ]
    },
    {
     "name": "stderr",
     "output_type": "stream",
     "text": [
      "[Parallel(n_jobs=-1)]: Using backend LokyBackend with 8 concurrent workers.\n"
     ]
    },
    {
     "name": "stdout",
     "output_type": "stream",
     "text": [
      "| \u001b[0m 105     \u001b[0m | \u001b[0m-53.25   \u001b[0m | \u001b[0m 0.899   \u001b[0m | \u001b[0m 110.2   \u001b[0m |\n",
      "=================================================\n",
      "Final result: {'target': -51.035548145844736, 'params': {'max_features': 0.999, 'n_estimators': 400.0}}\n"
     ]
    },
    {
     "name": "stderr",
     "output_type": "stream",
     "text": [
      "[Parallel(n_jobs=-1)]: Done   4 out of   4 | elapsed:    2.8s remaining:    0.0s\n",
      "[Parallel(n_jobs=-1)]: Done   4 out of   4 | elapsed:    2.8s finished\n"
     ]
    }
   ],
   "source": [
    "bayesian_optimise_rf(X, y)"
   ]
  },
  {
   "cell_type": "markdown",
   "metadata": {},
   "source": [
    "**RMSE is 7.14 days, not different with RandomizedSearchCV result.**"
   ]
  },
  {
   "cell_type": "markdown",
   "metadata": {},
   "source": [
    "## 2) RandomizedSearchCV - ElasticNet Regressor"
   ]
  },
  {
   "cell_type": "markdown",
   "metadata": {},
   "source": [
    "### 2.1. Build and Find Tuned Model"
   ]
  },
  {
   "cell_type": "code",
   "execution_count": 48,
   "metadata": {},
   "outputs": [
    {
     "name": "stderr",
     "output_type": "stream",
     "text": [
      "C:\\Users\\bahra\\Anaconda\\lib\\site-packages\\sklearn\\model_selection\\_search.py:278: UserWarning: The total space of parameters 50 is smaller than n_iter=200. Running 50 iterations. For exhaustive searches, use GridSearchCV.\n",
      "  warnings.warn(\n"
     ]
    },
    {
     "name": "stdout",
     "output_type": "stream",
     "text": [
      "Tuned ElasticNet Model hase:\n",
      "alph: 0.0\n",
      "R squared: 0.19\n",
      "RMSE 10.61\n",
      "MAE:8.51 Days\n"
     ]
    },
    {
     "data": {
      "image/png": "[encoded data removed]",
      "text/plain": [
       "<Figure size 1584x432 with 1 Axes>"
      ]
     },
     "metadata": {
      "needs_background": "light"
     },
     "output_type": "display_data"
    }
   ],
   "source": [
    "from sklearn.linear_model import ElasticNet\n",
    "\n",
    "\n",
    "# Specify the hyperparameter search space\n",
    "param_dis= {'alpha':np.logspace(-4,0,50)}\n",
    "\n",
    "# Create the RandomizedSearchCV object\n",
    "estimator= ElasticNet()\n",
    "rand_search_elastic = RandomizedSearchCV(estimator, param_distributions= param_dis, n_iter=200, n_jobs=-1)\n",
    "\n",
    "# Fit to the training set\n",
    "rand_search_elastic.fit(X_train,y_train)\n",
    "\n",
    "\n",
    "\n",
    "#Compute performance metrics of best estimator\n",
    "accuracy = round(rand_search_elastic.best_score_, 2)\n",
    "y_pred = rand_search_elastic.best_estimator_.predict(X_test)\n",
    "r2 = round(rand_search_elastic.best_estimator_.score(X_test, y_test),2)\n",
    "rmse = round(np.sqrt(mean_squared_error(y_test, y_pred)),2)\n",
    "mae = round(mean_absolute_error(y_test, y_pred), 2)             \n",
    "\n",
    "\n",
    "print('Tuned ElasticNet Model hase:')\n",
    "print('alph:', round(rand_search_elastic.best_estimator_.alpha, 2))\n",
    "print('R squared:', r2)\n",
    "print('RMSE', rmse)\n",
    "print('MAE:{} Days'.format(mae))\n",
    "\n",
    "Elastic_coef = pd.Series(rand_search_elastic.best_estimator_.coef_,\n",
    "                         index= X.columns).sort_values(ascending=False)\n",
    "\n",
    "\n",
    "# Plot the coefficients\n",
    "plt.figure(figsize=(22,6))\n",
    "bars= plt.bar(Elastic_coef.index, Elastic_coef, width=0.5)\n",
    "plt.title('Coefficients in Best ElasticNet Model\\n', fontsize=18, color='red')\n",
    "plt.xticks(range(len(X.columns)), X.columns, rotation= 85, fontsize=16)\n",
    "\n",
    "\n",
    "#direct label each bar with Y axis values\n",
    "for bar in bars:\n",
    "    if bar.get_height() >=0 :\n",
    "        plt.gca().text( bar.get_x() + bar.get_width()/2 , bar.get_height()+0.2,\n",
    "                   '{:.1f}'.format(bar.get_height()), ha='center', color='red', fontsize=12) \n",
    "    \n",
    "    else:\n",
    "        plt.gca().text( bar.get_x() + bar.get_width()/2 , bar.get_height()-0.6,\n",
    "                   '{:.1f}'.format(bar.get_height()), ha='center', color='red', fontsize=12) \n",
    "\n",
    "\n",
    "#remove all the ticks on both axes, and tick labels on the Y axis\n",
    "plt.tick_params (top='off', bottom='off', left=False , right=False, labelleft= False, labelbottom='off')\n",
    "\n",
    "#remove frame of the chart\n",
    "for spine in plt.gca().spines.values():\n",
    "    spine.set_visible (False)\n",
    "    \n",
    "plt.grid(which='both')\n",
    "#plt.margins(0.02)\n",
    "plt.show()"
   ]
  },
  {
   "cell_type": "markdown",
   "metadata": {},
   "source": [
    "## 3) Gradient Boosting Regressor"
   ]
  },
  {
   "cell_type": "code",
   "execution_count": 49,
   "metadata": {},
   "outputs": [
    {
     "name": "stdout",
     "output_type": "stream",
     "text": [
      "RMSE: 10.61\n",
      "MAE: 6.11\n"
     ]
    }
   ],
   "source": [
    "from sklearn.ensemble import GradientBoostingRegressor\n",
    "\n",
    "params = {'n_estimators': 500,\n",
    "          'max_depth': 4,\n",
    "          'min_samples_split': 5,\n",
    "          'learning_rate': 0.01,\n",
    "          'loss': 'ls'}\n",
    "\n",
    "grad_boost_reg = GradientBoostingRegressor(**params)\n",
    "grad_boost_reg.fit(X_train, y_train)\n",
    "\n",
    "y_pred= grad_boost_reg.predict(X_test)\n",
    "mse = round(np.sqrt(mean_squared_error(y_test, y_pred)), 2)\n",
    "mae = round(mean_absolute_error(y_test, y_pred),2)\n",
    "print('RMSE: {}'.format(rmse))\n",
    "print('MAE: {}'.format(mae))"
   ]
  }
 ],
 "metadata": {
  "kernelspec": {
   "display_name": "Python 3",
   "language": "python",
   "name": "python3"
  },
  "language_info": {
   "codemirror_mode": {
    "name": "ipython",
    "version": 3
   },
   "file_extension": ".py",
   "mimetype": "text/x-python",
   "name": "python",
   "nbconvert_exporter": "python",
   "pygments_lexer": "ipython3",
   "version": "3.8.3"
  }
 },
 "nbformat": 4,
 "nbformat_minor": 4
}
