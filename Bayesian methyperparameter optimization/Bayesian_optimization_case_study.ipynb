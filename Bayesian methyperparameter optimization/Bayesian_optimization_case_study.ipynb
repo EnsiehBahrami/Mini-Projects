{
 "cells": [
  {
   "cell_type": "markdown",
   "metadata": {
    "colab_type": "text",
    "id": "WNK7vbHo-KYU"
   },
   "source": [
    "## Bayesian methods of hyperparameter optimization"
   ]
  },
  {
   "cell_type": "markdown",
   "metadata": {
    "colab_type": "text",
    "id": "BlFdvPwF-KYW"
   },
   "source": [
    "In addition to the random search and the grid search methods for selecting optimal hyperparameters, we can use Bayesian methods of probabilities to select the optimal hyperparameters for an algorithm.\n",
    "\n",
    "In this case study, we will be using the BayesianOptimization library to perform hyperparmater tuning. This library has very good documentation which you can find here: https://github.com/fmfn/BayesianOptimization"
   ]
  },
  {
   "cell_type": "code",
   "execution_count": 1,
   "metadata": {},
   "outputs": [],
   "source": [
    "#pip install bayesian-optimization"
   ]
  },
  {
   "cell_type": "code",
   "execution_count": 2,
   "metadata": {},
   "outputs": [],
   "source": [
    "#pip install lightgbm"
   ]
  },
  {
   "cell_type": "code",
   "execution_count": 3,
   "metadata": {},
   "outputs": [],
   "source": [
    "#pip install catboost"
   ]
  },
  {
   "cell_type": "code",
   "execution_count": 1,
   "metadata": {
    "ExecuteTime": {
     "end_time": "2019-04-22T16:39:09.312682Z",
     "start_time": "2019-04-22T16:39:09.309208Z"
    },
    "_kg_hide-input": true,
    "colab": {},
    "colab_type": "code",
    "id": "l9nfFTyj-KYY"
   },
   "outputs": [],
   "source": [
    "import warnings\n",
    "warnings.filterwarnings('ignore')\n",
    "from sklearn.preprocessing import LabelEncoder\n",
    "import numpy as np\n",
    "import pandas as pd\n",
    "import lightgbm\n",
    "from bayes_opt import BayesianOptimization\n",
    "from catboost import CatBoostClassifier, cv, Pool\n",
    "import matplotlib.pyplot as plt"
   ]
  },
  {
   "cell_type": "code",
   "execution_count": 2,
   "metadata": {
    "colab": {
     "base_uri": "https://localhost:8080/",
     "height": 85
    },
    "colab_type": "code",
    "id": "D16Dquw1AAK0",
    "outputId": "44167587-f22e-4bf5-a816-e2bcfdc6c4ee"
   },
   "outputs": [
    {
     "data": {
      "text/plain": [
       "['.ipynb_checkpoints',\n",
       " 'Bayesian_optimization_case_study.ipynb',\n",
       " 'data',\n",
       " 'flight_delays_test.csv.zip',\n",
       " 'flight_delays_train.csv.zip']"
      ]
     },
     "execution_count": 2,
     "metadata": {},
     "output_type": "execute_result"
    }
   ],
   "source": [
    "import os\n",
    "os.listdir()"
   ]
  },
  {
   "cell_type": "markdown",
   "metadata": {
    "ExecuteTime": {
     "end_time": "2019-04-22T14:48:15.929012Z",
     "start_time": "2019-04-22T14:48:15.926574Z"
    },
    "colab_type": "text",
    "id": "AkBt3yds-KYu"
   },
   "source": [
    "## How does Bayesian optimization work?"
   ]
  },
  {
   "cell_type": "markdown",
   "metadata": {
    "colab_type": "text",
    "id": "E1kyBCUs-KYv"
   },
   "source": [
    "Bayesian optimization works by constructing a posterior distribution of functions (Gaussian process) that best describes the function you want to optimize. As the number of observations grows, the posterior distribution improves, and the algorithm becomes more certain of which regions in parameter space are worth exploring and which are not, as seen in the picture below."
   ]
  },
  {
   "cell_type": "markdown",
   "metadata": {
    "colab_type": "text",
    "id": "gAdHF72R-KYw"
   },
   "source": [
    "<img src=\"https://github.com/fmfn/BayesianOptimization/blob/master/examples/bo_example.png?raw=true\" />\n",
    "As you iterate over and over, the algorithm balances its needs of exploration and exploitation while taking into account what it knows about the target function. At each step, a Gaussian Process is fitted to the known samples (points previously explored), and the posterior distribution, combined with an exploration strategy (such as UCB — aka Upper Confidence Bound), or EI (Expected Improvement). This process is used to determine the next point that should be explored (see the gif below).\n",
    "<img src=\"https://github.com/fmfn/BayesianOptimization/raw/master/examples/bayesian_optimization.gif\" />"
   ]
  },
  {
   "cell_type": "markdown",
   "metadata": {
    "colab_type": "text",
    "id": "RTP8KUlLoYzu"
   },
   "source": [
    "## Let's look at a simple example"
   ]
  },
  {
   "cell_type": "markdown",
   "metadata": {
    "colab_type": "text",
    "id": "crpPqKdC-KYx"
   },
   "source": [
    "The first step is to create an optimizer. It uses two items:\n",
    "* function to optimize\n",
    "* bounds of parameters\n",
    "\n",
    "The function is the procedure that counts metrics of our model quality. The important thing is that our optimization will maximize the value on function. Smaller metrics are best. Hint: don't forget to use negative metric values."
   ]
  },
  {
   "cell_type": "markdown",
   "metadata": {
    "colab_type": "text",
    "id": "e09ciF8gpTfr"
   },
   "source": [
    "Here we define our simple function we want to optimize."
   ]
  },
  {
   "cell_type": "code",
   "execution_count": 3,
   "metadata": {
    "colab": {},
    "colab_type": "code",
    "id": "ofwvnfEwo5mG"
   },
   "outputs": [],
   "source": [
    "def simple_func(a, b):\n",
    "    return a + b"
   ]
  },
  {
   "cell_type": "markdown",
   "metadata": {
    "colab_type": "text",
    "id": "XCGsdciCpeI3"
   },
   "source": [
    "Now, we define our bounds of the parameters to optimize, within the Bayesian optimizer."
   ]
  },
  {
   "cell_type": "code",
   "execution_count": 4,
   "metadata": {
    "colab": {},
    "colab_type": "code",
    "id": "4jLYW2qnpOFr"
   },
   "outputs": [],
   "source": [
    "optimizer = BayesianOptimization(\n",
    "    simple_func,\n",
    "    {'a': (1, 3),\n",
    "    'b': (4, 7)})"
   ]
  },
  {
   "cell_type": "markdown",
   "metadata": {
    "colab_type": "text",
    "id": "dg6LdYx8pq2T"
   },
   "source": [
    "These are the main parameters of this function:\n",
    "\n",
    "* **n_iter:** This is how many steps of Bayesian optimization you want to perform. The more steps, the more likely you are to find a good maximum.\n",
    "\n",
    "* **init_points:** This is how many steps of random exploration you want to perform. Random exploration can help by diversifying the exploration space."
   ]
  },
  {
   "cell_type": "markdown",
   "metadata": {
    "colab_type": "text",
    "id": "i-GKMJ1uqMYv"
   },
   "source": [
    "Let's run an example where we use the optimizer to find the best values to maximize the target value for a and b given the inputs of 3 and 2."
   ]
  },
  {
   "cell_type": "code",
   "execution_count": 5,
   "metadata": {
    "colab": {
     "base_uri": "https://localhost:8080/",
     "height": 153
    },
    "colab_type": "code",
    "id": "Oy44Ro7wqNat",
    "outputId": "9cc64d54-b1e6-46d1-dc29-4c0039a1c72d"
   },
   "outputs": [
    {
     "name": "stdout",
     "output_type": "stream",
     "text": [
      "|   iter    |  target   |     a     |     b     |\n",
      "-------------------------------------------------\n",
      "| \u001b[0m 1       \u001b[0m | \u001b[0m 7.013   \u001b[0m | \u001b[0m 2.453   \u001b[0m | \u001b[0m 4.559   \u001b[0m |\n",
      "| \u001b[95m 2       \u001b[0m | \u001b[95m 9.107   \u001b[0m | \u001b[95m 2.49    \u001b[0m | \u001b[95m 6.617   \u001b[0m |\n",
      "| \u001b[0m 3       \u001b[0m | \u001b[0m 5.604   \u001b[0m | \u001b[0m 1.103   \u001b[0m | \u001b[0m 4.501   \u001b[0m |\n",
      "| \u001b[0m 4       \u001b[0m | \u001b[0m 8.845   \u001b[0m | \u001b[0m 1.845   \u001b[0m | \u001b[0m 7.0     \u001b[0m |\n",
      "| \u001b[95m 5       \u001b[0m | \u001b[95m 10.0    \u001b[0m | \u001b[95m 3.0     \u001b[0m | \u001b[95m 7.0     \u001b[0m |\n",
      "=================================================\n"
     ]
    }
   ],
   "source": [
    "optimizer.maximize(3,2)"
   ]
  },
  {
   "cell_type": "markdown",
   "metadata": {
    "colab_type": "text",
    "id": "tyKFMF2Hq2Sx"
   },
   "source": [
    "Great, now let's print the best parameters and the associated maximized target."
   ]
  },
  {
   "cell_type": "code",
   "execution_count": 6,
   "metadata": {
    "colab": {
     "base_uri": "https://localhost:8080/",
     "height": 51
    },
    "colab_type": "code",
    "id": "_H6DixyfscV_",
    "outputId": "fd0c35d7-e30d-4d30-9ab2-12c0fa837971"
   },
   "outputs": [
    {
     "name": "stdout",
     "output_type": "stream",
     "text": [
      "{'a': 3.0, 'b': 7.0}\n"
     ]
    },
    {
     "data": {
      "text/plain": [
       "10.0"
      ]
     },
     "execution_count": 6,
     "metadata": {},
     "output_type": "execute_result"
    }
   ],
   "source": [
    "print(optimizer.max['params']);optimizer.max['target']"
   ]
  },
  {
   "cell_type": "markdown",
   "metadata": {
    "colab_type": "text",
    "id": "tQ1T1V6Mspi4"
   },
   "source": [
    "## Test it on real data using the Light GBM"
   ]
  },
  {
   "cell_type": "markdown",
   "metadata": {
    "colab_type": "text",
    "id": "y_oGwREZkm4h"
   },
   "source": [
    "The dataset I will be working with is the famous flight departures dataset. My modeling goal will be to predict if a flight departure is going to be delayed by 15 minutes based on the other attributes in our dataset. I will use Bayesian hyperparameter optimization to identify the best parameters for our model."
   ]
  },
  {
   "cell_type": "markdown",
   "metadata": {
    "colab_type": "text",
    "id": "abYSagjQANDZ"
   },
   "source": [
    "**<font color='teal'> You can load the zipped csv files just as you would regular csv files using Pandas read_csv. In the next cell load the train and test data into two seperate dataframes. </font>**\n"
   ]
  },
  {
   "cell_type": "code",
   "execution_count": 7,
   "metadata": {
    "colab": {},
    "colab_type": "code",
    "id": "EWKBApVuAeJe"
   },
   "outputs": [],
   "source": [
    "train_df = pd.read_csv('flight_delays_train.csv.zip')\n",
    "test_df = pd.read_csv('flight_delays_test.csv.zip')"
   ]
  },
  {
   "cell_type": "markdown",
   "metadata": {
    "colab_type": "text",
    "id": "OapNcT9Eikis"
   },
   "source": [
    "**<font color='teal'> Print the top five rows of the train dataframe and review the columns in the data. </font>**"
   ]
  },
  {
   "cell_type": "code",
   "execution_count": 8,
   "metadata": {
    "colab": {
     "base_uri": "https://localhost:8080/",
     "height": 204
    },
    "colab_type": "code",
    "id": "__4cXZ8iiYaC",
    "outputId": "8718ad4b-8955-486c-9ae8-1dee6aa6c2fb"
   },
   "outputs": [
    {
     "name": "stdout",
     "output_type": "stream",
     "text": [
      "(100000, 9)\n"
     ]
    },
    {
     "data": {
      "text/html": [
       "<div>\n",
       "<style scoped>\n",
       "    .dataframe tbody tr th:only-of-type {\n",
       "        vertical-align: middle;\n",
       "    }\n",
       "\n",
       "    .dataframe tbody tr th {\n",
       "        vertical-align: top;\n",
       "    }\n",
       "\n",
       "    .dataframe thead th {\n",
       "        text-align: right;\n",
       "    }\n",
       "</style>\n",
       "<table border=\"1\" class=\"dataframe\">\n",
       "  <thead>\n",
       "    <tr style=\"text-align: right;\">\n",
       "      <th></th>\n",
       "      <th>Month</th>\n",
       "      <th>DayofMonth</th>\n",
       "      <th>DayOfWeek</th>\n",
       "      <th>DepTime</th>\n",
       "      <th>UniqueCarrier</th>\n",
       "      <th>Origin</th>\n",
       "      <th>Dest</th>\n",
       "      <th>Distance</th>\n",
       "      <th>dep_delayed_15min</th>\n",
       "    </tr>\n",
       "  </thead>\n",
       "  <tbody>\n",
       "    <tr>\n",
       "      <th>0</th>\n",
       "      <td>c-8</td>\n",
       "      <td>c-21</td>\n",
       "      <td>c-7</td>\n",
       "      <td>1934</td>\n",
       "      <td>AA</td>\n",
       "      <td>ATL</td>\n",
       "      <td>DFW</td>\n",
       "      <td>732</td>\n",
       "      <td>N</td>\n",
       "    </tr>\n",
       "    <tr>\n",
       "      <th>1</th>\n",
       "      <td>c-4</td>\n",
       "      <td>c-20</td>\n",
       "      <td>c-3</td>\n",
       "      <td>1548</td>\n",
       "      <td>US</td>\n",
       "      <td>PIT</td>\n",
       "      <td>MCO</td>\n",
       "      <td>834</td>\n",
       "      <td>N</td>\n",
       "    </tr>\n",
       "    <tr>\n",
       "      <th>2</th>\n",
       "      <td>c-9</td>\n",
       "      <td>c-2</td>\n",
       "      <td>c-5</td>\n",
       "      <td>1422</td>\n",
       "      <td>XE</td>\n",
       "      <td>RDU</td>\n",
       "      <td>CLE</td>\n",
       "      <td>416</td>\n",
       "      <td>N</td>\n",
       "    </tr>\n",
       "    <tr>\n",
       "      <th>3</th>\n",
       "      <td>c-11</td>\n",
       "      <td>c-25</td>\n",
       "      <td>c-6</td>\n",
       "      <td>1015</td>\n",
       "      <td>OO</td>\n",
       "      <td>DEN</td>\n",
       "      <td>MEM</td>\n",
       "      <td>872</td>\n",
       "      <td>N</td>\n",
       "    </tr>\n",
       "    <tr>\n",
       "      <th>4</th>\n",
       "      <td>c-10</td>\n",
       "      <td>c-7</td>\n",
       "      <td>c-6</td>\n",
       "      <td>1828</td>\n",
       "      <td>WN</td>\n",
       "      <td>MDW</td>\n",
       "      <td>OMA</td>\n",
       "      <td>423</td>\n",
       "      <td>Y</td>\n",
       "    </tr>\n",
       "  </tbody>\n",
       "</table>\n",
       "</div>"
      ],
      "text/plain": [
       "  Month DayofMonth DayOfWeek  DepTime UniqueCarrier Origin Dest  Distance  \\\n",
       "0   c-8       c-21       c-7     1934            AA    ATL  DFW       732   \n",
       "1   c-4       c-20       c-3     1548            US    PIT  MCO       834   \n",
       "2   c-9        c-2       c-5     1422            XE    RDU  CLE       416   \n",
       "3  c-11       c-25       c-6     1015            OO    DEN  MEM       872   \n",
       "4  c-10        c-7       c-6     1828            WN    MDW  OMA       423   \n",
       "\n",
       "  dep_delayed_15min  \n",
       "0                 N  \n",
       "1                 N  \n",
       "2                 N  \n",
       "3                 N  \n",
       "4                 Y  "
      ]
     },
     "execution_count": 8,
     "metadata": {},
     "output_type": "execute_result"
    }
   ],
   "source": [
    "print(train_df.shape)\n",
    "train_df.head()"
   ]
  },
  {
   "cell_type": "code",
   "execution_count": 9,
   "metadata": {},
   "outputs": [
    {
     "name": "stdout",
     "output_type": "stream",
     "text": [
      "<class 'pandas.core.frame.DataFrame'>\n",
      "RangeIndex: 100000 entries, 0 to 99999\n",
      "Data columns (total 9 columns):\n",
      " #   Column             Non-Null Count   Dtype \n",
      "---  ------             --------------   ----- \n",
      " 0   Month              100000 non-null  object\n",
      " 1   DayofMonth         100000 non-null  object\n",
      " 2   DayOfWeek          100000 non-null  object\n",
      " 3   DepTime            100000 non-null  int64 \n",
      " 4   UniqueCarrier      100000 non-null  object\n",
      " 5   Origin             100000 non-null  object\n",
      " 6   Dest               100000 non-null  object\n",
      " 7   Distance           100000 non-null  int64 \n",
      " 8   dep_delayed_15min  100000 non-null  object\n",
      "dtypes: int64(2), object(7)\n",
      "memory usage: 6.9+ MB\n"
     ]
    }
   ],
   "source": [
    "train_df.info()"
   ]
  },
  {
   "cell_type": "markdown",
   "metadata": {
    "colab_type": "text",
    "id": "UxGBsPQhffgd"
   },
   "source": [
    "**<font color='teal'> Use the describe function to review the numeric columns in the train dataframe. </font>**"
   ]
  },
  {
   "cell_type": "code",
   "execution_count": 10,
   "metadata": {
    "colab": {
     "base_uri": "https://localhost:8080/",
     "height": 297
    },
    "colab_type": "code",
    "id": "_bRRKG3DAtae",
    "outputId": "7cfb9975-ec97-422c-abbd-98923a0b7aec"
   },
   "outputs": [
    {
     "data": {
      "text/html": [
       "<div>\n",
       "<style scoped>\n",
       "    .dataframe tbody tr th:only-of-type {\n",
       "        vertical-align: middle;\n",
       "    }\n",
       "\n",
       "    .dataframe tbody tr th {\n",
       "        vertical-align: top;\n",
       "    }\n",
       "\n",
       "    .dataframe thead th {\n",
       "        text-align: right;\n",
       "    }\n",
       "</style>\n",
       "<table border=\"1\" class=\"dataframe\">\n",
       "  <thead>\n",
       "    <tr style=\"text-align: right;\">\n",
       "      <th></th>\n",
       "      <th>DepTime</th>\n",
       "      <th>Distance</th>\n",
       "    </tr>\n",
       "  </thead>\n",
       "  <tbody>\n",
       "    <tr>\n",
       "      <th>count</th>\n",
       "      <td>100000.000000</td>\n",
       "      <td>100000.00000</td>\n",
       "    </tr>\n",
       "    <tr>\n",
       "      <th>mean</th>\n",
       "      <td>1341.523880</td>\n",
       "      <td>729.39716</td>\n",
       "    </tr>\n",
       "    <tr>\n",
       "      <th>std</th>\n",
       "      <td>476.378445</td>\n",
       "      <td>574.61686</td>\n",
       "    </tr>\n",
       "    <tr>\n",
       "      <th>min</th>\n",
       "      <td>1.000000</td>\n",
       "      <td>30.00000</td>\n",
       "    </tr>\n",
       "    <tr>\n",
       "      <th>25%</th>\n",
       "      <td>931.000000</td>\n",
       "      <td>317.00000</td>\n",
       "    </tr>\n",
       "    <tr>\n",
       "      <th>50%</th>\n",
       "      <td>1330.000000</td>\n",
       "      <td>575.00000</td>\n",
       "    </tr>\n",
       "    <tr>\n",
       "      <th>75%</th>\n",
       "      <td>1733.000000</td>\n",
       "      <td>957.00000</td>\n",
       "    </tr>\n",
       "    <tr>\n",
       "      <th>max</th>\n",
       "      <td>2534.000000</td>\n",
       "      <td>4962.00000</td>\n",
       "    </tr>\n",
       "  </tbody>\n",
       "</table>\n",
       "</div>"
      ],
      "text/plain": [
       "             DepTime      Distance\n",
       "count  100000.000000  100000.00000\n",
       "mean     1341.523880     729.39716\n",
       "std       476.378445     574.61686\n",
       "min         1.000000      30.00000\n",
       "25%       931.000000     317.00000\n",
       "50%      1330.000000     575.00000\n",
       "75%      1733.000000     957.00000\n",
       "max      2534.000000    4962.00000"
      ]
     },
     "execution_count": 10,
     "metadata": {},
     "output_type": "execute_result"
    }
   ],
   "source": [
    "train_df.describe()"
   ]
  },
  {
   "cell_type": "markdown",
   "metadata": {
    "colab_type": "text",
    "id": "i6k-_fI5Aiyh"
   },
   "source": [
    "Notice, `DepTime` is the departure time in a numeric representation in 2400 hours. "
   ]
  },
  {
   "cell_type": "code",
   "execution_count": 12,
   "metadata": {},
   "outputs": [],
   "source": [
    "train_df = train_df[train_df.DepTime <= 2400].copy()"
   ]
  },
  {
   "cell_type": "markdown",
   "metadata": {
    "colab_type": "text",
    "id": "gtZS4-hrlQah"
   },
   "source": [
    " **<font color='teal'>The response variable is 'dep_delayed_15min' which is a categorical column, so we need to map the Y for yes and N for no values to 1 and 0. Run the code in the next cell to do this.</font>**"
   ]
  },
  {
   "cell_type": "code",
   "execution_count": 13,
   "metadata": {},
   "outputs": [
    {
     "data": {
      "image/png": "[encoded data removed]",
      "text/plain": [
       "<Figure size 432x288 with 1 Axes>"
      ]
     },
     "metadata": {
      "needs_background": "light"
     },
     "output_type": "display_data"
    }
   ],
   "source": [
    "y_train = train_df['dep_delayed_15min'].map({'Y': 1, 'N': 0})\n",
    "y_train.hist()\n",
    "plt.show()"
   ]
  },
  {
   "cell_type": "markdown",
   "metadata": {},
   "source": [
    "**Train set is imbalanced.**"
   ]
  },
  {
   "cell_type": "code",
   "execution_count": 15,
   "metadata": {
    "ExecuteTime": {
     "end_time": "2019-04-22T15:38:42.677690Z",
     "start_time": "2019-04-22T15:38:42.481963Z"
    },
    "colab": {},
    "colab_type": "code",
    "id": "yRlOTbnW-KYc"
   },
   "outputs": [],
   "source": [
    "#Turn the Series into an array\n",
    "y_train = train_df['dep_delayed_15min'].map({'Y': 1, 'N': 0}).values"
   ]
  },
  {
   "cell_type": "markdown",
   "metadata": {
    "colab_type": "text",
    "id": "z3WPkFQO9uo9"
   },
   "source": [
    "## Feature Engineering\n",
    "Use these defined functions to create additional features for the model. Run the cell to add the functions to your workspace."
   ]
  },
  {
   "cell_type": "code",
   "execution_count": 16,
   "metadata": {},
   "outputs": [],
   "source": [
    "def label_enc(df_column):\n",
    "    df_column = LabelEncoder().fit_transform(df_column)\n",
    "    return df_column\n",
    "\n",
    "def make_harmonic_features_sin(value, period=2400):\n",
    "    value *= 2 * np.pi / period \n",
    "    return np.sin(value)\n",
    "\n",
    "def make_harmonic_features_cos(value, period=2400):\n",
    "    value *= 2 * np.pi / period \n",
    "    return np.cos(value)\n"
   ]
  },
  {
   "cell_type": "code",
   "execution_count": 17,
   "metadata": {},
   "outputs": [],
   "source": [
    "def feature_eng (df):\n",
    "    #Define flight path\n",
    "    df['flight'] = df['Origin']+ df['Dest']\n",
    "    \n",
    "    #Determine in which season flight happened\n",
    "    df['Month'] = df.Month.map(lambda x: x.split('-')[-1]).astype('int32')\n",
    "    df['winter'] = df['Month'].map(lambda x: x in [12, 1, 2]).astype('int32')\n",
    "    df['spring'] = df['Month'].map(lambda x: x in [3, 4, 5]).astype('int32')\n",
    "    df['summer'] = df['Month'].map(lambda x: x in [6, 7, 8]).astype('int32')\n",
    "    df['autumn'] = df['Month'].map(lambda x: x in [9, 10, 11]).astype('int32')\n",
    "    \n",
    "    \n",
    "    #Determine when the flight happened \n",
    "    df['DayofMonth'] = df.DayofMonth.map(lambda x: x.split('-')[-1]).astype('uint8')\n",
    "    df['begin_of_month'] = (df.DayofMonth < 10).astype('uint8')\n",
    "    df['middle_of_month'] = ((df.DayofMonth >= 10) & (df.DayofMonth < 20)).astype('uint8')\n",
    "    df['end_of_month'] = (df.DayofMonth >= 20).astype('uint8')\n",
    "    \n",
    "    #Determine flight was on weakdays or holiday\n",
    "    df['DayOfWeek'] = df['DayOfWeek'].map(lambda x: x.split('-')[-1]).astype('uint8')\n",
    "    df['weekday'] = (df['DayOfWeek'] <= 5).astype(int)\n",
    "    df['holiday'] = (df['DayOfWeek'] > 5).astype(int)\n",
    "    \n",
    "    #Determine flight was in the morining,day, evening or night\n",
    "    df['hour'] = df.DepTime.map(lambda x: x/100).astype('int32')\n",
    "    df['morning'] = df['hour'].map(lambda x: 1 if (x >= 7) & (x <= 11) else 0).astype('uint8')\n",
    "    df['day'] = df['hour'].map(lambda x: 1 if (x >= 12) & (x <=18) else 0).astype('uint8')\n",
    "    df['evening'] = df['hour'].map(lambda x: 1 if (x >= 19) & (x <= 23) else 0).astype('uint8')\n",
    "    df['night'] = df['hour'].map(lambda x: 1 if (x >= 0) & (x <= 6) else 0).astype('uint8')\n",
    "    \n",
    "    #Count number of times each airport has been Origin and Destination \n",
    "    df['airport_origin_count'] = df.groupby(['Origin'])['Origin'].transform('count')\n",
    "    df['airport_dest_count'] = df.groupby(['Dest'])['Dest'].transform('count')\n",
    "    \n",
    "    #Count number of times each airport has been Origin and Destination per month\n",
    "    df['airport_origin_per_month'] = df.groupby(['Origin', 'Month'])['Origin'].transform('count')\n",
    "    df['airport_des_per_month'] = df.groupby(['Dest','Month'])['Dest'].transform('count')\n",
    "    \n",
    "    #Count number of Destination per Unique Carrier\n",
    "    df['carrier_count'] = df.groupby(['UniqueCarrier'])['Dest'].transform('count')\n",
    "    \n",
    "    #Count the number of Destination per Unique Carrier in each month\n",
    "    df['carrier_count_per_month'] = df.groupby(['UniqueCarrier', 'Month'])['Dest'].transform('count')\n",
    "    \n",
    "    #\n",
    "    df['DepTime_cos'] = df['DepTime'].map(make_harmonic_features_cos)\n",
    "    df['DepTime_sin'] = df['DepTime'].map(make_harmonic_features_sin)\n",
    "    \n",
    "    #Determine each flight path used which of unique carrier\n",
    "    df['flightUC'] = df['flight'] + df['UniqueCarrier']\n",
    "    \n",
    "    #Determine which Unique Carriers entered into each of Destinations\n",
    "    df['DestUC'] = df['Dest'] + df['UniqueCarrier']\n",
    "    \n",
    "    #Determine which Uniqure Carriers left each of Origins\n",
    "    df['OriginUC'] = df['Origin'] + df['UniqueCarrier']\n",
    "    \n",
    "    return df.drop('DepTime', axis=1)"
   ]
  },
  {
   "cell_type": "markdown",
   "metadata": {
    "colab_type": "text",
    "id": "-BYbxXpU-FGE"
   },
   "source": [
    "Concatenate the training and testing dataframes, then apply feature engineering.\n"
   ]
  },
  {
   "cell_type": "code",
   "execution_count": 18,
   "metadata": {},
   "outputs": [],
   "source": [
    "full_df = pd.concat([train_df.drop('dep_delayed_15min', axis=1), test_df])\n",
    "\n",
    "#Apply the earlier defined feature engineering functions to the full dataframe.\n",
    "full_df = feature_eng(full_df)"
   ]
  },
  {
   "cell_type": "code",
   "execution_count": 19,
   "metadata": {},
   "outputs": [],
   "source": [
    "#Encode the categorical features\n",
    "for col in ['UniqueCarrier', 'Origin', 'Dest','flight',  'flightUC', 'DestUC', 'OriginUC']:\n",
    "    full_df[col] = label_enc(full_df[col])"
   ]
  },
  {
   "cell_type": "code",
   "execution_count": 20,
   "metadata": {},
   "outputs": [
    {
     "name": "stdout",
     "output_type": "stream",
     "text": [
      "(199983, 33)\n"
     ]
    },
    {
     "data": {
      "text/html": [
       "<div>\n",
       "<style scoped>\n",
       "    .dataframe tbody tr th:only-of-type {\n",
       "        vertical-align: middle;\n",
       "    }\n",
       "\n",
       "    .dataframe tbody tr th {\n",
       "        vertical-align: top;\n",
       "    }\n",
       "\n",
       "    .dataframe thead th {\n",
       "        text-align: right;\n",
       "    }\n",
       "</style>\n",
       "<table border=\"1\" class=\"dataframe\">\n",
       "  <thead>\n",
       "    <tr style=\"text-align: right;\">\n",
       "      <th></th>\n",
       "      <th>0</th>\n",
       "      <th>1</th>\n",
       "      <th>2</th>\n",
       "      <th>3</th>\n",
       "      <th>4</th>\n",
       "    </tr>\n",
       "  </thead>\n",
       "  <tbody>\n",
       "    <tr>\n",
       "      <th>Month</th>\n",
       "      <td>8.000000</td>\n",
       "      <td>4.000000</td>\n",
       "      <td>9.000000</td>\n",
       "      <td>11.000000</td>\n",
       "      <td>10.000000</td>\n",
       "    </tr>\n",
       "    <tr>\n",
       "      <th>DayofMonth</th>\n",
       "      <td>21.000000</td>\n",
       "      <td>20.000000</td>\n",
       "      <td>2.000000</td>\n",
       "      <td>25.000000</td>\n",
       "      <td>7.000000</td>\n",
       "    </tr>\n",
       "    <tr>\n",
       "      <th>DayOfWeek</th>\n",
       "      <td>7.000000</td>\n",
       "      <td>3.000000</td>\n",
       "      <td>5.000000</td>\n",
       "      <td>6.000000</td>\n",
       "      <td>6.000000</td>\n",
       "    </tr>\n",
       "    <tr>\n",
       "      <th>UniqueCarrier</th>\n",
       "      <td>1.000000</td>\n",
       "      <td>19.000000</td>\n",
       "      <td>21.000000</td>\n",
       "      <td>16.000000</td>\n",
       "      <td>20.000000</td>\n",
       "    </tr>\n",
       "    <tr>\n",
       "      <th>Origin</th>\n",
       "      <td>19.000000</td>\n",
       "      <td>226.000000</td>\n",
       "      <td>239.000000</td>\n",
       "      <td>81.000000</td>\n",
       "      <td>182.000000</td>\n",
       "    </tr>\n",
       "    <tr>\n",
       "      <th>Dest</th>\n",
       "      <td>82.000000</td>\n",
       "      <td>180.000000</td>\n",
       "      <td>62.000000</td>\n",
       "      <td>184.000000</td>\n",
       "      <td>210.000000</td>\n",
       "    </tr>\n",
       "    <tr>\n",
       "      <th>Distance</th>\n",
       "      <td>732.000000</td>\n",
       "      <td>834.000000</td>\n",
       "      <td>416.000000</td>\n",
       "      <td>872.000000</td>\n",
       "      <td>423.000000</td>\n",
       "    </tr>\n",
       "    <tr>\n",
       "      <th>flight</th>\n",
       "      <td>171.000000</td>\n",
       "      <td>3986.000000</td>\n",
       "      <td>4091.000000</td>\n",
       "      <td>1304.000000</td>\n",
       "      <td>2979.000000</td>\n",
       "    </tr>\n",
       "    <tr>\n",
       "      <th>winter</th>\n",
       "      <td>0.000000</td>\n",
       "      <td>0.000000</td>\n",
       "      <td>0.000000</td>\n",
       "      <td>0.000000</td>\n",
       "      <td>0.000000</td>\n",
       "    </tr>\n",
       "    <tr>\n",
       "      <th>spring</th>\n",
       "      <td>0.000000</td>\n",
       "      <td>1.000000</td>\n",
       "      <td>0.000000</td>\n",
       "      <td>0.000000</td>\n",
       "      <td>0.000000</td>\n",
       "    </tr>\n",
       "    <tr>\n",
       "      <th>summer</th>\n",
       "      <td>1.000000</td>\n",
       "      <td>0.000000</td>\n",
       "      <td>0.000000</td>\n",
       "      <td>0.000000</td>\n",
       "      <td>0.000000</td>\n",
       "    </tr>\n",
       "    <tr>\n",
       "      <th>autumn</th>\n",
       "      <td>0.000000</td>\n",
       "      <td>0.000000</td>\n",
       "      <td>1.000000</td>\n",
       "      <td>1.000000</td>\n",
       "      <td>1.000000</td>\n",
       "    </tr>\n",
       "    <tr>\n",
       "      <th>begin_of_month</th>\n",
       "      <td>0.000000</td>\n",
       "      <td>0.000000</td>\n",
       "      <td>1.000000</td>\n",
       "      <td>0.000000</td>\n",
       "      <td>1.000000</td>\n",
       "    </tr>\n",
       "    <tr>\n",
       "      <th>middle_of_month</th>\n",
       "      <td>0.000000</td>\n",
       "      <td>0.000000</td>\n",
       "      <td>0.000000</td>\n",
       "      <td>0.000000</td>\n",
       "      <td>0.000000</td>\n",
       "    </tr>\n",
       "    <tr>\n",
       "      <th>end_of_month</th>\n",
       "      <td>1.000000</td>\n",
       "      <td>1.000000</td>\n",
       "      <td>0.000000</td>\n",
       "      <td>1.000000</td>\n",
       "      <td>0.000000</td>\n",
       "    </tr>\n",
       "    <tr>\n",
       "      <th>weekday</th>\n",
       "      <td>0.000000</td>\n",
       "      <td>1.000000</td>\n",
       "      <td>1.000000</td>\n",
       "      <td>0.000000</td>\n",
       "      <td>0.000000</td>\n",
       "    </tr>\n",
       "    <tr>\n",
       "      <th>holiday</th>\n",
       "      <td>1.000000</td>\n",
       "      <td>0.000000</td>\n",
       "      <td>0.000000</td>\n",
       "      <td>1.000000</td>\n",
       "      <td>1.000000</td>\n",
       "    </tr>\n",
       "    <tr>\n",
       "      <th>hour</th>\n",
       "      <td>19.000000</td>\n",
       "      <td>15.000000</td>\n",
       "      <td>14.000000</td>\n",
       "      <td>10.000000</td>\n",
       "      <td>18.000000</td>\n",
       "    </tr>\n",
       "    <tr>\n",
       "      <th>morning</th>\n",
       "      <td>0.000000</td>\n",
       "      <td>0.000000</td>\n",
       "      <td>0.000000</td>\n",
       "      <td>1.000000</td>\n",
       "      <td>0.000000</td>\n",
       "    </tr>\n",
       "    <tr>\n",
       "      <th>day</th>\n",
       "      <td>0.000000</td>\n",
       "      <td>1.000000</td>\n",
       "      <td>1.000000</td>\n",
       "      <td>0.000000</td>\n",
       "      <td>1.000000</td>\n",
       "    </tr>\n",
       "    <tr>\n",
       "      <th>evening</th>\n",
       "      <td>1.000000</td>\n",
       "      <td>0.000000</td>\n",
       "      <td>0.000000</td>\n",
       "      <td>0.000000</td>\n",
       "      <td>0.000000</td>\n",
       "    </tr>\n",
       "    <tr>\n",
       "      <th>night</th>\n",
       "      <td>0.000000</td>\n",
       "      <td>0.000000</td>\n",
       "      <td>0.000000</td>\n",
       "      <td>0.000000</td>\n",
       "      <td>0.000000</td>\n",
       "    </tr>\n",
       "    <tr>\n",
       "      <th>airport_origin_count</th>\n",
       "      <td>11375.000000</td>\n",
       "      <td>1390.000000</td>\n",
       "      <td>1747.000000</td>\n",
       "      <td>6222.000000</td>\n",
       "      <td>2571.000000</td>\n",
       "    </tr>\n",
       "    <tr>\n",
       "      <th>airport_dest_count</th>\n",
       "      <td>8290.000000</td>\n",
       "      <td>3523.000000</td>\n",
       "      <td>2246.000000</td>\n",
       "      <td>1785.000000</td>\n",
       "      <td>687.000000</td>\n",
       "    </tr>\n",
       "    <tr>\n",
       "      <th>airport_origin_per_month</th>\n",
       "      <td>1016.000000</td>\n",
       "      <td>105.000000</td>\n",
       "      <td>136.000000</td>\n",
       "      <td>514.000000</td>\n",
       "      <td>226.000000</td>\n",
       "    </tr>\n",
       "    <tr>\n",
       "      <th>airport_des_per_month</th>\n",
       "      <td>746.000000</td>\n",
       "      <td>313.000000</td>\n",
       "      <td>166.000000</td>\n",
       "      <td>136.000000</td>\n",
       "      <td>48.000000</td>\n",
       "    </tr>\n",
       "    <tr>\n",
       "      <th>carrier_count</th>\n",
       "      <td>18024.000000</td>\n",
       "      <td>13069.000000</td>\n",
       "      <td>11737.000000</td>\n",
       "      <td>15343.000000</td>\n",
       "      <td>30958.000000</td>\n",
       "    </tr>\n",
       "    <tr>\n",
       "      <th>carrier_count_per_month</th>\n",
       "      <td>1569.000000</td>\n",
       "      <td>1094.000000</td>\n",
       "      <td>977.000000</td>\n",
       "      <td>1242.000000</td>\n",
       "      <td>2674.000000</td>\n",
       "    </tr>\n",
       "    <tr>\n",
       "      <th>DepTime_cos</th>\n",
       "      <td>0.343660</td>\n",
       "      <td>-0.612907</td>\n",
       "      <td>-0.835807</td>\n",
       "      <td>-0.884988</td>\n",
       "      <td>0.073238</td>\n",
       "    </tr>\n",
       "    <tr>\n",
       "      <th>DepTime_sin</th>\n",
       "      <td>-0.939094</td>\n",
       "      <td>-0.790155</td>\n",
       "      <td>-0.549023</td>\n",
       "      <td>0.465615</td>\n",
       "      <td>-0.997314</td>\n",
       "    </tr>\n",
       "    <tr>\n",
       "      <th>flightUC</th>\n",
       "      <td>265.000000</td>\n",
       "      <td>6907.000000</td>\n",
       "      <td>7064.000000</td>\n",
       "      <td>2258.000000</td>\n",
       "      <td>5144.000000</td>\n",
       "    </tr>\n",
       "    <tr>\n",
       "      <th>DestUC</th>\n",
       "      <td>494.000000</td>\n",
       "      <td>1085.000000</td>\n",
       "      <td>359.000000</td>\n",
       "      <td>1122.000000</td>\n",
       "      <td>1313.000000</td>\n",
       "    </tr>\n",
       "    <tr>\n",
       "      <th>OriginUC</th>\n",
       "      <td>67.000000</td>\n",
       "      <td>1441.000000</td>\n",
       "      <td>1518.000000</td>\n",
       "      <td>484.000000</td>\n",
       "      <td>1103.000000</td>\n",
       "    </tr>\n",
       "  </tbody>\n",
       "</table>\n",
       "</div>"
      ],
      "text/plain": [
       "                                     0             1             2  \\\n",
       "Month                         8.000000      4.000000      9.000000   \n",
       "DayofMonth                   21.000000     20.000000      2.000000   \n",
       "DayOfWeek                     7.000000      3.000000      5.000000   \n",
       "UniqueCarrier                 1.000000     19.000000     21.000000   \n",
       "Origin                       19.000000    226.000000    239.000000   \n",
       "Dest                         82.000000    180.000000     62.000000   \n",
       "Distance                    732.000000    834.000000    416.000000   \n",
       "flight                      171.000000   3986.000000   4091.000000   \n",
       "winter                        0.000000      0.000000      0.000000   \n",
       "spring                        0.000000      1.000000      0.000000   \n",
       "summer                        1.000000      0.000000      0.000000   \n",
       "autumn                        0.000000      0.000000      1.000000   \n",
       "begin_of_month                0.000000      0.000000      1.000000   \n",
       "middle_of_month               0.000000      0.000000      0.000000   \n",
       "end_of_month                  1.000000      1.000000      0.000000   \n",
       "weekday                       0.000000      1.000000      1.000000   \n",
       "holiday                       1.000000      0.000000      0.000000   \n",
       "hour                         19.000000     15.000000     14.000000   \n",
       "morning                       0.000000      0.000000      0.000000   \n",
       "day                           0.000000      1.000000      1.000000   \n",
       "evening                       1.000000      0.000000      0.000000   \n",
       "night                         0.000000      0.000000      0.000000   \n",
       "airport_origin_count      11375.000000   1390.000000   1747.000000   \n",
       "airport_dest_count         8290.000000   3523.000000   2246.000000   \n",
       "airport_origin_per_month   1016.000000    105.000000    136.000000   \n",
       "airport_des_per_month       746.000000    313.000000    166.000000   \n",
       "carrier_count             18024.000000  13069.000000  11737.000000   \n",
       "carrier_count_per_month    1569.000000   1094.000000    977.000000   \n",
       "DepTime_cos                   0.343660     -0.612907     -0.835807   \n",
       "DepTime_sin                  -0.939094     -0.790155     -0.549023   \n",
       "flightUC                    265.000000   6907.000000   7064.000000   \n",
       "DestUC                      494.000000   1085.000000    359.000000   \n",
       "OriginUC                     67.000000   1441.000000   1518.000000   \n",
       "\n",
       "                                     3             4  \n",
       "Month                        11.000000     10.000000  \n",
       "DayofMonth                   25.000000      7.000000  \n",
       "DayOfWeek                     6.000000      6.000000  \n",
       "UniqueCarrier                16.000000     20.000000  \n",
       "Origin                       81.000000    182.000000  \n",
       "Dest                        184.000000    210.000000  \n",
       "Distance                    872.000000    423.000000  \n",
       "flight                     1304.000000   2979.000000  \n",
       "winter                        0.000000      0.000000  \n",
       "spring                        0.000000      0.000000  \n",
       "summer                        0.000000      0.000000  \n",
       "autumn                        1.000000      1.000000  \n",
       "begin_of_month                0.000000      1.000000  \n",
       "middle_of_month               0.000000      0.000000  \n",
       "end_of_month                  1.000000      0.000000  \n",
       "weekday                       0.000000      0.000000  \n",
       "holiday                       1.000000      1.000000  \n",
       "hour                         10.000000     18.000000  \n",
       "morning                       1.000000      0.000000  \n",
       "day                           0.000000      1.000000  \n",
       "evening                       0.000000      0.000000  \n",
       "night                         0.000000      0.000000  \n",
       "airport_origin_count       6222.000000   2571.000000  \n",
       "airport_dest_count         1785.000000    687.000000  \n",
       "airport_origin_per_month    514.000000    226.000000  \n",
       "airport_des_per_month       136.000000     48.000000  \n",
       "carrier_count             15343.000000  30958.000000  \n",
       "carrier_count_per_month    1242.000000   2674.000000  \n",
       "DepTime_cos                  -0.884988      0.073238  \n",
       "DepTime_sin                   0.465615     -0.997314  \n",
       "flightUC                   2258.000000   5144.000000  \n",
       "DestUC                     1122.000000   1313.000000  \n",
       "OriginUC                    484.000000   1103.000000  "
      ]
     },
     "execution_count": 20,
     "metadata": {},
     "output_type": "execute_result"
    }
   ],
   "source": [
    "print(full_df.shape)\n",
    "full_df.head().T"
   ]
  },
  {
   "cell_type": "markdown",
   "metadata": {
    "colab_type": "text",
    "id": "IJAw1RGB_ZuM"
   },
   "source": [
    "\n",
    "Split the new full dataframe into X_train and X_test. "
   ]
  },
  {
   "cell_type": "code",
   "execution_count": 21,
   "metadata": {
    "colab": {},
    "colab_type": "code",
    "id": "15cPtQU5tjfz"
   },
   "outputs": [],
   "source": [
    "X_train = full_df[:train_df.shape[0]]\n",
    "X_test = full_df[train_df.shape[0]:]"
   ]
  },
  {
   "cell_type": "markdown",
   "metadata": {
    "colab_type": "text",
    "id": "NzMIsMPIETVk"
   },
   "source": [
    "## 2 .Build a light GBM model to test the bayesian optimizer."
   ]
  },
  {
   "cell_type": "markdown",
   "metadata": {
    "ExecuteTime": {
     "end_time": "2019-04-22T15:18:04.466965Z",
     "start_time": "2019-04-22T15:18:04.457992Z"
    },
    "colab_type": "text",
    "id": "2hfm1i5G-KZH"
   },
   "source": [
    "### [LightGBM](https://lightgbm.readthedocs.io/en/latest/) is a gradient boosting framework that uses tree-based learning algorithms. It is designed to be distributed and efficient with the following advantages:\n",
    "\n",
    "* Faster training speed and higher efficiency.\n",
    "* Lower memory usage.\n",
    "* Better accuracy.\n",
    "* Support of parallel and GPU learning.\n",
    "* Capable of handling large-scale data."
   ]
  },
  {
   "cell_type": "markdown",
   "metadata": {
    "colab_type": "text",
    "id": "umfAw-9JErLV"
   },
   "source": [
    "Create a list of the categorical features."
   ]
  },
  {
   "cell_type": "code",
   "execution_count": 22,
   "metadata": {
    "ExecuteTime": {
     "end_time": "2019-04-22T14:31:58.412296Z",
     "start_time": "2019-04-22T14:31:58.409088Z"
    },
    "colab": {},
    "colab_type": "code",
    "id": "5ibeVyNb-KZI"
   },
   "outputs": [],
   "source": [
    "#Create a list of categorical features while their values are numeric\n",
    "categorical_features = ['Month',  'DayOfWeek', 'UniqueCarrier', 'Origin', 'Dest','flight',  'flightUC', 'DestUC', 'OriginUC']"
   ]
  },
  {
   "cell_type": "markdown",
   "metadata": {
    "colab_type": "text",
    "id": "jf-3F2Wg-KZL"
   },
   "source": [
    "**Define the function I want to maximize and that will count cross-validation metrics of lightGBM for the hyperparameters.**\n",
    "\n",
    "Some params such as num_leaves, max_depth, min_child_samples, min_data_in_leaf should be integers."
   ]
  },
  {
   "cell_type": "code",
   "execution_count": 25,
   "metadata": {},
   "outputs": [],
   "source": [
    "def lgb_eval(num_leaves, max_depth, lambda_l2 , lambda_l1, min_child_samples, min_data_in_leaf):\n",
    "    \n",
    "    #set the params\n",
    "    params = {'objective': 'binary',\n",
    "              'metric': 'auc',\n",
    "              'is_unbalance': True,    #Train set is imbalanced\n",
    "              'num_leaves': int(num_leaves),\n",
    "              'max_depth': int(max_depth),\n",
    "              'lambdal2': lambda_l2,   #L2 regularization\n",
    "              'lambda_l1' :lambda_l1,  #L1 regularization\n",
    "              'num_thread': 20,        #set this to the number of real CPU cores\n",
    "              'min_child_samples': int(min_child_samples),\n",
    "              'min_data_in_leaf': int(min_data_in_leaf),\n",
    "              'learning_rate' : 0.03,\n",
    "              'subsample_freq' : 5,    #frequency for bagging; perform bagging at every 5 iteration\n",
    "              'bagging_seed': 42,\n",
    "              'verbosity': -1          #controls the level of LightGBM’s verbosity. verbosity<0 :Fatal\n",
    "              \n",
    "    }\n",
    "    \n",
    "    lgtrain = lightgbm.Dataset(X_train, y_train, categorical_feature = categorical_features)\n",
    "    \n",
    "    #cross-validation with given paramaters.\n",
    "    cv_result = lightgbm.cv(params, \n",
    "                            train_set = lgtrain,\n",
    "                            num_boost_round= 1000,       #Number of boosting iterations\n",
    "                            early_stopping_rounds= 100,  #CV score needs to improve at least every 100 rounds to continue.\n",
    "                            stratified = True,           #perform stratified sampling.\n",
    "                            nfold= 3\n",
    "                           )\n",
    "    \n",
    "    return cv_result['auc-mean'][-1]"
   ]
  },
  {
   "cell_type": "markdown",
   "metadata": {
    "colab_type": "text",
    "id": "FJwqBhdeF11Q"
   },
   "source": [
    "#### Apply the Bayesian optimizer to the function created in the previous step to identify the best hyperparameters. I will run 10 iterations and set init_points = 2.\n"
   ]
  },
  {
   "cell_type": "code",
   "execution_count": 28,
   "metadata": {
    "ExecuteTime": {
     "end_time": "2019-04-22T15:48:04.682447Z",
     "start_time": "2019-04-22T15:40:14.641634Z"
    },
    "colab": {
     "base_uri": "https://localhost:8080/",
     "height": 51
    },
    "colab_type": "code",
    "id": "JheCOkUE-KZP",
    "outputId": "8f37ee51-885d-44e4-cdcd-ceb7abd58b61"
   },
   "outputs": [
    {
     "name": "stdout",
     "output_type": "stream",
     "text": [
      "|   iter    |  target   | lambda_l1 | lambda_l2 | max_depth | min_ch... | min_da... | num_le... |\n",
      "-------------------------------------------------------------------------------------------------\n",
      "| \u001b[0m 1       \u001b[0m | \u001b[0m 0.744   \u001b[0m | \u001b[0m 0.0363  \u001b[0m | \u001b[0m 0.04351 \u001b[0m | \u001b[0m 38.2    \u001b[0m | \u001b[0m 9.768e+0\u001b[0m | \u001b[0m 1.847e+0\u001b[0m | \u001b[0m 881.9   \u001b[0m |\n",
      "| \u001b[0m 2       \u001b[0m | \u001b[0m 0.7195  \u001b[0m | \u001b[0m 0.03067 \u001b[0m | \u001b[0m 0.02003 \u001b[0m | \u001b[0m 52.44   \u001b[0m | \u001b[0m 7.945e+0\u001b[0m | \u001b[0m 314.3   \u001b[0m | \u001b[0m 1.362e+0\u001b[0m |\n",
      "| \u001b[95m 3       \u001b[0m | \u001b[95m 0.7442  \u001b[0m | \u001b[95m 0.03957 \u001b[0m | \u001b[95m 0.04686 \u001b[0m | \u001b[95m 59.51   \u001b[0m | \u001b[95m 9.874e+0\u001b[0m | \u001b[95m 1.565e+0\u001b[0m | \u001b[95m 3.235e+0\u001b[0m |\n",
      "| \u001b[0m 4       \u001b[0m | \u001b[0m 0.7442  \u001b[0m | \u001b[0m 0.03923 \u001b[0m | \u001b[0m 0.04896 \u001b[0m | \u001b[0m 61.62   \u001b[0m | \u001b[0m 9.892e+0\u001b[0m | \u001b[0m 1.704e+0\u001b[0m | \u001b[0m 3.399e+0\u001b[0m |\n",
      "| \u001b[95m 5       \u001b[0m | \u001b[95m 0.7445  \u001b[0m | \u001b[95m 0.002526\u001b[0m | \u001b[95m 0.008176\u001b[0m | \u001b[95m 30.93   \u001b[0m | \u001b[95m 3.073e+0\u001b[0m | \u001b[95m 1.718e+0\u001b[0m | \u001b[95m 3.615e+0\u001b[0m |\n",
      "| \u001b[95m 6       \u001b[0m | \u001b[95m 0.7449  \u001b[0m | \u001b[95m 0.009934\u001b[0m | \u001b[95m 0.01158 \u001b[0m | \u001b[95m 25.6    \u001b[0m | \u001b[95m 9.9e+03 \u001b[0m | \u001b[95m 1.678e+0\u001b[0m | \u001b[95m 3.347e+0\u001b[0m |\n",
      "| \u001b[0m 7       \u001b[0m | \u001b[0m 0.7446  \u001b[0m | \u001b[0m 0.01764 \u001b[0m | \u001b[0m 0.04168 \u001b[0m | \u001b[0m 47.48   \u001b[0m | \u001b[0m 1.356e+0\u001b[0m | \u001b[0m 1.754e+0\u001b[0m | \u001b[0m 3.273e+0\u001b[0m |\n",
      "| \u001b[0m 8       \u001b[0m | \u001b[0m 0.7444  \u001b[0m | \u001b[0m 0.03075 \u001b[0m | \u001b[0m 0.005643\u001b[0m | \u001b[0m 12.2    \u001b[0m | \u001b[0m 2.532e+0\u001b[0m | \u001b[0m 1.786e+0\u001b[0m | \u001b[0m 1.951e+0\u001b[0m |\n",
      "| \u001b[0m 9       \u001b[0m | \u001b[0m 0.7191  \u001b[0m | \u001b[0m 0.01188 \u001b[0m | \u001b[0m 0.02852 \u001b[0m | \u001b[0m 15.92   \u001b[0m | \u001b[0m 2.3e+03 \u001b[0m | \u001b[0m 351.3   \u001b[0m | \u001b[0m 2.982e+0\u001b[0m |\n",
      "| \u001b[0m 10      \u001b[0m | \u001b[0m 0.7443  \u001b[0m | \u001b[0m 0.006734\u001b[0m | \u001b[0m 0.03625 \u001b[0m | \u001b[0m 25.53   \u001b[0m | \u001b[0m 3.825e+0\u001b[0m | \u001b[0m 1.942e+0\u001b[0m | \u001b[0m 2.495e+0\u001b[0m |\n",
      "| \u001b[0m 11      \u001b[0m | \u001b[0m 0.7434  \u001b[0m | \u001b[0m 0.01975 \u001b[0m | \u001b[0m 0.04709 \u001b[0m | \u001b[0m 49.61   \u001b[0m | \u001b[0m 6.865e+0\u001b[0m | \u001b[0m 1.147e+0\u001b[0m | \u001b[0m 3.342e+0\u001b[0m |\n",
      "| \u001b[0m 12      \u001b[0m | \u001b[0m 0.7441  \u001b[0m | \u001b[0m 0.02141 \u001b[0m | \u001b[0m 0.01066 \u001b[0m | \u001b[0m 48.07   \u001b[0m | \u001b[0m 4.372e+0\u001b[0m | \u001b[0m 1.992e+0\u001b[0m | \u001b[0m 3.892e+0\u001b[0m |\n",
      "=================================================================================================\n"
     ]
    }
   ],
   "source": [
    "lgbBO = BayesianOptimization(lgb_eval,\n",
    "                            {'num_leaves': (25,4000),\n",
    "                             'max_depth': (5,63),\n",
    "                             'lambda_l2': (0.0, 0.05),\n",
    "                             'lambda_l1': (0.0, 0.05),\n",
    "                             'min_child_samples': (50, 10000),\n",
    "                             'min_data_in_leaf': (100, 2000)}\n",
    "                            )\n",
    "\n",
    "lgbBO.maximize(n_iter= 10, init_points= 2)"
   ]
  },
  {
   "cell_type": "markdown",
   "metadata": {
    "colab_type": "text",
    "id": "rdkxhhST-KZS"
   },
   "source": [
    " **<font color='teal'> Print the best result by using the '.max' function.</font>**"
   ]
  },
  {
   "cell_type": "code",
   "execution_count": 29,
   "metadata": {
    "ExecuteTime": {
     "end_time": "2019-04-22T15:49:01.513767Z",
     "start_time": "2019-04-22T15:49:01.509392Z"
    },
    "colab": {},
    "colab_type": "code",
    "id": "oc8z6mfy-KZS"
   },
   "outputs": [
    {
     "data": {
      "text/plain": [
       "{'target': 0.74493434864707,\n",
       " 'params': {'lambda_l1': 0.00993432054290196,\n",
       "  'lambda_l2': 0.011580014223130031,\n",
       "  'max_depth': 25.603798213513908,\n",
       "  'min_child_samples': 9899.753365075921,\n",
       "  'min_data_in_leaf': 1678.3621992858414,\n",
       "  'num_leaves': 3346.9060881735404}}"
      ]
     },
     "execution_count": 29,
     "metadata": {},
     "output_type": "execute_result"
    }
   ],
   "source": [
    "lgbBO.max"
   ]
  },
  {
   "cell_type": "markdown",
   "metadata": {
    "ExecuteTime": {
     "end_time": "2019-04-22T15:50:29.049881Z",
     "start_time": "2019-04-22T15:50:29.045908Z"
    },
    "colab_type": "text",
    "id": "J5LAydKC-KZW"
   },
   "source": [
    "Review the process at each step by using the '.res[0]' function."
   ]
  },
  {
   "cell_type": "code",
   "execution_count": 30,
   "metadata": {
    "ExecuteTime": {
     "end_time": "2019-04-22T15:51:01.001688Z",
     "start_time": "2019-04-22T15:51:00.997484Z"
    },
    "colab": {},
    "colab_type": "code",
    "id": "X1ttZmrI-KZX"
   },
   "outputs": [
    {
     "data": {
      "text/plain": [
       "{'target': 0.7440272173149056,\n",
       " 'params': {'lambda_l1': 0.036296178570181414,\n",
       "  'lambda_l2': 0.04351046208015619,\n",
       "  'max_depth': 38.19760534742328,\n",
       "  'min_child_samples': 9767.923340358571,\n",
       "  'min_data_in_leaf': 1846.9196802160634,\n",
       "  'num_leaves': 881.872883266302}}"
      ]
     },
     "execution_count": 30,
     "metadata": {},
     "output_type": "execute_result"
    }
   ],
   "source": [
    "lgbBO.res[0]"
   ]
  },
  {
   "cell_type": "code",
   "execution_count": null,
   "metadata": {},
   "outputs": [],
   "source": []
  }
 ],
 "metadata": {
  "colab": {
   "name": "Bayesian_optimization_exercise.ipynb",
   "provenance": []
  },
  "deepnote_execution_queue": [],
  "kernelspec": {
   "display_name": "Python 3",
   "language": "python",
   "name": "python3"
  },
  "language_info": {
   "codemirror_mode": {
    "name": "ipython",
    "version": 3
   },
   "file_extension": ".py",
   "mimetype": "text/x-python",
   "name": "python",
   "nbconvert_exporter": "python",
   "pygments_lexer": "ipython3",
   "version": "3.8.3"
  },
  "varInspector": {
   "cols": {
    "lenName": 16,
    "lenType": 16,
    "lenVar": 40
   },
   "kernels_config": {
    "python": {
     "delete_cmd_postfix": "",
     "delete_cmd_prefix": "del ",
     "library": "var_list.py",
     "varRefreshCmd": "print(var_dic_list())"
    },
    "r": {
     "delete_cmd_postfix": ") ",
     "delete_cmd_prefix": "rm(",
     "library": "var_list.r",
     "varRefreshCmd": "cat(var_dic_list()) "
    }
   },
   "types_to_exclude": [
    "module",
    "function",
    "builtin_function_or_method",
    "instance",
    "_Feature"
   ],
   "window_display": false
  }
 },
 "nbformat": 4,
 "nbformat_minor": 1
}
